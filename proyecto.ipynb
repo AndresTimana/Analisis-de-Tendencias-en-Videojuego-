{
 "cells": [
  {
   "cell_type": "markdown",
   "metadata": {},
   "source": [
    "# Tendecias de Videojuegos "
   ]
  },
  {
   "cell_type": "markdown",
   "metadata": {},
   "source": [
    "Trabajas para la tienda online Ice que vende videojuegos por todo el mundo. Las reseñas de usuarios y expertos, los géneros, las plataformas (por ejemplo, Xbox o PlayStation) y los datos históricos sobre las ventas de juegos están disponibles en fuentes abiertas. Tienes que identificar patrones que determinen si un juego tiene éxito o no. Esto te permitirá detectar proyectos prometedores y planificar campañas publicitarias."
   ]
  },
  {
   "cell_type": "markdown",
   "metadata": {
    "tags": [
     "e5c1f0c2-db9f-43a0-99b9-4875c52427e8"
    ]
   },
   "source": [
    "## cargar librerias"
   ]
  },
  {
   "cell_type": "code",
   "execution_count": 42,
   "metadata": {
    "trusted": true
   },
   "outputs": [],
   "source": [
    "import pandas as pd\n",
    "from matplotlib import pyplot as plt\n",
    "import seaborn as sns\n",
    "import numpy as np\n",
    "from scipy import stats as st"
   ]
  },
  {
   "cell_type": "markdown",
   "metadata": {},
   "source": [
    "## cargar dataset"
   ]
  },
  {
   "cell_type": "code",
   "execution_count": 43,
   "metadata": {
    "trusted": true
   },
   "outputs": [],
   "source": [
    "df_games = pd.read_csv('games.csv')"
   ]
  },
  {
   "cell_type": "code",
   "execution_count": 44,
   "metadata": {
    "trusted": true
   },
   "outputs": [
    {
     "data": {
      "text/html": [
       "<div>\n",
       "<style scoped>\n",
       "    .dataframe tbody tr th:only-of-type {\n",
       "        vertical-align: middle;\n",
       "    }\n",
       "\n",
       "    .dataframe tbody tr th {\n",
       "        vertical-align: top;\n",
       "    }\n",
       "\n",
       "    .dataframe thead th {\n",
       "        text-align: right;\n",
       "    }\n",
       "</style>\n",
       "<table border=\"1\" class=\"dataframe\">\n",
       "  <thead>\n",
       "    <tr style=\"text-align: right;\">\n",
       "      <th></th>\n",
       "      <th>Name</th>\n",
       "      <th>Platform</th>\n",
       "      <th>Year_of_Release</th>\n",
       "      <th>Genre</th>\n",
       "      <th>NA_sales</th>\n",
       "      <th>EU_sales</th>\n",
       "      <th>JP_sales</th>\n",
       "      <th>Other_sales</th>\n",
       "      <th>Critic_Score</th>\n",
       "      <th>User_Score</th>\n",
       "      <th>Rating</th>\n",
       "    </tr>\n",
       "  </thead>\n",
       "  <tbody>\n",
       "    <tr>\n",
       "      <th>0</th>\n",
       "      <td>Wii Sports</td>\n",
       "      <td>Wii</td>\n",
       "      <td>2006.0</td>\n",
       "      <td>Sports</td>\n",
       "      <td>41.36</td>\n",
       "      <td>28.96</td>\n",
       "      <td>3.77</td>\n",
       "      <td>8.45</td>\n",
       "      <td>76.0</td>\n",
       "      <td>8</td>\n",
       "      <td>E</td>\n",
       "    </tr>\n",
       "    <tr>\n",
       "      <th>1</th>\n",
       "      <td>Super Mario Bros.</td>\n",
       "      <td>NES</td>\n",
       "      <td>1985.0</td>\n",
       "      <td>Platform</td>\n",
       "      <td>29.08</td>\n",
       "      <td>3.58</td>\n",
       "      <td>6.81</td>\n",
       "      <td>0.77</td>\n",
       "      <td>NaN</td>\n",
       "      <td>NaN</td>\n",
       "      <td>NaN</td>\n",
       "    </tr>\n",
       "    <tr>\n",
       "      <th>2</th>\n",
       "      <td>Mario Kart Wii</td>\n",
       "      <td>Wii</td>\n",
       "      <td>2008.0</td>\n",
       "      <td>Racing</td>\n",
       "      <td>15.68</td>\n",
       "      <td>12.76</td>\n",
       "      <td>3.79</td>\n",
       "      <td>3.29</td>\n",
       "      <td>82.0</td>\n",
       "      <td>8.3</td>\n",
       "      <td>E</td>\n",
       "    </tr>\n",
       "    <tr>\n",
       "      <th>3</th>\n",
       "      <td>Wii Sports Resort</td>\n",
       "      <td>Wii</td>\n",
       "      <td>2009.0</td>\n",
       "      <td>Sports</td>\n",
       "      <td>15.61</td>\n",
       "      <td>10.93</td>\n",
       "      <td>3.28</td>\n",
       "      <td>2.95</td>\n",
       "      <td>80.0</td>\n",
       "      <td>8</td>\n",
       "      <td>E</td>\n",
       "    </tr>\n",
       "    <tr>\n",
       "      <th>4</th>\n",
       "      <td>Pokemon Red/Pokemon Blue</td>\n",
       "      <td>GB</td>\n",
       "      <td>1996.0</td>\n",
       "      <td>Role-Playing</td>\n",
       "      <td>11.27</td>\n",
       "      <td>8.89</td>\n",
       "      <td>10.22</td>\n",
       "      <td>1.00</td>\n",
       "      <td>NaN</td>\n",
       "      <td>NaN</td>\n",
       "      <td>NaN</td>\n",
       "    </tr>\n",
       "  </tbody>\n",
       "</table>\n",
       "</div>"
      ],
      "text/plain": [
       "                       Name Platform  Year_of_Release         Genre  NA_sales  \\\n",
       "0                Wii Sports      Wii           2006.0        Sports     41.36   \n",
       "1         Super Mario Bros.      NES           1985.0      Platform     29.08   \n",
       "2            Mario Kart Wii      Wii           2008.0        Racing     15.68   \n",
       "3         Wii Sports Resort      Wii           2009.0        Sports     15.61   \n",
       "4  Pokemon Red/Pokemon Blue       GB           1996.0  Role-Playing     11.27   \n",
       "\n",
       "   EU_sales  JP_sales  Other_sales  Critic_Score User_Score Rating  \n",
       "0     28.96      3.77         8.45          76.0          8      E  \n",
       "1      3.58      6.81         0.77           NaN        NaN    NaN  \n",
       "2     12.76      3.79         3.29          82.0        8.3      E  \n",
       "3     10.93      3.28         2.95          80.0          8      E  \n",
       "4      8.89     10.22         1.00           NaN        NaN    NaN  "
      ]
     },
     "execution_count": 44,
     "metadata": {},
     "output_type": "execute_result"
    }
   ],
   "source": [
    "# vista general\n",
    "df_games.head()"
   ]
  },
  {
   "cell_type": "code",
   "execution_count": 45,
   "metadata": {
    "trusted": true
   },
   "outputs": [
    {
     "name": "stdout",
     "output_type": "stream",
     "text": [
      "<class 'pandas.core.frame.DataFrame'>\n",
      "RangeIndex: 16715 entries, 0 to 16714\n",
      "Data columns (total 11 columns):\n",
      " #   Column           Non-Null Count  Dtype  \n",
      "---  ------           --------------  -----  \n",
      " 0   Name             16713 non-null  object \n",
      " 1   Platform         16715 non-null  object \n",
      " 2   Year_of_Release  16446 non-null  float64\n",
      " 3   Genre            16713 non-null  object \n",
      " 4   NA_sales         16715 non-null  float64\n",
      " 5   EU_sales         16715 non-null  float64\n",
      " 6   JP_sales         16715 non-null  float64\n",
      " 7   Other_sales      16715 non-null  float64\n",
      " 8   Critic_Score     8137 non-null   float64\n",
      " 9   User_Score       10014 non-null  object \n",
      " 10  Rating           9949 non-null   object \n",
      "dtypes: float64(6), object(5)\n",
      "memory usage: 1.4+ MB\n"
     ]
    }
   ],
   "source": [
    "# información general\n",
    "df_games.info()"
   ]
  },
  {
   "cell_type": "markdown",
   "metadata": {},
   "source": [
    "## preparación de datos"
   ]
  },
  {
   "cell_type": "code",
   "execution_count": 46,
   "metadata": {
    "trusted": true
   },
   "outputs": [
    {
     "data": {
      "text/html": [
       "<div>\n",
       "<style scoped>\n",
       "    .dataframe tbody tr th:only-of-type {\n",
       "        vertical-align: middle;\n",
       "    }\n",
       "\n",
       "    .dataframe tbody tr th {\n",
       "        vertical-align: top;\n",
       "    }\n",
       "\n",
       "    .dataframe thead th {\n",
       "        text-align: right;\n",
       "    }\n",
       "</style>\n",
       "<table border=\"1\" class=\"dataframe\">\n",
       "  <thead>\n",
       "    <tr style=\"text-align: right;\">\n",
       "      <th></th>\n",
       "      <th>name</th>\n",
       "      <th>platform</th>\n",
       "      <th>year_of_release</th>\n",
       "      <th>genre</th>\n",
       "      <th>na_sales</th>\n",
       "      <th>eu_sales</th>\n",
       "      <th>jp_sales</th>\n",
       "      <th>other_sales</th>\n",
       "      <th>critic_score</th>\n",
       "      <th>user_score</th>\n",
       "      <th>rating</th>\n",
       "    </tr>\n",
       "  </thead>\n",
       "  <tbody>\n",
       "    <tr>\n",
       "      <th>0</th>\n",
       "      <td>wii sports</td>\n",
       "      <td>wii</td>\n",
       "      <td>2006.0</td>\n",
       "      <td>sports</td>\n",
       "      <td>41.36</td>\n",
       "      <td>28.96</td>\n",
       "      <td>3.77</td>\n",
       "      <td>8.45</td>\n",
       "      <td>76.0</td>\n",
       "      <td>8</td>\n",
       "      <td>E</td>\n",
       "    </tr>\n",
       "    <tr>\n",
       "      <th>1</th>\n",
       "      <td>super mario bros.</td>\n",
       "      <td>nes</td>\n",
       "      <td>1985.0</td>\n",
       "      <td>platform</td>\n",
       "      <td>29.08</td>\n",
       "      <td>3.58</td>\n",
       "      <td>6.81</td>\n",
       "      <td>0.77</td>\n",
       "      <td>NaN</td>\n",
       "      <td>NaN</td>\n",
       "      <td>NaN</td>\n",
       "    </tr>\n",
       "    <tr>\n",
       "      <th>2</th>\n",
       "      <td>mario kart wii</td>\n",
       "      <td>wii</td>\n",
       "      <td>2008.0</td>\n",
       "      <td>racing</td>\n",
       "      <td>15.68</td>\n",
       "      <td>12.76</td>\n",
       "      <td>3.79</td>\n",
       "      <td>3.29</td>\n",
       "      <td>82.0</td>\n",
       "      <td>8.3</td>\n",
       "      <td>E</td>\n",
       "    </tr>\n",
       "    <tr>\n",
       "      <th>3</th>\n",
       "      <td>wii sports resort</td>\n",
       "      <td>wii</td>\n",
       "      <td>2009.0</td>\n",
       "      <td>sports</td>\n",
       "      <td>15.61</td>\n",
       "      <td>10.93</td>\n",
       "      <td>3.28</td>\n",
       "      <td>2.95</td>\n",
       "      <td>80.0</td>\n",
       "      <td>8</td>\n",
       "      <td>E</td>\n",
       "    </tr>\n",
       "    <tr>\n",
       "      <th>4</th>\n",
       "      <td>pokemon red/pokemon blue</td>\n",
       "      <td>gb</td>\n",
       "      <td>1996.0</td>\n",
       "      <td>role-playing</td>\n",
       "      <td>11.27</td>\n",
       "      <td>8.89</td>\n",
       "      <td>10.22</td>\n",
       "      <td>1.00</td>\n",
       "      <td>NaN</td>\n",
       "      <td>NaN</td>\n",
       "      <td>NaN</td>\n",
       "    </tr>\n",
       "  </tbody>\n",
       "</table>\n",
       "</div>"
      ],
      "text/plain": [
       "                       name platform  year_of_release         genre  na_sales  \\\n",
       "0                wii sports      wii           2006.0        sports     41.36   \n",
       "1         super mario bros.      nes           1985.0      platform     29.08   \n",
       "2            mario kart wii      wii           2008.0        racing     15.68   \n",
       "3         wii sports resort      wii           2009.0        sports     15.61   \n",
       "4  pokemon red/pokemon blue       gb           1996.0  role-playing     11.27   \n",
       "\n",
       "   eu_sales  jp_sales  other_sales  critic_score user_score rating  \n",
       "0     28.96      3.77         8.45          76.0          8      E  \n",
       "1      3.58      6.81         0.77           NaN        NaN    NaN  \n",
       "2     12.76      3.79         3.29          82.0        8.3      E  \n",
       "3     10.93      3.28         2.95          80.0          8      E  \n",
       "4      8.89     10.22         1.00           NaN        NaN    NaN  "
      ]
     },
     "execution_count": 46,
     "metadata": {},
     "output_type": "execute_result"
    }
   ],
   "source": [
    "# Asegurarse de que los nombres de columnas estén en minúsculas\n",
    "df_games.columns = df_games.columns.str.lower()\n",
    "\n",
    "# Convertir a minúsculas las columnas relevantes\n",
    "for col in ['name', 'platform', 'genre']:\n",
    "    if col in df_games.columns:\n",
    "        df_games[col] = df_games[col].str.lower()\n",
    "\n",
    "# Mostrar resultados\n",
    "df_games.head()"
   ]
  },
  {
   "cell_type": "markdown",
   "metadata": {},
   "source": [
    "### procesar valores ausentes"
   ]
  },
  {
   "cell_type": "markdown",
   "metadata": {},
   "source": [
    "#### valores ausentes en name "
   ]
  },
  {
   "cell_type": "code",
   "execution_count": 47,
   "metadata": {
    "trusted": true
   },
   "outputs": [
    {
     "data": {
      "text/html": [
       "<div>\n",
       "<style scoped>\n",
       "    .dataframe tbody tr th:only-of-type {\n",
       "        vertical-align: middle;\n",
       "    }\n",
       "\n",
       "    .dataframe tbody tr th {\n",
       "        vertical-align: top;\n",
       "    }\n",
       "\n",
       "    .dataframe thead th {\n",
       "        text-align: right;\n",
       "    }\n",
       "</style>\n",
       "<table border=\"1\" class=\"dataframe\">\n",
       "  <thead>\n",
       "    <tr style=\"text-align: right;\">\n",
       "      <th></th>\n",
       "      <th>name</th>\n",
       "      <th>platform</th>\n",
       "      <th>year_of_release</th>\n",
       "      <th>genre</th>\n",
       "      <th>na_sales</th>\n",
       "      <th>eu_sales</th>\n",
       "      <th>jp_sales</th>\n",
       "      <th>other_sales</th>\n",
       "      <th>critic_score</th>\n",
       "      <th>user_score</th>\n",
       "      <th>rating</th>\n",
       "    </tr>\n",
       "  </thead>\n",
       "  <tbody>\n",
       "    <tr>\n",
       "      <th>659</th>\n",
       "      <td>NaN</td>\n",
       "      <td>gen</td>\n",
       "      <td>1993.0</td>\n",
       "      <td>NaN</td>\n",
       "      <td>1.78</td>\n",
       "      <td>0.53</td>\n",
       "      <td>0.00</td>\n",
       "      <td>0.08</td>\n",
       "      <td>NaN</td>\n",
       "      <td>NaN</td>\n",
       "      <td>NaN</td>\n",
       "    </tr>\n",
       "    <tr>\n",
       "      <th>14244</th>\n",
       "      <td>NaN</td>\n",
       "      <td>gen</td>\n",
       "      <td>1993.0</td>\n",
       "      <td>NaN</td>\n",
       "      <td>0.00</td>\n",
       "      <td>0.00</td>\n",
       "      <td>0.03</td>\n",
       "      <td>0.00</td>\n",
       "      <td>NaN</td>\n",
       "      <td>NaN</td>\n",
       "      <td>NaN</td>\n",
       "    </tr>\n",
       "  </tbody>\n",
       "</table>\n",
       "</div>"
      ],
      "text/plain": [
       "      name platform  year_of_release genre  na_sales  eu_sales  jp_sales  \\\n",
       "659    NaN      gen           1993.0   NaN      1.78      0.53      0.00   \n",
       "14244  NaN      gen           1993.0   NaN      0.00      0.00      0.03   \n",
       "\n",
       "       other_sales  critic_score user_score rating  \n",
       "659           0.08           NaN        NaN    NaN  \n",
       "14244         0.00           NaN        NaN    NaN  "
      ]
     },
     "execution_count": 47,
     "metadata": {},
     "output_type": "execute_result"
    }
   ],
   "source": [
    "df_games[df_games['name'].isna()]"
   ]
  },
  {
   "cell_type": "code",
   "execution_count": 48,
   "metadata": {
    "trusted": true
   },
   "outputs": [
    {
     "name": "stdout",
     "output_type": "stream",
     "text": [
      "<class 'pandas.core.frame.DataFrame'>\n",
      "Index: 16713 entries, 0 to 16714\n",
      "Data columns (total 11 columns):\n",
      " #   Column           Non-Null Count  Dtype  \n",
      "---  ------           --------------  -----  \n",
      " 0   name             16713 non-null  object \n",
      " 1   platform         16713 non-null  object \n",
      " 2   year_of_release  16444 non-null  float64\n",
      " 3   genre            16713 non-null  object \n",
      " 4   na_sales         16713 non-null  float64\n",
      " 5   eu_sales         16713 non-null  float64\n",
      " 6   jp_sales         16713 non-null  float64\n",
      " 7   other_sales      16713 non-null  float64\n",
      " 8   critic_score     8137 non-null   float64\n",
      " 9   user_score       10014 non-null  object \n",
      " 10  rating           9949 non-null   object \n",
      "dtypes: float64(6), object(5)\n",
      "memory usage: 1.5+ MB\n"
     ]
    }
   ],
   "source": [
    "# eliminar valores ausentes en name\n",
    "df_games.dropna(subset = ['name'], inplace = True)\n",
    "\n",
    "#revisamos los cambios\n",
    "df_games.info()"
   ]
  },
  {
   "cell_type": "markdown",
   "metadata": {},
   "source": [
    "- al mirar los valores nulos de name me di cuenta que es mejor eliminar ya que solo son 2 y justo estos tambien son los valores nulos en genre"
   ]
  },
  {
   "cell_type": "markdown",
   "metadata": {},
   "source": [
    "#### valores ausentes en Year_of_Release"
   ]
  },
  {
   "cell_type": "code",
   "execution_count": 49,
   "metadata": {
    "trusted": true
   },
   "outputs": [
    {
     "data": {
      "text/html": [
       "<div>\n",
       "<style scoped>\n",
       "    .dataframe tbody tr th:only-of-type {\n",
       "        vertical-align: middle;\n",
       "    }\n",
       "\n",
       "    .dataframe tbody tr th {\n",
       "        vertical-align: top;\n",
       "    }\n",
       "\n",
       "    .dataframe thead th {\n",
       "        text-align: right;\n",
       "    }\n",
       "</style>\n",
       "<table border=\"1\" class=\"dataframe\">\n",
       "  <thead>\n",
       "    <tr style=\"text-align: right;\">\n",
       "      <th></th>\n",
       "      <th>name</th>\n",
       "      <th>platform</th>\n",
       "      <th>year_of_release</th>\n",
       "      <th>genre</th>\n",
       "      <th>na_sales</th>\n",
       "      <th>eu_sales</th>\n",
       "      <th>jp_sales</th>\n",
       "      <th>other_sales</th>\n",
       "      <th>critic_score</th>\n",
       "      <th>user_score</th>\n",
       "      <th>rating</th>\n",
       "    </tr>\n",
       "  </thead>\n",
       "  <tbody>\n",
       "    <tr>\n",
       "      <th>183</th>\n",
       "      <td>madden nfl 2004</td>\n",
       "      <td>ps2</td>\n",
       "      <td>NaN</td>\n",
       "      <td>sports</td>\n",
       "      <td>4.26</td>\n",
       "      <td>0.26</td>\n",
       "      <td>0.01</td>\n",
       "      <td>0.71</td>\n",
       "      <td>94.0</td>\n",
       "      <td>8.5</td>\n",
       "      <td>E</td>\n",
       "    </tr>\n",
       "    <tr>\n",
       "      <th>377</th>\n",
       "      <td>fifa soccer 2004</td>\n",
       "      <td>ps2</td>\n",
       "      <td>NaN</td>\n",
       "      <td>sports</td>\n",
       "      <td>0.59</td>\n",
       "      <td>2.36</td>\n",
       "      <td>0.04</td>\n",
       "      <td>0.51</td>\n",
       "      <td>84.0</td>\n",
       "      <td>6.4</td>\n",
       "      <td>E</td>\n",
       "    </tr>\n",
       "    <tr>\n",
       "      <th>456</th>\n",
       "      <td>lego batman: the videogame</td>\n",
       "      <td>wii</td>\n",
       "      <td>NaN</td>\n",
       "      <td>action</td>\n",
       "      <td>1.80</td>\n",
       "      <td>0.97</td>\n",
       "      <td>0.00</td>\n",
       "      <td>0.29</td>\n",
       "      <td>74.0</td>\n",
       "      <td>7.9</td>\n",
       "      <td>E10+</td>\n",
       "    </tr>\n",
       "    <tr>\n",
       "      <th>475</th>\n",
       "      <td>wwe smackdown vs. raw 2006</td>\n",
       "      <td>ps2</td>\n",
       "      <td>NaN</td>\n",
       "      <td>fighting</td>\n",
       "      <td>1.57</td>\n",
       "      <td>1.02</td>\n",
       "      <td>0.00</td>\n",
       "      <td>0.41</td>\n",
       "      <td>NaN</td>\n",
       "      <td>NaN</td>\n",
       "      <td>NaN</td>\n",
       "    </tr>\n",
       "    <tr>\n",
       "      <th>609</th>\n",
       "      <td>space invaders</td>\n",
       "      <td>2600</td>\n",
       "      <td>NaN</td>\n",
       "      <td>shooter</td>\n",
       "      <td>2.36</td>\n",
       "      <td>0.14</td>\n",
       "      <td>0.00</td>\n",
       "      <td>0.03</td>\n",
       "      <td>NaN</td>\n",
       "      <td>NaN</td>\n",
       "      <td>NaN</td>\n",
       "    </tr>\n",
       "    <tr>\n",
       "      <th>...</th>\n",
       "      <td>...</td>\n",
       "      <td>...</td>\n",
       "      <td>...</td>\n",
       "      <td>...</td>\n",
       "      <td>...</td>\n",
       "      <td>...</td>\n",
       "      <td>...</td>\n",
       "      <td>...</td>\n",
       "      <td>...</td>\n",
       "      <td>...</td>\n",
       "      <td>...</td>\n",
       "    </tr>\n",
       "    <tr>\n",
       "      <th>16373</th>\n",
       "      <td>pdc world championship darts 2008</td>\n",
       "      <td>psp</td>\n",
       "      <td>NaN</td>\n",
       "      <td>sports</td>\n",
       "      <td>0.01</td>\n",
       "      <td>0.00</td>\n",
       "      <td>0.00</td>\n",
       "      <td>0.00</td>\n",
       "      <td>43.0</td>\n",
       "      <td>tbd</td>\n",
       "      <td>E10+</td>\n",
       "    </tr>\n",
       "    <tr>\n",
       "      <th>16405</th>\n",
       "      <td>freaky flyers</td>\n",
       "      <td>gc</td>\n",
       "      <td>NaN</td>\n",
       "      <td>racing</td>\n",
       "      <td>0.01</td>\n",
       "      <td>0.00</td>\n",
       "      <td>0.00</td>\n",
       "      <td>0.00</td>\n",
       "      <td>69.0</td>\n",
       "      <td>6.5</td>\n",
       "      <td>T</td>\n",
       "    </tr>\n",
       "    <tr>\n",
       "      <th>16448</th>\n",
       "      <td>inversion</td>\n",
       "      <td>pc</td>\n",
       "      <td>NaN</td>\n",
       "      <td>shooter</td>\n",
       "      <td>0.01</td>\n",
       "      <td>0.00</td>\n",
       "      <td>0.00</td>\n",
       "      <td>0.00</td>\n",
       "      <td>59.0</td>\n",
       "      <td>6.7</td>\n",
       "      <td>M</td>\n",
       "    </tr>\n",
       "    <tr>\n",
       "      <th>16458</th>\n",
       "      <td>hakuouki: shinsengumi kitan</td>\n",
       "      <td>ps3</td>\n",
       "      <td>NaN</td>\n",
       "      <td>adventure</td>\n",
       "      <td>0.01</td>\n",
       "      <td>0.00</td>\n",
       "      <td>0.00</td>\n",
       "      <td>0.00</td>\n",
       "      <td>NaN</td>\n",
       "      <td>NaN</td>\n",
       "      <td>NaN</td>\n",
       "    </tr>\n",
       "    <tr>\n",
       "      <th>16522</th>\n",
       "      <td>virtua quest</td>\n",
       "      <td>gc</td>\n",
       "      <td>NaN</td>\n",
       "      <td>role-playing</td>\n",
       "      <td>0.01</td>\n",
       "      <td>0.00</td>\n",
       "      <td>0.00</td>\n",
       "      <td>0.00</td>\n",
       "      <td>55.0</td>\n",
       "      <td>5.5</td>\n",
       "      <td>T</td>\n",
       "    </tr>\n",
       "  </tbody>\n",
       "</table>\n",
       "<p>269 rows × 11 columns</p>\n",
       "</div>"
      ],
      "text/plain": [
       "                                    name platform  year_of_release  \\\n",
       "183                      madden nfl 2004      ps2              NaN   \n",
       "377                     fifa soccer 2004      ps2              NaN   \n",
       "456           lego batman: the videogame      wii              NaN   \n",
       "475           wwe smackdown vs. raw 2006      ps2              NaN   \n",
       "609                       space invaders     2600              NaN   \n",
       "...                                  ...      ...              ...   \n",
       "16373  pdc world championship darts 2008      psp              NaN   \n",
       "16405                      freaky flyers       gc              NaN   \n",
       "16448                          inversion       pc              NaN   \n",
       "16458        hakuouki: shinsengumi kitan      ps3              NaN   \n",
       "16522                       virtua quest       gc              NaN   \n",
       "\n",
       "              genre  na_sales  eu_sales  jp_sales  other_sales  critic_score  \\\n",
       "183          sports      4.26      0.26      0.01         0.71          94.0   \n",
       "377          sports      0.59      2.36      0.04         0.51          84.0   \n",
       "456          action      1.80      0.97      0.00         0.29          74.0   \n",
       "475        fighting      1.57      1.02      0.00         0.41           NaN   \n",
       "609         shooter      2.36      0.14      0.00         0.03           NaN   \n",
       "...             ...       ...       ...       ...          ...           ...   \n",
       "16373        sports      0.01      0.00      0.00         0.00          43.0   \n",
       "16405        racing      0.01      0.00      0.00         0.00          69.0   \n",
       "16448       shooter      0.01      0.00      0.00         0.00          59.0   \n",
       "16458     adventure      0.01      0.00      0.00         0.00           NaN   \n",
       "16522  role-playing      0.01      0.00      0.00         0.00          55.0   \n",
       "\n",
       "      user_score rating  \n",
       "183          8.5      E  \n",
       "377          6.4      E  \n",
       "456          7.9   E10+  \n",
       "475          NaN    NaN  \n",
       "609          NaN    NaN  \n",
       "...          ...    ...  \n",
       "16373        tbd   E10+  \n",
       "16405        6.5      T  \n",
       "16448        6.7      M  \n",
       "16458        NaN    NaN  \n",
       "16522        5.5      T  \n",
       "\n",
       "[269 rows x 11 columns]"
      ]
     },
     "execution_count": 49,
     "metadata": {},
     "output_type": "execute_result"
    }
   ],
   "source": [
    "df_games[df_games['year_of_release'].isna()]"
   ]
  },
  {
   "cell_type": "markdown",
   "metadata": {},
   "source": [
    "- en este caso voy a dejar los valores nulos en fecha de lanzamiento. no tengo forma de rellenar los valores nulos y son muchos datos importantes para ser eliminados"
   ]
  },
  {
   "cell_type": "markdown",
   "metadata": {},
   "source": [
    "#### valores ausentes en Critic_Score"
   ]
  },
  {
   "cell_type": "code",
   "execution_count": 50,
   "metadata": {
    "trusted": true
   },
   "outputs": [
    {
     "name": "stdout",
     "output_type": "stream",
     "text": [
      "numero de valores ausentes de Critic_Score: 8576\n"
     ]
    }
   ],
   "source": [
    "print('numero de valores ausentes de Critic_Score:', df_games['critic_score'].isna().sum())"
   ]
  },
  {
   "cell_type": "code",
   "execution_count": 51,
   "metadata": {
    "trusted": true
   },
   "outputs": [
    {
     "data": {
      "text/plain": [
       "count    8137.000000\n",
       "mean       68.967679\n",
       "std        13.938165\n",
       "min        13.000000\n",
       "25%        60.000000\n",
       "50%        71.000000\n",
       "75%        79.000000\n",
       "max        98.000000\n",
       "Name: critic_score, dtype: float64"
      ]
     },
     "execution_count": 51,
     "metadata": {},
     "output_type": "execute_result"
    }
   ],
   "source": [
    "#comprobar datos para hacer el respectivo reemplazo de valores ausentes \n",
    "df_games['critic_score'].describe()"
   ]
  },
  {
   "cell_type": "code",
   "execution_count": 52,
   "metadata": {
    "trusted": true
   },
   "outputs": [
    {
     "data": {
      "text/plain": [
       "count    16713.000000\n",
       "mean        70.010531\n",
       "std          9.778073\n",
       "min         13.000000\n",
       "25%         71.000000\n",
       "50%         71.000000\n",
       "75%         71.000000\n",
       "max         98.000000\n",
       "Name: critic_score, dtype: float64"
      ]
     },
     "execution_count": 52,
     "metadata": {},
     "output_type": "execute_result"
    }
   ],
   "source": [
    "# reemplazar con mediana \n",
    "df_games['critic_score'] = df_games['critic_score'].fillna(df_games['critic_score'].median())\n",
    "\n",
    "#mostrar cambios\n",
    "df_games['critic_score'].describe()"
   ]
  },
  {
   "cell_type": "markdown",
   "metadata": {},
   "source": [
    "- La mediana (71) es la mejor opción porque representa un valor central sin ser afectado por valores extremos."
   ]
  },
  {
   "cell_type": "markdown",
   "metadata": {},
   "source": [
    "#### valores ausentes en User_Score"
   ]
  },
  {
   "cell_type": "code",
   "execution_count": 53,
   "metadata": {
    "trusted": true
   },
   "outputs": [
    {
     "name": "stdout",
     "output_type": "stream",
     "text": [
      "numero de valores ausentes de User_Score: 6699\n"
     ]
    }
   ],
   "source": [
    "print('numero de valores ausentes de User_Score:', df_games['user_score'].isna().sum())"
   ]
  },
  {
   "cell_type": "code",
   "execution_count": 54,
   "metadata": {
    "trusted": true
   },
   "outputs": [],
   "source": [
    "#convertir TBD a NaN\n",
    "df_games['user_score'] = pd.to_numeric(df_games['user_score'], errors='coerce')"
   ]
  },
  {
   "cell_type": "code",
   "execution_count": 55,
   "metadata": {
    "trusted": true
   },
   "outputs": [
    {
     "data": {
      "text/plain": [
       "count    7590.000000\n",
       "mean        7.125046\n",
       "std         1.500006\n",
       "min         0.000000\n",
       "25%         6.400000\n",
       "50%         7.500000\n",
       "75%         8.200000\n",
       "max         9.700000\n",
       "Name: user_score, dtype: float64"
      ]
     },
     "execution_count": 55,
     "metadata": {},
     "output_type": "execute_result"
    }
   ],
   "source": [
    "#comprobar datos para hacer el respectivo reemplazo de valores ausentes \n",
    "df_games['user_score'].describe()"
   ]
  },
  {
   "cell_type": "code",
   "execution_count": 56,
   "metadata": {
    "trusted": true
   },
   "outputs": [
    {
     "data": {
      "text/plain": [
       "count    16713.000000\n",
       "mean         7.329719\n",
       "std          1.027910\n",
       "min          0.000000\n",
       "25%          7.500000\n",
       "50%          7.500000\n",
       "75%          7.500000\n",
       "max          9.700000\n",
       "Name: user_score, dtype: float64"
      ]
     },
     "execution_count": 56,
     "metadata": {},
     "output_type": "execute_result"
    }
   ],
   "source": [
    "# reemplazar con mediana \n",
    "df_games['user_score'] = df_games['user_score'].fillna(df_games['user_score'].median())\n",
    "\n",
    "# mostrar cambios\n",
    "df_games['user_score'].describe()"
   ]
  },
  {
   "cell_type": "markdown",
   "metadata": {},
   "source": [
    "- cambimos tbd a nulos para ser procesados ya que no nos aporta tener esto en una columna numerica.\n",
    "- luego como hicimos en critic_score cambiamos los valores nulos por la mediana"
   ]
  },
  {
   "cell_type": "markdown",
   "metadata": {},
   "source": [
    "#### valores ausentes en Rating"
   ]
  },
  {
   "cell_type": "code",
   "execution_count": 57,
   "metadata": {
    "trusted": true
   },
   "outputs": [
    {
     "name": "stdout",
     "output_type": "stream",
     "text": [
      "numero de valores ausentes de Rating: 6764\n"
     ]
    }
   ],
   "source": [
    "print('numero de valores ausentes de Rating:', df_games['rating'].isna().sum())"
   ]
  },
  {
   "cell_type": "code",
   "execution_count": 58,
   "metadata": {
    "trusted": true
   },
   "outputs": [
    {
     "name": "stdout",
     "output_type": "stream",
     "text": [
      "valores unicos de Rating: ['E' nan 'M' 'T' 'E10+' 'K-A' 'AO' 'EC' 'RP']\n"
     ]
    }
   ],
   "source": [
    "# valores unicos de Rating\n",
    "print('valores unicos de Rating:', df_games['rating'].unique())"
   ]
  },
  {
   "cell_type": "code",
   "execution_count": 59,
   "metadata": {
    "trusted": true
   },
   "outputs": [
    {
     "name": "stdout",
     "output_type": "stream",
     "text": [
      "<class 'pandas.core.frame.DataFrame'>\n",
      "Index: 16713 entries, 0 to 16714\n",
      "Data columns (total 11 columns):\n",
      " #   Column           Non-Null Count  Dtype  \n",
      "---  ------           --------------  -----  \n",
      " 0   name             16713 non-null  object \n",
      " 1   platform         16713 non-null  object \n",
      " 2   year_of_release  16444 non-null  float64\n",
      " 3   genre            16713 non-null  object \n",
      " 4   na_sales         16713 non-null  float64\n",
      " 5   eu_sales         16713 non-null  float64\n",
      " 6   jp_sales         16713 non-null  float64\n",
      " 7   other_sales      16713 non-null  float64\n",
      " 8   critic_score     16713 non-null  float64\n",
      " 9   user_score       16713 non-null  float64\n",
      " 10  rating           16713 non-null  object \n",
      "dtypes: float64(7), object(4)\n",
      "memory usage: 1.5+ MB\n"
     ]
    }
   ],
   "source": [
    "# reemplazar por \"RP\" (Rating Pending)\n",
    "df_games['rating'] = df_games['rating'].fillna('RP')\n",
    "\n",
    "# mostrar cambio\n",
    "df_games.info()"
   ]
  },
  {
   "cell_type": "markdown",
   "metadata": {},
   "source": [
    "- en este caso los valores ausentes los reemplace por 'RP' que significa rating pendiente"
   ]
  },
  {
   "cell_type": "markdown",
   "metadata": {},
   "source": [
    "### convertir tipo de datos"
   ]
  },
  {
   "cell_type": "code",
   "execution_count": 60,
   "metadata": {
    "trusted": true
   },
   "outputs": [
    {
     "name": "stdout",
     "output_type": "stream",
     "text": [
      "<class 'pandas.core.frame.DataFrame'>\n",
      "Index: 16713 entries, 0 to 16714\n",
      "Data columns (total 11 columns):\n",
      " #   Column           Non-Null Count  Dtype  \n",
      "---  ------           --------------  -----  \n",
      " 0   name             16713 non-null  object \n",
      " 1   platform         16713 non-null  object \n",
      " 2   year_of_release  16444 non-null  float64\n",
      " 3   genre            16713 non-null  object \n",
      " 4   na_sales         16713 non-null  float64\n",
      " 5   eu_sales         16713 non-null  float64\n",
      " 6   jp_sales         16713 non-null  float64\n",
      " 7   other_sales      16713 non-null  float64\n",
      " 8   critic_score     16713 non-null  int32  \n",
      " 9   user_score       16713 non-null  int32  \n",
      " 10  rating           16713 non-null  object \n",
      "dtypes: float64(5), int32(2), object(4)\n",
      "memory usage: 1.4+ MB\n"
     ]
    }
   ],
   "source": [
    "# primero cambio user_score para que coincida con el formato de critic_score\n",
    "df_games['user_score'] = df_games['user_score'] * 10\n",
    "\n",
    "# convetir a int \n",
    "df_games['critic_score'] = df_games['critic_score'].astype('int')\n",
    "df_games['user_score'] = df_games['user_score'].astype('int')\n",
    "\n",
    "# mostrar información\n",
    "df_games.info()"
   ]
  },
  {
   "cell_type": "markdown",
   "metadata": {},
   "source": [
    "- cambie el formato de user_score ya que estaba en decimal, su escala era de 0 a 10. la cambie multiplicando a 10 para cambiarla de 0 a 100 como en la columna critic_Score, para hacer una mejor comparación de las criticas. luego pase la columna a enteros.\n",
    "- todos los valores de critic_Score  eran valores enteros, pero como tenia valores nulos estaba en flotante asi que lo converti a enteros."
   ]
  },
  {
   "cell_type": "markdown",
   "metadata": {},
   "source": [
    "### ventas totales"
   ]
  },
  {
   "cell_type": "code",
   "execution_count": 61,
   "metadata": {
    "trusted": true
   },
   "outputs": [
    {
     "data": {
      "text/html": [
       "<div>\n",
       "<style scoped>\n",
       "    .dataframe tbody tr th:only-of-type {\n",
       "        vertical-align: middle;\n",
       "    }\n",
       "\n",
       "    .dataframe tbody tr th {\n",
       "        vertical-align: top;\n",
       "    }\n",
       "\n",
       "    .dataframe thead th {\n",
       "        text-align: right;\n",
       "    }\n",
       "</style>\n",
       "<table border=\"1\" class=\"dataframe\">\n",
       "  <thead>\n",
       "    <tr style=\"text-align: right;\">\n",
       "      <th></th>\n",
       "      <th>name</th>\n",
       "      <th>platform</th>\n",
       "      <th>year_of_release</th>\n",
       "      <th>genre</th>\n",
       "      <th>na_sales</th>\n",
       "      <th>eu_sales</th>\n",
       "      <th>jp_sales</th>\n",
       "      <th>other_sales</th>\n",
       "      <th>critic_score</th>\n",
       "      <th>user_score</th>\n",
       "      <th>rating</th>\n",
       "      <th>sales_total</th>\n",
       "    </tr>\n",
       "  </thead>\n",
       "  <tbody>\n",
       "    <tr>\n",
       "      <th>0</th>\n",
       "      <td>wii sports</td>\n",
       "      <td>wii</td>\n",
       "      <td>2006.0</td>\n",
       "      <td>sports</td>\n",
       "      <td>41.36</td>\n",
       "      <td>28.96</td>\n",
       "      <td>3.77</td>\n",
       "      <td>8.45</td>\n",
       "      <td>76</td>\n",
       "      <td>80</td>\n",
       "      <td>E</td>\n",
       "      <td>82.54</td>\n",
       "    </tr>\n",
       "    <tr>\n",
       "      <th>1</th>\n",
       "      <td>super mario bros.</td>\n",
       "      <td>nes</td>\n",
       "      <td>1985.0</td>\n",
       "      <td>platform</td>\n",
       "      <td>29.08</td>\n",
       "      <td>3.58</td>\n",
       "      <td>6.81</td>\n",
       "      <td>0.77</td>\n",
       "      <td>71</td>\n",
       "      <td>75</td>\n",
       "      <td>RP</td>\n",
       "      <td>40.24</td>\n",
       "    </tr>\n",
       "    <tr>\n",
       "      <th>2</th>\n",
       "      <td>mario kart wii</td>\n",
       "      <td>wii</td>\n",
       "      <td>2008.0</td>\n",
       "      <td>racing</td>\n",
       "      <td>15.68</td>\n",
       "      <td>12.76</td>\n",
       "      <td>3.79</td>\n",
       "      <td>3.29</td>\n",
       "      <td>82</td>\n",
       "      <td>83</td>\n",
       "      <td>E</td>\n",
       "      <td>35.52</td>\n",
       "    </tr>\n",
       "    <tr>\n",
       "      <th>3</th>\n",
       "      <td>wii sports resort</td>\n",
       "      <td>wii</td>\n",
       "      <td>2009.0</td>\n",
       "      <td>sports</td>\n",
       "      <td>15.61</td>\n",
       "      <td>10.93</td>\n",
       "      <td>3.28</td>\n",
       "      <td>2.95</td>\n",
       "      <td>80</td>\n",
       "      <td>80</td>\n",
       "      <td>E</td>\n",
       "      <td>32.77</td>\n",
       "    </tr>\n",
       "    <tr>\n",
       "      <th>4</th>\n",
       "      <td>pokemon red/pokemon blue</td>\n",
       "      <td>gb</td>\n",
       "      <td>1996.0</td>\n",
       "      <td>role-playing</td>\n",
       "      <td>11.27</td>\n",
       "      <td>8.89</td>\n",
       "      <td>10.22</td>\n",
       "      <td>1.00</td>\n",
       "      <td>71</td>\n",
       "      <td>75</td>\n",
       "      <td>RP</td>\n",
       "      <td>31.38</td>\n",
       "    </tr>\n",
       "  </tbody>\n",
       "</table>\n",
       "</div>"
      ],
      "text/plain": [
       "                       name platform  year_of_release         genre  na_sales  \\\n",
       "0                wii sports      wii           2006.0        sports     41.36   \n",
       "1         super mario bros.      nes           1985.0      platform     29.08   \n",
       "2            mario kart wii      wii           2008.0        racing     15.68   \n",
       "3         wii sports resort      wii           2009.0        sports     15.61   \n",
       "4  pokemon red/pokemon blue       gb           1996.0  role-playing     11.27   \n",
       "\n",
       "   eu_sales  jp_sales  other_sales  critic_score  user_score rating  \\\n",
       "0     28.96      3.77         8.45            76          80      E   \n",
       "1      3.58      6.81         0.77            71          75     RP   \n",
       "2     12.76      3.79         3.29            82          83      E   \n",
       "3     10.93      3.28         2.95            80          80      E   \n",
       "4      8.89     10.22         1.00            71          75     RP   \n",
       "\n",
       "   sales_total  \n",
       "0        82.54  \n",
       "1        40.24  \n",
       "2        35.52  \n",
       "3        32.77  \n",
       "4        31.38  "
      ]
     },
     "execution_count": 61,
     "metadata": {},
     "output_type": "execute_result"
    }
   ],
   "source": [
    "# creo columna con las ventas totales\n",
    "df_games['sales_total'] = df_games[['na_sales','jp_sales','eu_sales','other_sales']].sum(axis=1)\n",
    "\n",
    "# mostrar resultado\n",
    "df_games.head()"
   ]
  },
  {
   "cell_type": "markdown",
   "metadata": {},
   "source": [
    "## Análisis  de datos "
   ]
  },
  {
   "cell_type": "markdown",
   "metadata": {},
   "source": [
    "### juegos por fecha de lanzamiento"
   ]
  },
  {
   "cell_type": "code",
   "execution_count": 62,
   "metadata": {
    "trusted": true
   },
   "outputs": [
    {
     "data": {
      "image/png": "[encoded data removed]",
      "text/plain": [
       "<Figure size 640x480 with 1 Axes>"
      ]
     },
     "metadata": {},
     "output_type": "display_data"
    }
   ],
   "source": [
    "games_release = df_games.groupby('year_of_release')['name'].count()\n",
    "\n",
    "games_release.plot(\n",
    "title='juegos por fecha de lanzamiento',\n",
    "xlabel='fecha',\n",
    "ylabel='cantidad',\n",
    "grid= '--')\n",
    "\n",
    "plt.show()"
   ]
  },
  {
   "cell_type": "markdown",
   "metadata": {},
   "source": [
    "- podemos observar como amedida que el juego es mas reciente, mas ventas tiene. esto sucede hasta llegar al 2009, despues decienden las ventas."
   ]
  },
  {
   "cell_type": "markdown",
   "metadata": {},
   "source": [
    "### plataformas por ventas"
   ]
  },
  {
   "cell_type": "code",
   "execution_count": 63,
   "metadata": {
    "trusted": true
   },
   "outputs": [
    {
     "data": {
      "image/png": "[encoded data removed]",
      "text/plain": [
       "<Figure size 1000x500 with 1 Axes>"
      ]
     },
     "metadata": {},
     "output_type": "display_data"
    }
   ],
   "source": [
    "platform_sales = df_games.groupby('platform')['sales_total'].sum().sort_values(ascending=False)\n",
    "\n",
    "platform_sales.plot(\n",
    "kind='bar',\n",
    "title='ventas de plataformas',\n",
    "xlabel='plataforma',\n",
    "ylabel='ventas',\n",
    "figsize=(10,5)\n",
    ")\n",
    "\n",
    "plt.show()"
   ]
  },
  {
   "cell_type": "markdown",
   "metadata": {},
   "source": [
    "### plataformas mas vendiadas por fecha de lanzamineto"
   ]
  },
  {
   "cell_type": "code",
   "execution_count": 64,
   "metadata": {
    "trusted": true
   },
   "outputs": [],
   "source": [
    "# Seleccionar las 10 plataformas con mayores ventas\n",
    "top_platforms = platform_sales.head(10).reset_index()\n",
    "\n",
    "df_top_platforms = df_games[df_games['platform'].isin(top_platforms['platform'])]"
   ]
  },
  {
   "cell_type": "code",
   "execution_count": 65,
   "metadata": {
    "scrolled": false,
    "trusted": true
   },
   "outputs": [
    {
     "data": {
      "image/png": "[encoded data removed]",
      "text/plain": [
       "<Figure size 1000x600 with 1 Axes>"
      ]
     },
     "metadata": {},
     "output_type": "display_data"
    }
   ],
   "source": [
    "# Agrupar por año y plataforma, sumando ventas\n",
    "yearly_sales = df_top_platforms.groupby(['year_of_release', 'platform'])['sales_total'].sum().unstack()\n",
    "\n",
    "# Graficar solo las 5 plataformas más vendidas\n",
    "yearly_sales.plot(\n",
    "    kind='line',\n",
    "    title='Evolución de Ventas de las 10 Plataformas Más Vendidas',\n",
    "    xlim=[1991.5,2016.5],\n",
    "    xlabel='Año',\n",
    "    ylabel='Ventas Totales',\n",
    "    figsize=(10, 6),\n",
    "    marker='o'\n",
    ")\n",
    "\n",
    "plt.xticks(np.arange(1985, 2017, 2))\n",
    "plt.yticks(np.arange(0, 220, 25))\n",
    "plt.grid('--')\n",
    "plt.legend(title=\"Plataforma\")\n",
    "plt.show()"
   ]
  },
  {
   "cell_type": "markdown",
   "metadata": {},
   "source": [
    "**Plataformas que solían ser populares pero que ahora no tienen ventas**\n",
    "\n",
    "Observando la gráfica, algunas plataformas tuvieron un auge significativo en ventas, pero luego desaparecieron. Algunas de ellas son:\n",
    "\n",
    "- PS2 (Línea morada oscura): Dominó las ventas en los 2000, pero desapareció después de 2012.\n",
    "- PSP (Línea gris): Tuvo un buen desempeño entre 2005 y 2012, pero luego desapareció.\n",
    "- DS (Línea azul clara): Popular desde 2005, con un pico alrededor de 2008-2009, pero después de 2014 dejó de venderse.\n",
    "- GBA (Línea naranja): Despegó en 2001 y desapareció alrededor de 2007-2008.\n",
    "- PS1 (Línea roja): Fue líder en ventas desde mediados de los 90 hasta el 2002, luego desapareció.\n"
   ]
  },
  {
   "cell_type": "markdown",
   "metadata": {},
   "source": [
    "**¿Cuánto tardan en aparecer las nuevas plataformas y en desaparecer las antiguas?**\n",
    "\n",
    "Basándonos en la gráfica:\n",
    "\n",
    "- Tiempo de aparición:\n",
    "Las plataformas suelen tardar entre 1 y 3 años desde su lanzamiento en generar ventas significativas. Por ejemplo:\n",
    "\n",
    "    - La Wii se lanzó en 2006 y en 2007 ya tenía un pico alto de ventas.\n",
    "    - La PS3 se lanzó en 2006 y en 2007-2008 ya tenía buenas cifras.\n",
    "    \n",
    "- Tiempo de desaparición:\n",
    "\n",
    "    - Plataformas exitosas pueden tardar entre 7 y 10 años en desaparecer. Ejemplo:\n",
    "    - PS2 dominó entre 2000 y 2010.\n",
    "    - DS tuvo su auge desde 2005 hasta 2014.\n",
    "- Plataformas menos exitosas pueden desaparecer en 4-6 años, como la GBA que solo tuvo presencia entre 2001 y 2007."
   ]
  },
  {
   "cell_type": "markdown",
   "metadata": {},
   "source": [
    "**Conclusión:**\n",
    "\n",
    "- Las plataformas más exitosas pueden mantenerse en el mercado por 10 años o más.\n",
    "- Las menos exitosas desaparecen en menos de 6 años.\n",
    "- La mayoría de las plataformas tardan entre 1 y 3 años en alcanzar su auge."
   ]
  },
  {
   "cell_type": "code",
   "execution_count": 66,
   "metadata": {
    "trusted": true
   },
   "outputs": [],
   "source": [
    "# Filtrar para años relevantes (posteriores a 2013)\n",
    "df_games = df_games[df_games['year_of_release'] > 2013]"
   ]
  },
  {
   "cell_type": "markdown",
   "metadata": {},
   "source": [
    "- del años 1993 en adelante se concentra la mayoria de datos del top 10"
   ]
  },
  {
   "cell_type": "markdown",
   "metadata": {},
   "source": [
    "### plataformas lideres en ventas"
   ]
  },
  {
   "cell_type": "code",
   "execution_count": 67,
   "metadata": {
    "trusted": true
   },
   "outputs": [
    {
     "name": "stdout",
     "output_type": "stream",
     "text": [
      "las 6 plataformas con mas venta platform\n",
      "ps2     1255.77\n",
      "x360     971.42\n",
      "ps3      939.65\n",
      "wii      907.51\n",
      "ds       806.12\n",
      "ps       730.86\n",
      "Name: sales_total, dtype: float64\n"
     ]
    }
   ],
   "source": [
    "print('las 6 plataformas con mas venta', platform_sales.head(6))"
   ]
  },
  {
   "cell_type": "markdown",
   "metadata": {},
   "source": [
    "- tome las 6 plataformas mas populares, de la 7 en adelante bajan cosiderablemente las ventas"
   ]
  },
  {
   "cell_type": "markdown",
   "metadata": {},
   "source": [
    "### segun la grafica del top 10\n",
    "\n",
    "**Plataformas en Crecimiento**\n",
    "Son las que muestran una tendencia positiva en ventas y podrían ser rentables en el futuro.\n",
    "\n",
    "- Última plataforma en la gráfica con tendencia en ascenso.\n",
    "- Aunque no tiene picos altos, mantiene ventas constantes en el tiempo.\n",
    "\n",
    "**Plataformas en Declive**\n",
    "Plataformas que solían vender bien, pero han disminuido o desaparecido.\n",
    "\n",
    "- PS2: Se desplomó después de 2010.\n",
    "- PS3 y X360: En declive después de 2014.\n",
    "- Wii: Fue exitosa, pero cayó rápido después de 2012.\n",
    "- DS & PSP: Dominaban entre 2005-2010, pero se extinguieron después de 2014.\n",
    "\n",
    "**Plataformas Potencialmente Rentables**\n",
    "Si buscamos plataformas para invertir o vender juegos, las mejores opciones serían:\n",
    "\n",
    "- PS4: En crecimiento y con demanda fuerte.\n",
    "- PC: Siempre estable, sin grandes caídas de ventas."
   ]
  },
  {
   "cell_type": "markdown",
   "metadata": {},
   "source": [
    "### diagrama de caja"
   ]
  },
  {
   "cell_type": "code",
   "execution_count": 68,
   "metadata": {
    "trusted": true
   },
   "outputs": [
    {
     "data": {
      "image/png": "[encoded data removed]",
      "text/plain": [
       "<Figure size 1200x600 with 1 Axes>"
      ]
     },
     "metadata": {},
     "output_type": "display_data"
    }
   ],
   "source": [
    "# Agrupar y resetear el índice para obtener un DataFrame adecuado para boxplot\n",
    "diagrama = df_games.groupby(['platform'])['sales_total'].sum()\n",
    "\n",
    "# Crear el boxplot de ventas globales por plataforma\n",
    "plt.figure(figsize=(12, 6))\n",
    "sns.boxplot(data=df_games, x='platform', y='sales_total')\n",
    "\n",
    "# Personalizar gráfico\n",
    "plt.title(\"Distribución de Ventas Globales por Plataforma\")\n",
    "plt.xticks(rotation=90)\n",
    "plt.ylabel(\"Ventas Totales\")\n",
    "plt.xlabel(\"Plataforma\")\n",
    "plt.yscale(\"log\")  # Escala logarítmica para evitar outliers extremos\n",
    "plt.grid(True, linestyle=\"--\", alpha=0.7)\n",
    "\n",
    "plt.show()"
   ]
  },
  {
   "cell_type": "markdown",
   "metadata": {},
   "source": [
    "**¿Son significativas las diferencias en las ventas?**\n",
    "\n",
    "Sí, hay diferencias significativas entre las plataformas en cuanto a ventas.\n",
    "- Algunas plataformas tienen medianas de ventas mucho más altas.\n",
    "- Otras tienen una mayor dispersión en las ventas.\n",
    "- Hay plataformas con ventas muy bajas y menor dispersión.\n",
    "-Los puntos fuera de la caja indican títulos con ventas muy superiores a la media, que suelen ser los juegos más populares de cada plataforma."
   ]
  },
  {
   "cell_type": "markdown",
   "metadata": {},
   "source": [
    "**Ventas Promedio en Diferentes Plataformas**\n",
    "\n",
    "Plataformas con ventas promedio más altas\n",
    "- Wii, X360, PS2, PS3, WiiU: Estas consolas tuvieron múltiples juegos con grandes ventas, lo que eleva su promedio.\n",
    "Las cajas en el diagrama son más altas en estas plataformas, lo que indica que incluso los juegos de menor rendimiento lograban ventas decentes.\n",
    "\n",
    "Plataformas con ventas promedio más bajas\n",
    "- psv, Pc: Aunque algunas tuvieron juegos exitosos, la mayoría de sus títulos tuvieron ventas más bajas.\n",
    "\n",
    "Plataformas con ventas muy bajas o nicho\n",
    "- psp: Estas plataformas tienen medianas de ventas cercanas a cero, indicando que muy pocos juegos lograron éxito en el mercado."
   ]
  },
  {
   "cell_type": "markdown",
   "metadata": {},
   "source": [
    "**conclusiones**\n",
    "\n",
    "1. Las diferencias en ventas son muy significativas entre las plataformas, con algunas dominando el mercado y otras con impacto marginal.\n",
    "2. Las plataformas más exitosas muestran ventas más estables y con más juegos de alto rendimiento.\n",
    "3. Las plataformas más recientes (PS4) siguen mostrando potencial de crecimiento.\n",
    "4. El PC tiene una distribución amplia, lo que indica que hay juegos con ventas muy bajas y algunos con éxito considerable, reflejando un mercado más diverso."
   ]
  },
  {
   "cell_type": "markdown",
   "metadata": {},
   "source": [
    "### Reviews  "
   ]
  },
  {
   "cell_type": "code",
   "execution_count": 69,
   "metadata": {
    "trusted": true
   },
   "outputs": [
    {
     "data": {
      "image/png": "[encoded data removed]",
      "text/plain": [
       "<Figure size 1400x500 with 2 Axes>"
      ]
     },
     "metadata": {},
     "output_type": "display_data"
    }
   ],
   "source": [
    "# seleccionar platafomra\n",
    "df_ps4 = df_games[df_games['platform'] == 'ps4']\n",
    "\n",
    "# Crear gráficos de dispersión\n",
    "fig, ax = plt.subplots(1, 2, figsize=(14, 5))\n",
    "\n",
    "# Reviews de usuarios \n",
    "sns.scatterplot(data=df_ps4, x='user_score', y='sales_total', ax=ax[0])\n",
    "ax[0].set_title('Relación entre Reseñas de Usuarios y Ventas')\n",
    "ax[0].set_xlabel('Puntaje de Usuario')\n",
    "ax[0].set_ylabel('Ventas Totales')\n",
    "\n",
    "# Reviews  de criticos \n",
    "sns.scatterplot(data=df_ps4, x='critic_score', y='sales_total', ax=ax[1])\n",
    "ax[1].set_title('Relación entre Reseñas de Críticos y Ventas')\n",
    "ax[1].set_xlabel('Puntaje de Críticos')\n",
    "ax[1].set_ylabel('Ventas Totales')\n",
    "\n",
    "plt.tight_layout()\n",
    "plt.show()"
   ]
  },
  {
   "cell_type": "markdown",
   "metadata": {},
   "source": [
    "podemos observar que las Reviews de usuarios y criticos son bastantes parecidas"
   ]
  },
  {
   "cell_type": "code",
   "execution_count": 70,
   "metadata": {
    "trusted": true
   },
   "outputs": [
    {
     "name": "stdout",
     "output_type": "stream",
     "text": [
      "Correlación entre Reseñas de Usuarios y Ventas: -0.06\n",
      "Correlación entre Reseñas de Críticos y Ventas: 0.33\n"
     ]
    }
   ],
   "source": [
    "# Calcular correlaciones\n",
    "correlacion_user = df_ps4[['user_score', 'sales_total']].corr().iloc[0, 1]\n",
    "correlacion_critic = df_ps4[['critic_score', 'sales_total']].corr().iloc[0, 1]\n",
    "\n",
    "print(f\"Correlación entre Reseñas de Usuarios y Ventas: {correlacion_user:.2f}\")\n",
    "print(f\"Correlación entre Reseñas de Críticos y Ventas: {correlacion_critic:.2f}\")"
   ]
  },
  {
   "cell_type": "markdown",
   "metadata": {},
   "source": [
    "las reseñas de los criticos parece ser algo influyente a los usuarios a la hora de la venta. mientras que la correlación de reseñas de usuarios es negativa. en todo caso ninguna de las reseñas tiene influir en la venta"
   ]
  },
  {
   "cell_type": "markdown",
   "metadata": {},
   "source": [
    "### juegos"
   ]
  },
  {
   "cell_type": "code",
   "execution_count": 71,
   "metadata": {
    "trusted": true
   },
   "outputs": [],
   "source": [
    "# Filtrar solo los juegos que están en múltiples plataformas\n",
    "multi_platform_games = df_top_platforms[df_top_platforms.duplicated(subset=['name'], keep=False)]\n",
    "\n",
    "# Agrupar ventas por juego y plataforma\n",
    "sales_comparison = multi_platform_games.groupby(['name', 'platform'])['sales_total'].sum().unstack()"
   ]
  },
  {
   "cell_type": "code",
   "execution_count": 72,
   "metadata": {
    "scrolled": false,
    "trusted": true
   },
   "outputs": [
    {
     "data": {
      "text/plain": [
       "<Figure size 1400x600 with 0 Axes>"
      ]
     },
     "metadata": {},
     "output_type": "display_data"
    },
    {
     "data": {
      "image/png": "[encoded data removed]",
      "text/plain": [
       "<Figure size 1400x600 with 1 Axes>"
      ]
     },
     "metadata": {},
     "output_type": "display_data"
    }
   ],
   "source": [
    "# Tomar los juegos más vendidos en general\n",
    "top_games = sales_comparison.sum(axis=1).sort_values(ascending=False).head(10)\n",
    "\n",
    "# Graficar la comparación de ventas por plataforma\n",
    "plt.figure(figsize=(14, 6))\n",
    "sales_comparison.loc[top_games.index].T.plot(kind='bar', figsize=(14,6), width=0.8)\n",
    "plt.title('Comparación de Ventas de Juegos en Diferentes Plataformas')\n",
    "plt.xlabel('Plataforma')\n",
    "plt.ylabel('Ventas Totales')\n",
    "plt.xticks(rotation=360)\n",
    "plt.legend(title=\"Juegos\", bbox_to_anchor=(1,1))\n",
    "plt.show()"
   ]
  },
  {
   "cell_type": "markdown",
   "metadata": {},
   "source": [
    "- podemos observar como las franfranquicias de gta y cod lideran la industria de los videojuegos al ser los juego  mas vendidos en diversas plataformas. como excepción tenemos a Minecraft y the elder scrolls.\n",
    "- tambien podemos apreciar que en ps3 y x360 se concentran la gran mayoria de juegos que estan en diferentes paltafornas,"
   ]
  },
  {
   "cell_type": "markdown",
   "metadata": {},
   "source": [
    "### genero"
   ]
  },
  {
   "cell_type": "code",
   "execution_count": 73,
   "metadata": {
    "trusted": true
   },
   "outputs": [
    {
     "data": {
      "image/png": "[encoded data removed]",
      "text/plain": [
       "<Figure size 1000x500 with 1 Axes>"
      ]
     },
     "metadata": {},
     "output_type": "display_data"
    }
   ],
   "source": [
    "# suma total de ventas por genero\n",
    "genre_sales_sum = df_games.groupby('genre')['sales_total'].sum()\n",
    "\n",
    "genre_sales_sum.plot(\n",
    "kind='bar',\n",
    "title='ventas en base al genero (suma)',\n",
    "xlabel='genero',\n",
    "ylabel='ventas',\n",
    "figsize=(10,5),\n",
    "rot=45\n",
    ")\n",
    "\n",
    "plt.show()"
   ]
  },
  {
   "cell_type": "code",
   "execution_count": 74,
   "metadata": {
    "trusted": true
   },
   "outputs": [
    {
     "data": {
      "image/png": "[encoded data removed]",
      "text/plain": [
       "<Figure size 1000x500 with 1 Axes>"
      ]
     },
     "metadata": {},
     "output_type": "display_data"
    }
   ],
   "source": [
    "# promedio total de ventas por genero\n",
    "genre_sales_mean = df_games.groupby('genre')['sales_total'].mean()\n",
    "\n",
    "genre_sales_mean.plot(\n",
    "kind='bar',\n",
    "title='ventas en base al genero (promedio)',\n",
    "xlabel='genero',\n",
    "ylabel='ventas',\n",
    "figsize=(10,5),\n",
    "rot=45\n",
    ")\n",
    "\n",
    "plt.show()"
   ]
  },
  {
   "cell_type": "markdown",
   "metadata": {},
   "source": [
    "- la distribución entre la suma y el promedio son distintas. action libera en ventas y shooter en el promedio lo que indica que las juegos de shooter son mas costosos.\n",
    "- sports se encuentra en un equilibrio al tener ventas respecto al promedio."
   ]
  },
  {
   "cell_type": "markdown",
   "metadata": {},
   "source": [
    "## perfil de usuario para cada región"
   ]
  },
  {
   "cell_type": "markdown",
   "metadata": {},
   "source": [
    "### en base a las plataformas "
   ]
  },
  {
   "cell_type": "code",
   "execution_count": 75,
   "metadata": {
    "scrolled": false,
    "trusted": true
   },
   "outputs": [
    {
     "data": {
      "image/png": "[encoded data removed]",
      "text/plain": [
       "<Figure size 1000x500 with 1 Axes>"
      ]
     },
     "metadata": {},
     "output_type": "display_data"
    }
   ],
   "source": [
    "# Crear gráfico de barras sin apilar\n",
    "sales_by_platform = df_games.groupby('platform')[['na_sales', 'eu_sales', 'jp_sales']].sum()\n",
    "\n",
    "\n",
    "sales_by_platform.plot(\n",
    "    kind='bar', stacked=False, figsize=(10,5)\n",
    ")\n",
    "\n",
    "plt.title('Ventas por Plataforma en Diferentes Regiones')\n",
    "plt.xlabel('Plataforma')\n",
    "plt.ylabel('Ventas (en millones)')\n",
    "plt.legend(title='Región')\n",
    "plt.xticks(rotation=360)\n",
    "\n",
    "plt.show()"
   ]
  },
  {
   "cell_type": "markdown",
   "metadata": {},
   "source": [
    "las ventas por cada region son bastante diferentes por cada región.\n",
    "\n",
    "- norte america lidera con la xone, x360.\n",
    "- europa lidera la venta de la ps4 siendo la muy vendida en ese lugar, tambien es bastante vendida en norte america.\n",
    "- japon en general no tiene muchas ventas, pero es muy presente con la 3ds, siendo la mas popular en japon"
   ]
  },
  {
   "cell_type": "markdown",
   "metadata": {},
   "source": [
    "### en base a las categorias"
   ]
  },
  {
   "cell_type": "code",
   "execution_count": 76,
   "metadata": {
    "trusted": true
   },
   "outputs": [
    {
     "data": {
      "image/png": "[encoded data removed]",
      "text/plain": [
       "<Figure size 1000x500 with 1 Axes>"
      ]
     },
     "metadata": {},
     "output_type": "display_data"
    }
   ],
   "source": [
    "# Crear gráfico de barras sin apilar\n",
    "sales_by_genre = df_games.groupby('genre')[['na_sales', 'eu_sales', 'jp_sales']].sum()\n",
    "\n",
    "sales_by_genre.plot(\n",
    "    kind='bar', stacked=False, figsize=(10,5)\n",
    ")\n",
    "\n",
    "plt.title('Ventas por genero en Diferentes Regiones')\n",
    "plt.xlabel('genero')\n",
    "plt.ylabel('Ventas (en millones)')\n",
    "plt.legend(title='Región')\n",
    "plt.xticks(rotation=45)\n",
    "\n",
    "plt.show()"
   ]
  },
  {
   "cell_type": "markdown",
   "metadata": {},
   "source": [
    "- el genero de acción y shooter libera en norte america  y europa.\n",
    "- el genero sports tienen vantas buenas en norte america y europa, van muy a la par.\n",
    "- por otro lado el genero role-playing tambien tiene buenas ventas, menores que otras. pero es constate en las ventas ya que las 3 regiones tienen ventas parecidas.\n",
    "- japon no destaca mucho, solo en role-playing siendo el segundo con mas ventas."
   ]
  },
  {
   "cell_type": "markdown",
   "metadata": {},
   "source": [
    "### en base al ESRB "
   ]
  },
  {
   "cell_type": "code",
   "execution_count": 77,
   "metadata": {
    "trusted": true
   },
   "outputs": [
    {
     "data": {
      "image/png": "[encoded data removed]",
      "text/plain": [
       "<Figure size 1000x500 with 1 Axes>"
      ]
     },
     "metadata": {},
     "output_type": "display_data"
    }
   ],
   "source": [
    "# Crear gráfico de barras sin apilar\n",
    "sales_by_genre = df_games.groupby('rating')[['na_sales', 'eu_sales', 'jp_sales']].sum()\n",
    "\n",
    "sales_by_genre.plot(\n",
    "    kind='bar', stacked=False, figsize=(10,5)\n",
    ")\n",
    "\n",
    "plt.title('Ventas por genero en Diferentes Regiones')\n",
    "plt.xlabel('genero')\n",
    "plt.ylabel('Ventas (en millones)')\n",
    "plt.legend(title='Región')\n",
    "plt.xticks(rotation=360)\n",
    "\n",
    "plt.show()"
   ]
  },
  {
   "cell_type": "markdown",
   "metadata": {},
   "source": [
    "- podemos observar que la mayoria de ventas proviene de M (maduro), al ser para mayores de edad tiene su publico fijo que le gustan juegos con ese estilo\n",
    "\n",
    "- E, E10+, al ser para todos cuenta con buenas ventas.\n",
    "\n",
    "- RP (rating pendiente), una cantidad cosiderable de juegos no tienen clasificación, seria difícil determinar su segmento."
   ]
  },
  {
   "cell_type": "markdown",
   "metadata": {},
   "source": [
    "## pruebas de hipotesis"
   ]
  },
  {
   "cell_type": "markdown",
   "metadata": {},
   "source": [
    "### Las calificaciones promedio de los usuarios para las plataformas Xbox One y PC son las mismas."
   ]
  },
  {
   "cell_type": "code",
   "execution_count": 78,
   "metadata": {
    "trusted": true
   },
   "outputs": [
    {
     "name": "stdout",
     "output_type": "stream",
     "text": [
      "Valor p: 0.0413742316220153\n",
      "Rechazamos H₀: Las calificaciones promedio de los usuarios son significativamente diferentes entre Xbox One y PC.\n"
     ]
    }
   ],
   "source": [
    "# Extraer la plataforma\n",
    "xone = df_games[df_games['platform'] == 'xone']['user_score']\n",
    "pc = df_games[df_games['platform'] == 'pc']['user_score']\n",
    "\n",
    "\n",
    "# Realizar la prueba t de Student\n",
    "test_results = st.ttest_ind(xone, pc, equal_var=False)  # Welch's t-test\n",
    "\n",
    "# Nivel de significancia\n",
    "alpha = 0.05\n",
    "\n",
    "# Interpretar los resultados\n",
    "print('Valor p:', test_results.pvalue)\n",
    "\n",
    "if test_results.pvalue < alpha:\n",
    "    print(\"Rechazamos H₀: Las calificaciones promedio de los usuarios son significativamente diferentes entre Xbox One y PC.\")\n",
    "else:\n",
    "    print(\"No podemos rechazar H₀: No hay evidencia suficiente para afirmar que las calificaciones promedio de usuarios son distintas entre Xbox One y PC.\")"
   ]
  },
  {
   "cell_type": "markdown",
   "metadata": {},
   "source": [
    "### Las calificaciones promedio de los usuarios para los géneros de Acción y Deportes son diferentes."
   ]
  },
  {
   "cell_type": "code",
   "execution_count": 79,
   "metadata": {
    "trusted": true
   },
   "outputs": [
    {
     "name": "stdout",
     "output_type": "stream",
     "text": [
      "Valor p: 3.884930711016059e-17\n",
      "Rechazamos H₀: Las calificaciones promedio de los usuarios son significativamente diferentes entre los géneros de Acción y Deportes.\n"
     ]
    }
   ],
   "source": [
    "# Extraer la plataforma\n",
    "action = df_games[df_games['genre'] == 'action']['user_score']\n",
    "sports = df_games[df_games['genre'] == 'sports']['user_score']\n",
    "\n",
    "\n",
    "# Realizar la prueba t de Student\n",
    "test_results = st.ttest_ind(action, sports, equal_var=False)  # Welch's t-test\n",
    "\n",
    "# Nivel de significancia\n",
    "alpha = 0.05\n",
    "\n",
    "# Interpretar los resultados\n",
    "print('Valor p:', test_results.pvalue)\n",
    "\n",
    "if test_results.pvalue < alpha:\n",
    "    print(\"Rechazamos H₀: Las calificaciones promedio de los usuarios son significativamente diferentes entre los géneros de Acción y Deportes.\")\n",
    "else:\n",
    "    print(\"No podemos rechazar H₀: No hay evidencia suficiente para afirmar que las calificaciones promedio de usuarios son distintas entre los géneros de Acción y Deportes.\")"
   ]
  },
  {
   "cell_type": "markdown",
   "metadata": {},
   "source": [
    "## conclusiones"
   ]
  },
  {
   "cell_type": "markdown",
   "metadata": {},
   "source": [
    "Este análisis permitió identificar las tendencias clave en la industria de los videojuegos. Se observó que el mayor pico de lanzamientos ocurrió entre 2008 y 2009, y que las versiones de PlayStation han sido las más populares en ventas históricas, con la PS4 como la única con tendencia creciente (ya que fue lanzada recientemente).\n",
    "\n",
    "-  ventas varían por a género: Acción es el favorito en América y Europa,\n",
    "- en Japón no destacan mucho en ventas aun asi tiene buenas ventas en la 3ds y el genero de rol, se podria sacar mas juegos de rol para la 3ds y aumentar las ventas.\n",
    "- El análisis de correlación mostró que las calificaciones de usuarios no afectan significativamente las ventas. \n",
    "- Las pruebas de hipótesis indicaron diferencias en las calificaciones entre Xbox One y PC, pero no entre los géneros de Acción y Deportes.\n",
    "\n",
    "Estos hallazgos ofrecen información clave sobre la evolución del mercado y las preferencias de los jugadores, útiles para la toma de decisiones en la industria."
   ]
  }
 ],
 "metadata": {
  "ExecuteTimeLog": [
   {
    "duration": 310,
    "start_time": "2025-03-08T02:35:57.377Z"
   },
   {
    "duration": 35,
    "start_time": "2025-03-08T02:38:21.060Z"
   },
   {
    "duration": 32,
    "start_time": "2025-03-08T02:39:24.128Z"
   },
   {
    "duration": 14,
    "start_time": "2025-03-08T02:39:33.750Z"
   },
   {
    "duration": 12,
    "start_time": "2025-03-08T02:40:28.671Z"
   },
   {
    "duration": 24,
    "start_time": "2025-03-08T02:50:12.890Z"
   },
   {
    "duration": 10,
    "start_time": "2025-03-08T02:50:16.310Z"
   },
   {
    "duration": 11,
    "start_time": "2025-03-08T02:50:19.856Z"
   },
   {
    "duration": 110,
    "start_time": "2025-03-08T02:50:47.570Z"
   },
   {
    "duration": 394,
    "start_time": "2025-03-08T02:51:01.804Z"
   },
   {
    "duration": 200,
    "start_time": "2025-03-08T02:52:33.093Z"
   },
   {
    "duration": 7,
    "start_time": "2025-03-08T02:54:00.757Z"
   },
   {
    "duration": 13,
    "start_time": "2025-03-08T02:54:09.782Z"
   },
   {
    "duration": 5,
    "start_time": "2025-03-08T02:57:49.277Z"
   },
   {
    "duration": 122,
    "start_time": "2025-03-08T03:04:47.063Z"
   },
   {
    "duration": 28,
    "start_time": "2025-03-08T03:05:03.526Z"
   },
   {
    "duration": 13,
    "start_time": "2025-03-08T03:05:42.743Z"
   },
   {
    "duration": 14,
    "start_time": "2025-03-08T03:06:04.189Z"
   },
   {
    "duration": 4,
    "start_time": "2025-03-08T03:24:50.831Z"
   },
   {
    "duration": 6,
    "start_time": "2025-03-08T03:31:51.049Z"
   },
   {
    "duration": 13,
    "start_time": "2025-03-08T03:32:15.356Z"
   },
   {
    "duration": 5,
    "start_time": "2025-03-08T03:32:19.462Z"
   },
   {
    "duration": 6,
    "start_time": "2025-03-08T03:33:11.423Z"
   },
   {
    "duration": 11,
    "start_time": "2025-03-08T03:36:35.250Z"
   },
   {
    "duration": 11,
    "start_time": "2025-03-08T03:36:42.029Z"
   },
   {
    "duration": 9,
    "start_time": "2025-03-08T03:36:54.262Z"
   },
   {
    "duration": 6,
    "start_time": "2025-03-08T03:38:39.143Z"
   },
   {
    "duration": 8,
    "start_time": "2025-03-08T03:45:07.689Z"
   },
   {
    "duration": 320,
    "start_time": "2025-03-08T21:42:20.434Z"
   },
   {
    "duration": 35,
    "start_time": "2025-03-08T21:42:20.757Z"
   },
   {
    "duration": 15,
    "start_time": "2025-03-08T21:42:20.794Z"
   },
   {
    "duration": 12,
    "start_time": "2025-03-08T21:42:20.811Z"
   },
   {
    "duration": 10,
    "start_time": "2025-03-08T21:42:20.831Z"
   },
   {
    "duration": 13,
    "start_time": "2025-03-08T21:42:20.843Z"
   },
   {
    "duration": 5,
    "start_time": "2025-03-08T21:42:20.858Z"
   },
   {
    "duration": 9,
    "start_time": "2025-03-08T21:42:20.865Z"
   },
   {
    "duration": 6,
    "start_time": "2025-03-08T21:42:20.876Z"
   },
   {
    "duration": 8,
    "start_time": "2025-03-08T21:42:20.884Z"
   },
   {
    "duration": 295,
    "start_time": "2025-03-08T21:45:24.993Z"
   },
   {
    "duration": 31,
    "start_time": "2025-03-08T21:45:25.291Z"
   },
   {
    "duration": 19,
    "start_time": "2025-03-08T21:45:25.324Z"
   },
   {
    "duration": 12,
    "start_time": "2025-03-08T21:45:25.346Z"
   },
   {
    "duration": 10,
    "start_time": "2025-03-08T21:45:25.359Z"
   },
   {
    "duration": 15,
    "start_time": "2025-03-08T21:45:25.371Z"
   },
   {
    "duration": 44,
    "start_time": "2025-03-08T21:45:25.388Z"
   },
   {
    "duration": 21,
    "start_time": "2025-03-08T21:46:27.675Z"
   },
   {
    "duration": 10,
    "start_time": "2025-03-08T21:46:55.479Z"
   },
   {
    "duration": 12,
    "start_time": "2025-03-08T21:47:01.854Z"
   },
   {
    "duration": 11,
    "start_time": "2025-03-08T21:47:05.917Z"
   },
   {
    "duration": 21,
    "start_time": "2025-03-08T21:47:52.162Z"
   },
   {
    "duration": 20,
    "start_time": "2025-03-08T21:49:18.594Z"
   },
   {
    "duration": 22,
    "start_time": "2025-03-08T21:49:22.707Z"
   },
   {
    "duration": 22,
    "start_time": "2025-03-08T21:49:40.826Z"
   },
   {
    "duration": 7,
    "start_time": "2025-03-08T22:31:42.548Z"
   },
   {
    "duration": 7,
    "start_time": "2025-03-08T22:33:38.802Z"
   },
   {
    "duration": 101,
    "start_time": "2025-03-08T22:33:58.218Z"
   },
   {
    "duration": 6,
    "start_time": "2025-03-08T22:34:08.989Z"
   },
   {
    "duration": 8,
    "start_time": "2025-03-08T22:35:16.967Z"
   },
   {
    "duration": 9,
    "start_time": "2025-03-08T22:35:37.686Z"
   },
   {
    "duration": 8,
    "start_time": "2025-03-08T22:35:56.055Z"
   },
   {
    "duration": 8,
    "start_time": "2025-03-08T22:37:56.877Z"
   },
   {
    "duration": 8,
    "start_time": "2025-03-08T22:39:10.345Z"
   },
   {
    "duration": 560,
    "start_time": "2025-03-08T22:39:53.047Z"
   },
   {
    "duration": 39,
    "start_time": "2025-03-08T22:40:19.927Z"
   },
   {
    "duration": 10,
    "start_time": "2025-03-08T22:40:30.998Z"
   },
   {
    "duration": 11,
    "start_time": "2025-03-08T22:41:03.710Z"
   },
   {
    "duration": 5,
    "start_time": "2025-03-08T22:41:25.835Z"
   },
   {
    "duration": 11,
    "start_time": "2025-03-08T22:41:56.534Z"
   },
   {
    "duration": 3,
    "start_time": "2025-03-08T22:46:53.458Z"
   },
   {
    "duration": 17,
    "start_time": "2025-03-08T22:57:17.375Z"
   },
   {
    "duration": 7,
    "start_time": "2025-03-08T22:59:51.958Z"
   },
   {
    "duration": 4,
    "start_time": "2025-03-08T23:00:17.994Z"
   },
   {
    "duration": 4,
    "start_time": "2025-03-08T23:00:45.709Z"
   },
   {
    "duration": 8,
    "start_time": "2025-03-08T23:02:07.334Z"
   },
   {
    "duration": 16,
    "start_time": "2025-03-08T23:05:34.923Z"
   },
   {
    "duration": 7,
    "start_time": "2025-03-08T23:23:08.882Z"
   },
   {
    "duration": 3,
    "start_time": "2025-03-08T23:26:36.788Z"
   },
   {
    "duration": 7,
    "start_time": "2025-03-08T23:27:13.371Z"
   },
   {
    "duration": 4,
    "start_time": "2025-03-08T23:27:18.154Z"
   },
   {
    "duration": 13,
    "start_time": "2025-03-08T23:31:35.508Z"
   },
   {
    "duration": 4,
    "start_time": "2025-03-08T23:31:46.717Z"
   },
   {
    "duration": 11,
    "start_time": "2025-03-08T23:32:37.711Z"
   },
   {
    "duration": 21,
    "start_time": "2025-03-08T23:34:53.007Z"
   },
   {
    "duration": 8,
    "start_time": "2025-03-08T23:35:05.420Z"
   },
   {
    "duration": 4,
    "start_time": "2025-03-08T23:41:51.314Z"
   },
   {
    "duration": 7,
    "start_time": "2025-03-08T23:43:36.658Z"
   },
   {
    "duration": 281,
    "start_time": "2025-03-09T16:22:05.886Z"
   },
   {
    "duration": 35,
    "start_time": "2025-03-09T16:22:06.169Z"
   },
   {
    "duration": 16,
    "start_time": "2025-03-09T16:22:06.206Z"
   },
   {
    "duration": 12,
    "start_time": "2025-03-09T16:22:06.224Z"
   },
   {
    "duration": 28,
    "start_time": "2025-03-09T16:22:06.239Z"
   },
   {
    "duration": 12,
    "start_time": "2025-03-09T16:22:06.271Z"
   },
   {
    "duration": 14,
    "start_time": "2025-03-09T16:22:06.305Z"
   },
   {
    "duration": 10,
    "start_time": "2025-03-09T16:22:06.321Z"
   },
   {
    "duration": 16,
    "start_time": "2025-03-09T16:22:06.333Z"
   },
   {
    "duration": 7,
    "start_time": "2025-03-09T16:22:06.352Z"
   },
   {
    "duration": 4,
    "start_time": "2025-03-09T16:22:06.360Z"
   },
   {
    "duration": 45,
    "start_time": "2025-03-09T16:22:06.366Z"
   },
   {
    "duration": 13,
    "start_time": "2025-03-09T16:22:06.413Z"
   },
   {
    "duration": 14,
    "start_time": "2025-03-09T16:22:06.429Z"
   },
   {
    "duration": 7,
    "start_time": "2025-03-09T16:22:06.445Z"
   },
   {
    "duration": 9,
    "start_time": "2025-03-09T16:35:00.868Z"
   },
   {
    "duration": 3,
    "start_time": "2025-03-09T16:35:03.765Z"
   },
   {
    "duration": 8,
    "start_time": "2025-03-09T16:35:15.774Z"
   },
   {
    "duration": 8,
    "start_time": "2025-03-09T16:37:56.201Z"
   },
   {
    "duration": 5,
    "start_time": "2025-03-09T16:39:30.397Z"
   },
   {
    "duration": 4,
    "start_time": "2025-03-09T16:41:26.649Z"
   },
   {
    "duration": 12,
    "start_time": "2025-03-09T16:45:36.851Z"
   },
   {
    "duration": 290,
    "start_time": "2025-03-09T16:56:27.300Z"
   },
   {
    "duration": 28,
    "start_time": "2025-03-09T16:56:27.592Z"
   },
   {
    "duration": 18,
    "start_time": "2025-03-09T16:56:27.622Z"
   },
   {
    "duration": 15,
    "start_time": "2025-03-09T16:56:27.642Z"
   },
   {
    "duration": 24,
    "start_time": "2025-03-09T16:56:27.660Z"
   },
   {
    "duration": 11,
    "start_time": "2025-03-09T16:56:27.705Z"
   },
   {
    "duration": 19,
    "start_time": "2025-03-09T16:56:27.718Z"
   },
   {
    "duration": 21,
    "start_time": "2025-03-09T16:56:27.740Z"
   },
   {
    "duration": 7,
    "start_time": "2025-03-09T16:56:27.764Z"
   },
   {
    "duration": 6,
    "start_time": "2025-03-09T16:56:27.775Z"
   },
   {
    "duration": 10,
    "start_time": "2025-03-09T16:56:27.805Z"
   },
   {
    "duration": 11,
    "start_time": "2025-03-09T16:56:27.819Z"
   },
   {
    "duration": 5,
    "start_time": "2025-03-09T16:56:27.832Z"
   },
   {
    "duration": 3,
    "start_time": "2025-03-09T16:56:27.841Z"
   },
   {
    "duration": 9,
    "start_time": "2025-03-09T16:56:27.846Z"
   },
   {
    "duration": 1054,
    "start_time": "2025-03-09T16:56:27.857Z"
   },
   {
    "duration": 0,
    "start_time": "2025-03-09T16:56:28.914Z"
   },
   {
    "duration": 0,
    "start_time": "2025-03-09T16:56:28.915Z"
   },
   {
    "duration": 0,
    "start_time": "2025-03-09T16:56:28.918Z"
   },
   {
    "duration": 0,
    "start_time": "2025-03-09T16:56:28.919Z"
   },
   {
    "duration": 9,
    "start_time": "2025-03-09T16:58:18.136Z"
   },
   {
    "duration": 8,
    "start_time": "2025-03-09T16:58:42.962Z"
   },
   {
    "duration": 6,
    "start_time": "2025-03-09T16:58:50.208Z"
   },
   {
    "duration": 6,
    "start_time": "2025-03-09T16:58:55.831Z"
   },
   {
    "duration": 8,
    "start_time": "2025-03-09T16:59:04.172Z"
   },
   {
    "duration": 7,
    "start_time": "2025-03-09T16:59:08.955Z"
   },
   {
    "duration": 8,
    "start_time": "2025-03-09T16:59:30.515Z"
   },
   {
    "duration": 286,
    "start_time": "2025-03-09T18:56:06.150Z"
   },
   {
    "duration": 38,
    "start_time": "2025-03-09T18:56:06.438Z"
   },
   {
    "duration": 14,
    "start_time": "2025-03-09T18:56:06.478Z"
   },
   {
    "duration": 11,
    "start_time": "2025-03-09T18:56:06.493Z"
   },
   {
    "duration": 21,
    "start_time": "2025-03-09T18:56:06.506Z"
   },
   {
    "duration": 10,
    "start_time": "2025-03-09T18:56:06.528Z"
   },
   {
    "duration": 13,
    "start_time": "2025-03-09T18:56:06.540Z"
   },
   {
    "duration": 40,
    "start_time": "2025-03-09T18:56:06.554Z"
   },
   {
    "duration": 7,
    "start_time": "2025-03-09T18:56:06.595Z"
   },
   {
    "duration": 4,
    "start_time": "2025-03-09T18:56:06.604Z"
   },
   {
    "duration": 6,
    "start_time": "2025-03-09T18:56:06.610Z"
   },
   {
    "duration": 7,
    "start_time": "2025-03-09T18:56:06.619Z"
   },
   {
    "duration": 4,
    "start_time": "2025-03-09T18:56:06.627Z"
   },
   {
    "duration": 2,
    "start_time": "2025-03-09T18:56:06.633Z"
   },
   {
    "duration": 50,
    "start_time": "2025-03-09T18:56:06.637Z"
   },
   {
    "duration": 639,
    "start_time": "2025-03-09T18:56:06.688Z"
   },
   {
    "duration": 0,
    "start_time": "2025-03-09T18:56:07.330Z"
   },
   {
    "duration": 0,
    "start_time": "2025-03-09T18:56:07.331Z"
   },
   {
    "duration": 1,
    "start_time": "2025-03-09T18:56:07.332Z"
   },
   {
    "duration": 0,
    "start_time": "2025-03-09T18:56:07.334Z"
   },
   {
    "duration": 283,
    "start_time": "2025-03-09T18:56:37.874Z"
   },
   {
    "duration": 27,
    "start_time": "2025-03-09T18:56:38.159Z"
   },
   {
    "duration": 13,
    "start_time": "2025-03-09T18:56:38.188Z"
   },
   {
    "duration": 11,
    "start_time": "2025-03-09T18:56:38.204Z"
   },
   {
    "duration": 21,
    "start_time": "2025-03-09T18:56:38.217Z"
   },
   {
    "duration": 12,
    "start_time": "2025-03-09T18:56:38.240Z"
   },
   {
    "duration": 45,
    "start_time": "2025-03-09T18:56:38.253Z"
   },
   {
    "duration": 16,
    "start_time": "2025-03-09T18:56:38.299Z"
   },
   {
    "duration": 6,
    "start_time": "2025-03-09T18:56:38.316Z"
   },
   {
    "duration": 3,
    "start_time": "2025-03-09T18:56:38.325Z"
   },
   {
    "duration": 5,
    "start_time": "2025-03-09T18:56:38.330Z"
   },
   {
    "duration": 6,
    "start_time": "2025-03-09T18:56:38.337Z"
   },
   {
    "duration": 3,
    "start_time": "2025-03-09T18:56:38.345Z"
   },
   {
    "duration": 6,
    "start_time": "2025-03-09T18:56:38.387Z"
   },
   {
    "duration": 7,
    "start_time": "2025-03-09T18:56:38.394Z"
   },
   {
    "duration": 8,
    "start_time": "2025-03-09T18:56:38.402Z"
   },
   {
    "duration": 4,
    "start_time": "2025-03-09T18:56:38.411Z"
   },
   {
    "duration": 0,
    "start_time": "2025-03-09T18:56:38.417Z"
   },
   {
    "duration": 0,
    "start_time": "2025-03-09T18:56:38.418Z"
   },
   {
    "duration": 0,
    "start_time": "2025-03-09T18:56:38.419Z"
   },
   {
    "duration": 4,
    "start_time": "2025-03-09T18:57:09.406Z"
   },
   {
    "duration": 4,
    "start_time": "2025-03-09T18:57:09.903Z"
   },
   {
    "duration": 11,
    "start_time": "2025-03-09T18:57:10.501Z"
   },
   {
    "duration": 3,
    "start_time": "2025-03-09T19:00:18.043Z"
   },
   {
    "duration": 7,
    "start_time": "2025-03-09T19:00:22.328Z"
   },
   {
    "duration": 3,
    "start_time": "2025-03-09T19:00:29.720Z"
   },
   {
    "duration": 8,
    "start_time": "2025-03-09T19:00:31.260Z"
   },
   {
    "duration": 13,
    "start_time": "2025-03-09T19:00:40.326Z"
   },
   {
    "duration": 16,
    "start_time": "2025-03-09T19:04:54.688Z"
   },
   {
    "duration": 14,
    "start_time": "2025-03-09T19:15:34.022Z"
   },
   {
    "duration": 13,
    "start_time": "2025-03-09T19:15:58.881Z"
   },
   {
    "duration": 345,
    "start_time": "2025-03-09T19:16:07.003Z"
   },
   {
    "duration": 26,
    "start_time": "2025-03-09T19:16:07.350Z"
   },
   {
    "duration": 20,
    "start_time": "2025-03-09T19:16:07.378Z"
   },
   {
    "duration": 12,
    "start_time": "2025-03-09T19:16:07.401Z"
   },
   {
    "duration": 21,
    "start_time": "2025-03-09T19:16:07.415Z"
   },
   {
    "duration": 11,
    "start_time": "2025-03-09T19:16:07.439Z"
   },
   {
    "duration": 44,
    "start_time": "2025-03-09T19:16:07.451Z"
   },
   {
    "duration": 16,
    "start_time": "2025-03-09T19:16:07.497Z"
   },
   {
    "duration": 7,
    "start_time": "2025-03-09T19:16:07.515Z"
   },
   {
    "duration": 3,
    "start_time": "2025-03-09T19:16:07.526Z"
   },
   {
    "duration": 6,
    "start_time": "2025-03-09T19:16:07.531Z"
   },
   {
    "duration": 7,
    "start_time": "2025-03-09T19:16:07.539Z"
   },
   {
    "duration": 39,
    "start_time": "2025-03-09T19:16:07.548Z"
   },
   {
    "duration": 6,
    "start_time": "2025-03-09T19:16:07.589Z"
   },
   {
    "duration": 7,
    "start_time": "2025-03-09T19:16:07.597Z"
   },
   {
    "duration": 8,
    "start_time": "2025-03-09T19:16:07.605Z"
   },
   {
    "duration": 5,
    "start_time": "2025-03-09T19:16:07.614Z"
   },
   {
    "duration": 4,
    "start_time": "2025-03-09T19:16:07.621Z"
   },
   {
    "duration": 12,
    "start_time": "2025-03-09T19:16:07.627Z"
   },
   {
    "duration": 56,
    "start_time": "2025-03-09T19:16:07.641Z"
   },
   {
    "duration": 13,
    "start_time": "2025-03-09T19:16:07.698Z"
   },
   {
    "duration": 19,
    "start_time": "2025-03-09T19:18:24.843Z"
   },
   {
    "duration": 10,
    "start_time": "2025-03-09T19:18:39.528Z"
   },
   {
    "duration": 301,
    "start_time": "2025-03-09T19:22:18.633Z"
   },
   {
    "duration": 23,
    "start_time": "2025-03-09T19:22:18.936Z"
   },
   {
    "duration": 13,
    "start_time": "2025-03-09T19:22:18.961Z"
   },
   {
    "duration": 21,
    "start_time": "2025-03-09T19:22:18.976Z"
   },
   {
    "duration": 21,
    "start_time": "2025-03-09T19:22:18.999Z"
   },
   {
    "duration": 11,
    "start_time": "2025-03-09T19:22:19.022Z"
   },
   {
    "duration": 14,
    "start_time": "2025-03-09T19:22:19.034Z"
   },
   {
    "duration": 44,
    "start_time": "2025-03-09T19:22:19.050Z"
   },
   {
    "duration": 7,
    "start_time": "2025-03-09T19:22:19.096Z"
   },
   {
    "duration": 3,
    "start_time": "2025-03-09T19:22:19.105Z"
   },
   {
    "duration": 558,
    "start_time": "2025-03-09T19:22:19.109Z"
   },
   {
    "duration": 0,
    "start_time": "2025-03-09T19:22:19.669Z"
   },
   {
    "duration": 0,
    "start_time": "2025-03-09T19:22:19.671Z"
   },
   {
    "duration": 0,
    "start_time": "2025-03-09T19:22:19.672Z"
   },
   {
    "duration": 0,
    "start_time": "2025-03-09T19:22:19.674Z"
   },
   {
    "duration": 0,
    "start_time": "2025-03-09T19:22:19.686Z"
   },
   {
    "duration": 0,
    "start_time": "2025-03-09T19:22:19.687Z"
   },
   {
    "duration": 0,
    "start_time": "2025-03-09T19:22:19.688Z"
   },
   {
    "duration": 0,
    "start_time": "2025-03-09T19:22:19.689Z"
   },
   {
    "duration": 0,
    "start_time": "2025-03-09T19:22:19.690Z"
   },
   {
    "duration": 0,
    "start_time": "2025-03-09T19:22:19.692Z"
   },
   {
    "duration": 276,
    "start_time": "2025-03-09T19:22:34.864Z"
   },
   {
    "duration": 24,
    "start_time": "2025-03-09T19:22:35.142Z"
   },
   {
    "duration": 26,
    "start_time": "2025-03-09T19:22:35.168Z"
   },
   {
    "duration": 12,
    "start_time": "2025-03-09T19:22:35.195Z"
   },
   {
    "duration": 20,
    "start_time": "2025-03-09T19:22:35.210Z"
   },
   {
    "duration": 10,
    "start_time": "2025-03-09T19:22:35.232Z"
   },
   {
    "duration": 13,
    "start_time": "2025-03-09T19:22:35.243Z"
   },
   {
    "duration": 43,
    "start_time": "2025-03-09T19:22:35.258Z"
   },
   {
    "duration": 8,
    "start_time": "2025-03-09T19:22:35.303Z"
   },
   {
    "duration": 3,
    "start_time": "2025-03-09T19:22:35.313Z"
   },
   {
    "duration": 6,
    "start_time": "2025-03-09T19:22:35.317Z"
   },
   {
    "duration": 7,
    "start_time": "2025-03-09T19:22:35.325Z"
   },
   {
    "duration": 587,
    "start_time": "2025-03-09T19:22:35.334Z"
   },
   {
    "duration": 0,
    "start_time": "2025-03-09T19:22:35.923Z"
   },
   {
    "duration": 0,
    "start_time": "2025-03-09T19:22:35.925Z"
   },
   {
    "duration": 0,
    "start_time": "2025-03-09T19:22:35.926Z"
   },
   {
    "duration": 0,
    "start_time": "2025-03-09T19:22:35.928Z"
   },
   {
    "duration": 0,
    "start_time": "2025-03-09T19:22:35.929Z"
   },
   {
    "duration": 0,
    "start_time": "2025-03-09T19:22:35.930Z"
   },
   {
    "duration": 0,
    "start_time": "2025-03-09T19:22:35.932Z"
   },
   {
    "duration": 0,
    "start_time": "2025-03-09T19:22:35.934Z"
   },
   {
    "duration": 329,
    "start_time": "2025-03-09T19:22:59.892Z"
   },
   {
    "duration": 24,
    "start_time": "2025-03-09T19:23:00.223Z"
   },
   {
    "duration": 15,
    "start_time": "2025-03-09T19:23:00.249Z"
   },
   {
    "duration": 24,
    "start_time": "2025-03-09T19:23:00.267Z"
   },
   {
    "duration": 22,
    "start_time": "2025-03-09T19:23:00.292Z"
   },
   {
    "duration": 9,
    "start_time": "2025-03-09T19:23:00.316Z"
   },
   {
    "duration": 14,
    "start_time": "2025-03-09T19:23:00.327Z"
   },
   {
    "duration": 17,
    "start_time": "2025-03-09T19:23:00.342Z"
   },
   {
    "duration": 7,
    "start_time": "2025-03-09T19:23:00.387Z"
   },
   {
    "duration": 4,
    "start_time": "2025-03-09T19:23:00.396Z"
   },
   {
    "duration": 8,
    "start_time": "2025-03-09T19:23:00.401Z"
   },
   {
    "duration": 7,
    "start_time": "2025-03-09T19:23:00.410Z"
   },
   {
    "duration": 4,
    "start_time": "2025-03-09T19:23:00.418Z"
   },
   {
    "duration": 8,
    "start_time": "2025-03-09T19:23:00.423Z"
   },
   {
    "duration": 7,
    "start_time": "2025-03-09T19:23:00.432Z"
   },
   {
    "duration": 47,
    "start_time": "2025-03-09T19:23:00.440Z"
   },
   {
    "duration": 4,
    "start_time": "2025-03-09T19:23:00.489Z"
   },
   {
    "duration": 5,
    "start_time": "2025-03-09T19:23:00.494Z"
   },
   {
    "duration": 11,
    "start_time": "2025-03-09T19:23:00.502Z"
   },
   {
    "duration": 14,
    "start_time": "2025-03-09T19:23:00.515Z"
   },
   {
    "duration": 13,
    "start_time": "2025-03-09T19:23:00.530Z"
   },
   {
    "duration": 7,
    "start_time": "2025-03-09T19:30:42.395Z"
   },
   {
    "duration": 4,
    "start_time": "2025-03-09T19:33:47.186Z"
   },
   {
    "duration": 1859,
    "start_time": "2025-03-09T19:34:53.043Z"
   },
   {
    "duration": 5,
    "start_time": "2025-03-09T19:46:00.550Z"
   },
   {
    "duration": 3,
    "start_time": "2025-03-09T19:46:16.104Z"
   },
   {
    "duration": 233,
    "start_time": "2025-03-09T19:46:33.669Z"
   },
   {
    "duration": 126,
    "start_time": "2025-03-09T19:46:48.899Z"
   },
   {
    "duration": 115,
    "start_time": "2025-03-09T19:47:54.601Z"
   },
   {
    "duration": 119,
    "start_time": "2025-03-09T19:48:52.468Z"
   },
   {
    "duration": 116,
    "start_time": "2025-03-09T19:53:52.574Z"
   },
   {
    "duration": 7,
    "start_time": "2025-03-09T19:54:01.713Z"
   },
   {
    "duration": 3,
    "start_time": "2025-03-09T19:56:05.463Z"
   },
   {
    "duration": 120,
    "start_time": "2025-03-09T19:56:10.756Z"
   },
   {
    "duration": 118,
    "start_time": "2025-03-09T19:56:19.599Z"
   },
   {
    "duration": 132,
    "start_time": "2025-03-09T19:56:41.182Z"
   },
   {
    "duration": 123,
    "start_time": "2025-03-09T19:57:05.839Z"
   },
   {
    "duration": 118,
    "start_time": "2025-03-09T19:57:17.094Z"
   },
   {
    "duration": 124,
    "start_time": "2025-03-09T19:57:34.108Z"
   },
   {
    "duration": 148,
    "start_time": "2025-03-09T20:02:51.302Z"
   },
   {
    "duration": 185,
    "start_time": "2025-03-09T20:02:58.950Z"
   },
   {
    "duration": 119,
    "start_time": "2025-03-09T20:03:28.204Z"
   },
   {
    "duration": 4,
    "start_time": "2025-03-09T20:04:34.276Z"
   },
   {
    "duration": 129,
    "start_time": "2025-03-09T20:04:40.317Z"
   },
   {
    "duration": 131,
    "start_time": "2025-03-09T20:05:15.001Z"
   },
   {
    "duration": 157,
    "start_time": "2025-03-09T20:05:19.624Z"
   },
   {
    "duration": 131,
    "start_time": "2025-03-09T20:05:27.879Z"
   },
   {
    "duration": 132,
    "start_time": "2025-03-09T20:06:07.018Z"
   },
   {
    "duration": 137,
    "start_time": "2025-03-09T20:06:17.199Z"
   },
   {
    "duration": 158,
    "start_time": "2025-03-09T20:06:28.452Z"
   },
   {
    "duration": 129,
    "start_time": "2025-03-09T20:06:44.738Z"
   },
   {
    "duration": 118,
    "start_time": "2025-03-09T20:06:56.957Z"
   },
   {
    "duration": 6,
    "start_time": "2025-03-09T20:07:07.058Z"
   },
   {
    "duration": 6,
    "start_time": "2025-03-09T20:07:15.878Z"
   },
   {
    "duration": 189,
    "start_time": "2025-03-09T20:08:28.408Z"
   },
   {
    "duration": 254,
    "start_time": "2025-03-09T20:09:52.835Z"
   },
   {
    "duration": 205,
    "start_time": "2025-03-09T20:12:31.417Z"
   },
   {
    "duration": 205,
    "start_time": "2025-03-09T20:13:05.880Z"
   },
   {
    "duration": 213,
    "start_time": "2025-03-09T20:15:21.252Z"
   },
   {
    "duration": 4,
    "start_time": "2025-03-09T20:16:14.895Z"
   },
   {
    "duration": 5,
    "start_time": "2025-03-09T20:16:38.923Z"
   },
   {
    "duration": 195,
    "start_time": "2025-03-09T20:17:01.852Z"
   },
   {
    "duration": 200,
    "start_time": "2025-03-09T20:17:24.959Z"
   },
   {
    "duration": 270,
    "start_time": "2025-03-09T20:17:52.902Z"
   },
   {
    "duration": 119,
    "start_time": "2025-03-09T20:23:15.794Z"
   },
   {
    "duration": 209,
    "start_time": "2025-03-09T20:25:19.741Z"
   },
   {
    "duration": 3,
    "start_time": "2025-03-09T20:45:25.367Z"
   },
   {
    "duration": 13,
    "start_time": "2025-03-09T20:45:47.917Z"
   },
   {
    "duration": 13,
    "start_time": "2025-03-09T20:46:01.592Z"
   },
   {
    "duration": 5,
    "start_time": "2025-03-09T20:46:26.877Z"
   },
   {
    "duration": 8,
    "start_time": "2025-03-09T20:46:29.019Z"
   },
   {
    "duration": 139,
    "start_time": "2025-03-09T20:47:06.084Z"
   },
   {
    "duration": 133,
    "start_time": "2025-03-09T20:47:52.133Z"
   },
   {
    "duration": 224,
    "start_time": "2025-03-09T20:50:03.969Z"
   },
   {
    "duration": 6,
    "start_time": "2025-03-09T20:50:13.487Z"
   },
   {
    "duration": 7,
    "start_time": "2025-03-09T20:50:22.460Z"
   },
   {
    "duration": 158,
    "start_time": "2025-03-09T20:50:24.453Z"
   },
   {
    "duration": 6,
    "start_time": "2025-03-09T20:50:46.351Z"
   },
   {
    "duration": 146,
    "start_time": "2025-03-09T20:50:50.334Z"
   },
   {
    "duration": 231,
    "start_time": "2025-03-09T20:51:14.695Z"
   },
   {
    "duration": 588,
    "start_time": "2025-03-09T20:51:55.750Z"
   },
   {
    "duration": 5,
    "start_time": "2025-03-09T20:53:03.809Z"
   },
   {
    "duration": 7,
    "start_time": "2025-03-09T20:53:17.455Z"
   },
   {
    "duration": 15,
    "start_time": "2025-03-09T20:54:00.847Z"
   },
   {
    "duration": 7,
    "start_time": "2025-03-09T20:54:53.198Z"
   },
   {
    "duration": 13,
    "start_time": "2025-03-09T20:55:11.196Z"
   },
   {
    "duration": 4,
    "start_time": "2025-03-09T20:55:15.902Z"
   },
   {
    "duration": 6,
    "start_time": "2025-03-09T20:55:31.270Z"
   },
   {
    "duration": 115,
    "start_time": "2025-03-09T20:56:03.376Z"
   },
   {
    "duration": 203,
    "start_time": "2025-03-09T20:56:29.760Z"
   },
   {
    "duration": 13,
    "start_time": "2025-03-09T20:59:42.133Z"
   },
   {
    "duration": 12,
    "start_time": "2025-03-09T20:59:46.649Z"
   },
   {
    "duration": 428,
    "start_time": "2025-03-09T21:00:53.343Z"
   },
   {
    "duration": 55,
    "start_time": "2025-03-09T21:00:53.773Z"
   },
   {
    "duration": 13,
    "start_time": "2025-03-09T21:00:53.830Z"
   },
   {
    "duration": 11,
    "start_time": "2025-03-09T21:00:53.844Z"
   },
   {
    "duration": 44,
    "start_time": "2025-03-09T21:00:53.857Z"
   },
   {
    "duration": 12,
    "start_time": "2025-03-09T21:00:53.902Z"
   },
   {
    "duration": 17,
    "start_time": "2025-03-09T21:00:53.915Z"
   },
   {
    "duration": 15,
    "start_time": "2025-03-09T21:00:53.934Z"
   },
   {
    "duration": 8,
    "start_time": "2025-03-09T21:00:53.950Z"
   },
   {
    "duration": 3,
    "start_time": "2025-03-09T21:00:53.987Z"
   },
   {
    "duration": 6,
    "start_time": "2025-03-09T21:00:53.992Z"
   },
   {
    "duration": 7,
    "start_time": "2025-03-09T21:00:53.999Z"
   },
   {
    "duration": 3,
    "start_time": "2025-03-09T21:00:54.008Z"
   },
   {
    "duration": 6,
    "start_time": "2025-03-09T21:00:54.015Z"
   },
   {
    "duration": 7,
    "start_time": "2025-03-09T21:00:54.022Z"
   },
   {
    "duration": 8,
    "start_time": "2025-03-09T21:00:54.030Z"
   },
   {
    "duration": 3,
    "start_time": "2025-03-09T21:00:54.039Z"
   },
   {
    "duration": 4,
    "start_time": "2025-03-09T21:00:54.087Z"
   },
   {
    "duration": 11,
    "start_time": "2025-03-09T21:00:54.092Z"
   },
   {
    "duration": 14,
    "start_time": "2025-03-09T21:00:54.105Z"
   },
   {
    "duration": 14,
    "start_time": "2025-03-09T21:00:54.120Z"
   },
   {
    "duration": 6,
    "start_time": "2025-03-09T21:00:54.135Z"
   },
   {
    "duration": 160,
    "start_time": "2025-03-09T21:00:54.143Z"
   },
   {
    "duration": 223,
    "start_time": "2025-03-09T21:00:54.305Z"
   },
   {
    "duration": 5,
    "start_time": "2025-03-09T21:00:54.530Z"
   },
   {
    "duration": 11,
    "start_time": "2025-03-09T21:00:54.537Z"
   },
   {
    "duration": 119,
    "start_time": "2025-03-09T21:04:20.270Z"
   },
   {
    "duration": 4,
    "start_time": "2025-03-09T21:05:21.975Z"
   },
   {
    "duration": 110,
    "start_time": "2025-03-09T21:05:34.120Z"
   },
   {
    "duration": 139,
    "start_time": "2025-03-09T21:07:32.658Z"
   },
   {
    "duration": 130,
    "start_time": "2025-03-09T21:07:59.740Z"
   },
   {
    "duration": 555,
    "start_time": "2025-03-09T21:25:12.677Z"
   },
   {
    "duration": 128,
    "start_time": "2025-03-09T21:25:19.476Z"
   },
   {
    "duration": 127,
    "start_time": "2025-03-09T21:25:35.314Z"
   },
   {
    "duration": 74,
    "start_time": "2025-03-09T21:27:38.099Z"
   },
   {
    "duration": 15,
    "start_time": "2025-03-09T21:27:59.754Z"
   },
   {
    "duration": 13109,
    "start_time": "2025-03-09T21:28:24.237Z"
   },
   {
    "duration": 218,
    "start_time": "2025-03-09T21:35:48.662Z"
   },
   {
    "duration": 209,
    "start_time": "2025-03-09T21:44:44.482Z"
   },
   {
    "duration": 252,
    "start_time": "2025-03-09T21:45:32.917Z"
   },
   {
    "duration": 122,
    "start_time": "2025-03-09T21:45:46.840Z"
   },
   {
    "duration": 13,
    "start_time": "2025-03-09T22:02:31.704Z"
   },
   {
    "duration": 4,
    "start_time": "2025-03-09T22:03:01.555Z"
   },
   {
    "duration": 164,
    "start_time": "2025-03-09T22:03:11.841Z"
   },
   {
    "duration": 400,
    "start_time": "2025-03-09T22:03:41.850Z"
   },
   {
    "duration": 62,
    "start_time": "2025-03-09T22:03:42.252Z"
   },
   {
    "duration": 13,
    "start_time": "2025-03-09T22:03:42.316Z"
   },
   {
    "duration": 10,
    "start_time": "2025-03-09T22:03:42.331Z"
   },
   {
    "duration": 21,
    "start_time": "2025-03-09T22:03:42.343Z"
   },
   {
    "duration": 10,
    "start_time": "2025-03-09T22:03:42.387Z"
   },
   {
    "duration": 13,
    "start_time": "2025-03-09T22:03:42.399Z"
   },
   {
    "duration": 16,
    "start_time": "2025-03-09T22:03:42.413Z"
   },
   {
    "duration": 7,
    "start_time": "2025-03-09T22:03:42.430Z"
   },
   {
    "duration": 3,
    "start_time": "2025-03-09T22:03:42.438Z"
   },
   {
    "duration": 6,
    "start_time": "2025-03-09T22:03:42.443Z"
   },
   {
    "duration": 42,
    "start_time": "2025-03-09T22:03:42.450Z"
   },
   {
    "duration": 3,
    "start_time": "2025-03-09T22:03:42.494Z"
   },
   {
    "duration": 6,
    "start_time": "2025-03-09T22:03:42.502Z"
   },
   {
    "duration": 8,
    "start_time": "2025-03-09T22:03:42.509Z"
   },
   {
    "duration": 7,
    "start_time": "2025-03-09T22:03:42.519Z"
   },
   {
    "duration": 4,
    "start_time": "2025-03-09T22:03:42.528Z"
   },
   {
    "duration": 3,
    "start_time": "2025-03-09T22:03:42.534Z"
   },
   {
    "duration": 48,
    "start_time": "2025-03-09T22:03:42.539Z"
   },
   {
    "duration": 14,
    "start_time": "2025-03-09T22:03:42.589Z"
   },
   {
    "duration": 12,
    "start_time": "2025-03-09T22:03:42.604Z"
   },
   {
    "duration": 152,
    "start_time": "2025-03-09T22:03:42.618Z"
   },
   {
    "duration": 226,
    "start_time": "2025-03-09T22:03:42.771Z"
   },
   {
    "duration": 4,
    "start_time": "2025-03-09T22:03:42.999Z"
   },
   {
    "duration": 239,
    "start_time": "2025-03-09T22:03:43.005Z"
   },
   {
    "duration": 15,
    "start_time": "2025-03-09T22:03:57.846Z"
   },
   {
    "duration": 8,
    "start_time": "2025-03-09T22:04:10.195Z"
   },
   {
    "duration": 9,
    "start_time": "2025-03-09T22:04:14.874Z"
   },
   {
    "duration": 15,
    "start_time": "2025-03-09T22:04:23.056Z"
   },
   {
    "duration": 13,
    "start_time": "2025-03-09T22:04:31.564Z"
   },
   {
    "duration": 455,
    "start_time": "2025-03-09T22:04:37.300Z"
   },
   {
    "duration": 57,
    "start_time": "2025-03-09T22:04:37.757Z"
   },
   {
    "duration": 13,
    "start_time": "2025-03-09T22:04:37.816Z"
   },
   {
    "duration": 11,
    "start_time": "2025-03-09T22:04:37.831Z"
   },
   {
    "duration": 46,
    "start_time": "2025-03-09T22:04:37.844Z"
   },
   {
    "duration": 12,
    "start_time": "2025-03-09T22:04:37.891Z"
   },
   {
    "duration": 15,
    "start_time": "2025-03-09T22:04:37.905Z"
   },
   {
    "duration": 17,
    "start_time": "2025-03-09T22:04:37.921Z"
   },
   {
    "duration": 7,
    "start_time": "2025-03-09T22:04:37.939Z"
   },
   {
    "duration": 3,
    "start_time": "2025-03-09T22:04:37.950Z"
   },
   {
    "duration": 7,
    "start_time": "2025-03-09T22:04:37.987Z"
   },
   {
    "duration": 7,
    "start_time": "2025-03-09T22:04:37.996Z"
   },
   {
    "duration": 4,
    "start_time": "2025-03-09T22:04:38.005Z"
   },
   {
    "duration": 7,
    "start_time": "2025-03-09T22:04:38.011Z"
   },
   {
    "duration": 7,
    "start_time": "2025-03-09T22:04:38.020Z"
   },
   {
    "duration": 8,
    "start_time": "2025-03-09T22:04:38.029Z"
   },
   {
    "duration": 4,
    "start_time": "2025-03-09T22:04:38.038Z"
   },
   {
    "duration": 3,
    "start_time": "2025-03-09T22:04:38.087Z"
   },
   {
    "duration": 12,
    "start_time": "2025-03-09T22:04:38.092Z"
   },
   {
    "duration": 16,
    "start_time": "2025-03-09T22:04:38.106Z"
   },
   {
    "duration": 16,
    "start_time": "2025-03-09T22:04:38.124Z"
   },
   {
    "duration": 160,
    "start_time": "2025-03-09T22:04:38.142Z"
   },
   {
    "duration": 216,
    "start_time": "2025-03-09T22:04:38.304Z"
   },
   {
    "duration": 8,
    "start_time": "2025-03-09T22:04:38.521Z"
   },
   {
    "duration": 14,
    "start_time": "2025-03-09T22:04:38.531Z"
   },
   {
    "duration": 21,
    "start_time": "2025-03-09T22:04:52.090Z"
   },
   {
    "duration": 18,
    "start_time": "2025-03-09T22:05:01.630Z"
   },
   {
    "duration": 423,
    "start_time": "2025-03-09T22:05:33.945Z"
   },
   {
    "duration": 58,
    "start_time": "2025-03-09T22:05:34.370Z"
   },
   {
    "duration": 12,
    "start_time": "2025-03-09T22:05:34.430Z"
   },
   {
    "duration": 11,
    "start_time": "2025-03-09T22:05:34.444Z"
   },
   {
    "duration": 38,
    "start_time": "2025-03-09T22:05:34.457Z"
   },
   {
    "duration": 12,
    "start_time": "2025-03-09T22:05:34.497Z"
   },
   {
    "duration": 13,
    "start_time": "2025-03-09T22:05:34.511Z"
   },
   {
    "duration": 16,
    "start_time": "2025-03-09T22:05:34.525Z"
   },
   {
    "duration": 6,
    "start_time": "2025-03-09T22:05:34.543Z"
   },
   {
    "duration": 3,
    "start_time": "2025-03-09T22:05:34.550Z"
   },
   {
    "duration": 36,
    "start_time": "2025-03-09T22:05:34.555Z"
   },
   {
    "duration": 6,
    "start_time": "2025-03-09T22:05:34.594Z"
   },
   {
    "duration": 3,
    "start_time": "2025-03-09T22:05:34.602Z"
   },
   {
    "duration": 6,
    "start_time": "2025-03-09T22:05:34.608Z"
   },
   {
    "duration": 8,
    "start_time": "2025-03-09T22:05:34.615Z"
   },
   {
    "duration": 7,
    "start_time": "2025-03-09T22:05:34.624Z"
   },
   {
    "duration": 3,
    "start_time": "2025-03-09T22:05:34.632Z"
   },
   {
    "duration": 4,
    "start_time": "2025-03-09T22:05:34.637Z"
   },
   {
    "duration": 49,
    "start_time": "2025-03-09T22:05:34.643Z"
   },
   {
    "duration": 14,
    "start_time": "2025-03-09T22:05:34.694Z"
   },
   {
    "duration": 12,
    "start_time": "2025-03-09T22:05:34.710Z"
   },
   {
    "duration": 151,
    "start_time": "2025-03-09T22:05:34.723Z"
   },
   {
    "duration": 226,
    "start_time": "2025-03-09T22:05:34.876Z"
   },
   {
    "duration": 7,
    "start_time": "2025-03-09T22:05:35.104Z"
   },
   {
    "duration": 17,
    "start_time": "2025-03-09T22:05:35.113Z"
   },
   {
    "duration": 18,
    "start_time": "2025-03-09T22:06:00.858Z"
   },
   {
    "duration": 422,
    "start_time": "2025-03-09T22:06:07.172Z"
   },
   {
    "duration": 53,
    "start_time": "2025-03-09T22:06:07.596Z"
   },
   {
    "duration": 13,
    "start_time": "2025-03-09T22:06:07.650Z"
   },
   {
    "duration": 23,
    "start_time": "2025-03-09T22:06:07.666Z"
   },
   {
    "duration": 21,
    "start_time": "2025-03-09T22:06:07.691Z"
   },
   {
    "duration": 10,
    "start_time": "2025-03-09T22:06:07.714Z"
   },
   {
    "duration": 13,
    "start_time": "2025-03-09T22:06:07.726Z"
   },
   {
    "duration": 45,
    "start_time": "2025-03-09T22:06:07.741Z"
   },
   {
    "duration": 7,
    "start_time": "2025-03-09T22:06:07.788Z"
   },
   {
    "duration": 2,
    "start_time": "2025-03-09T22:06:07.798Z"
   },
   {
    "duration": 8,
    "start_time": "2025-03-09T22:06:07.802Z"
   },
   {
    "duration": 10,
    "start_time": "2025-03-09T22:06:07.813Z"
   },
   {
    "duration": 4,
    "start_time": "2025-03-09T22:06:07.825Z"
   },
   {
    "duration": 8,
    "start_time": "2025-03-09T22:06:07.831Z"
   },
   {
    "duration": 7,
    "start_time": "2025-03-09T22:06:07.841Z"
   },
   {
    "duration": 40,
    "start_time": "2025-03-09T22:06:07.850Z"
   },
   {
    "duration": 4,
    "start_time": "2025-03-09T22:06:07.892Z"
   },
   {
    "duration": 5,
    "start_time": "2025-03-09T22:06:07.898Z"
   },
   {
    "duration": 14,
    "start_time": "2025-03-09T22:06:07.904Z"
   },
   {
    "duration": 14,
    "start_time": "2025-03-09T22:06:07.920Z"
   },
   {
    "duration": 13,
    "start_time": "2025-03-09T22:06:07.935Z"
   },
   {
    "duration": 167,
    "start_time": "2025-03-09T22:06:07.949Z"
   },
   {
    "duration": 222,
    "start_time": "2025-03-09T22:06:08.120Z"
   },
   {
    "duration": 8,
    "start_time": "2025-03-09T22:06:08.344Z"
   },
   {
    "duration": 34,
    "start_time": "2025-03-09T22:06:08.353Z"
   },
   {
    "duration": 20,
    "start_time": "2025-03-09T22:07:56.261Z"
   },
   {
    "duration": 23,
    "start_time": "2025-03-09T22:10:56.703Z"
   },
   {
    "duration": 29,
    "start_time": "2025-03-09T22:13:22.571Z"
   },
   {
    "duration": 22,
    "start_time": "2025-03-09T22:14:09.023Z"
   },
   {
    "duration": 19,
    "start_time": "2025-03-09T22:14:31.937Z"
   },
   {
    "duration": 18,
    "start_time": "2025-03-09T22:16:56.207Z"
   },
   {
    "duration": 466,
    "start_time": "2025-03-09T22:17:09.093Z"
   },
   {
    "duration": 446,
    "start_time": "2025-03-09T22:17:25.596Z"
   },
   {
    "duration": 509,
    "start_time": "2025-03-09T22:17:38.534Z"
   },
   {
    "duration": 65,
    "start_time": "2025-03-09T22:17:39.045Z"
   },
   {
    "duration": 13,
    "start_time": "2025-03-09T22:17:39.112Z"
   },
   {
    "duration": 12,
    "start_time": "2025-03-09T22:17:39.128Z"
   },
   {
    "duration": 52,
    "start_time": "2025-03-09T22:17:39.142Z"
   },
   {
    "duration": 13,
    "start_time": "2025-03-09T22:17:39.196Z"
   },
   {
    "duration": 14,
    "start_time": "2025-03-09T22:17:39.210Z"
   },
   {
    "duration": 21,
    "start_time": "2025-03-09T22:17:39.226Z"
   },
   {
    "duration": 7,
    "start_time": "2025-03-09T22:17:39.249Z"
   },
   {
    "duration": 3,
    "start_time": "2025-03-09T22:17:39.290Z"
   },
   {
    "duration": 8,
    "start_time": "2025-03-09T22:17:39.294Z"
   },
   {
    "duration": 9,
    "start_time": "2025-03-09T22:17:39.303Z"
   },
   {
    "duration": 4,
    "start_time": "2025-03-09T22:17:39.314Z"
   },
   {
    "duration": 7,
    "start_time": "2025-03-09T22:17:39.319Z"
   },
   {
    "duration": 9,
    "start_time": "2025-03-09T22:17:39.327Z"
   },
   {
    "duration": 7,
    "start_time": "2025-03-09T22:17:39.338Z"
   },
   {
    "duration": 41,
    "start_time": "2025-03-09T22:17:39.347Z"
   },
   {
    "duration": 4,
    "start_time": "2025-03-09T22:17:39.391Z"
   },
   {
    "duration": 12,
    "start_time": "2025-03-09T22:17:39.397Z"
   },
   {
    "duration": 17,
    "start_time": "2025-03-09T22:17:39.411Z"
   },
   {
    "duration": 13,
    "start_time": "2025-03-09T22:17:39.430Z"
   },
   {
    "duration": 177,
    "start_time": "2025-03-09T22:17:39.445Z"
   },
   {
    "duration": 317,
    "start_time": "2025-03-09T22:17:39.624Z"
   },
   {
    "duration": 4,
    "start_time": "2025-03-09T22:17:39.943Z"
   },
   {
    "duration": 18,
    "start_time": "2025-03-09T22:17:39.949Z"
   },
   {
    "duration": 537,
    "start_time": "2025-03-09T22:17:39.970Z"
   },
   {
    "duration": 10,
    "start_time": "2025-03-09T22:18:13.176Z"
   },
   {
    "duration": 4,
    "start_time": "2025-03-09T22:18:22.570Z"
   },
   {
    "duration": 475,
    "start_time": "2025-03-09T22:23:47.570Z"
   },
   {
    "duration": 203,
    "start_time": "2025-03-09T22:24:03.288Z"
   },
   {
    "duration": 410,
    "start_time": "2025-03-09T22:24:25.278Z"
   },
   {
    "duration": 53,
    "start_time": "2025-03-09T22:24:25.690Z"
   },
   {
    "duration": 13,
    "start_time": "2025-03-09T22:24:25.745Z"
   },
   {
    "duration": 26,
    "start_time": "2025-03-09T22:24:25.761Z"
   },
   {
    "duration": 27,
    "start_time": "2025-03-09T22:24:25.790Z"
   },
   {
    "duration": 11,
    "start_time": "2025-03-09T22:24:25.819Z"
   },
   {
    "duration": 14,
    "start_time": "2025-03-09T22:24:25.832Z"
   },
   {
    "duration": 43,
    "start_time": "2025-03-09T22:24:25.848Z"
   },
   {
    "duration": 6,
    "start_time": "2025-03-09T22:24:25.893Z"
   },
   {
    "duration": 3,
    "start_time": "2025-03-09T22:24:25.903Z"
   },
   {
    "duration": 7,
    "start_time": "2025-03-09T22:24:25.908Z"
   },
   {
    "duration": 7,
    "start_time": "2025-03-09T22:24:25.916Z"
   },
   {
    "duration": 3,
    "start_time": "2025-03-09T22:24:25.925Z"
   },
   {
    "duration": 7,
    "start_time": "2025-03-09T22:24:25.930Z"
   },
   {
    "duration": 7,
    "start_time": "2025-03-09T22:24:25.938Z"
   },
   {
    "duration": 7,
    "start_time": "2025-03-09T22:24:25.986Z"
   },
   {
    "duration": 4,
    "start_time": "2025-03-09T22:24:25.994Z"
   },
   {
    "duration": 5,
    "start_time": "2025-03-09T22:24:25.999Z"
   },
   {
    "duration": 11,
    "start_time": "2025-03-09T22:24:26.005Z"
   },
   {
    "duration": 15,
    "start_time": "2025-03-09T22:24:26.018Z"
   },
   {
    "duration": 13,
    "start_time": "2025-03-09T22:24:26.034Z"
   },
   {
    "duration": 166,
    "start_time": "2025-03-09T22:24:26.049Z"
   },
   {
    "duration": 218,
    "start_time": "2025-03-09T22:24:26.216Z"
   },
   {
    "duration": 3,
    "start_time": "2025-03-09T22:24:26.436Z"
   },
   {
    "duration": 14,
    "start_time": "2025-03-09T22:24:26.441Z"
   },
   {
    "duration": 6,
    "start_time": "2025-03-09T22:24:26.457Z"
   },
   {
    "duration": 475,
    "start_time": "2025-03-09T22:24:26.464Z"
   },
   {
    "duration": 406,
    "start_time": "2025-03-09T22:25:06.615Z"
   },
   {
    "duration": 452,
    "start_time": "2025-03-09T22:25:14.670Z"
   },
   {
    "duration": 465,
    "start_time": "2025-03-09T22:25:29.224Z"
   },
   {
    "duration": 187,
    "start_time": "2025-03-09T22:26:47.414Z"
   },
   {
    "duration": 415,
    "start_time": "2025-03-09T22:26:55.897Z"
   },
   {
    "duration": 37,
    "start_time": "2025-03-09T22:28:02.396Z"
   },
   {
    "duration": 14,
    "start_time": "2025-03-09T22:29:00.006Z"
   },
   {
    "duration": 15,
    "start_time": "2025-03-09T22:29:28.929Z"
   },
   {
    "duration": 5,
    "start_time": "2025-03-09T22:29:31.638Z"
   },
   {
    "duration": 18,
    "start_time": "2025-03-09T22:29:34.332Z"
   },
   {
    "duration": 7,
    "start_time": "2025-03-09T22:29:47.967Z"
   },
   {
    "duration": 13,
    "start_time": "2025-03-09T22:29:52.871Z"
   },
   {
    "duration": 15,
    "start_time": "2025-03-09T22:30:17.016Z"
   },
   {
    "duration": 8,
    "start_time": "2025-03-09T22:32:23.150Z"
   },
   {
    "duration": 8,
    "start_time": "2025-03-09T22:32:39.035Z"
   },
   {
    "duration": 13,
    "start_time": "2025-03-09T22:33:06.393Z"
   },
   {
    "duration": 16,
    "start_time": "2025-03-09T22:33:13.501Z"
   },
   {
    "duration": 12,
    "start_time": "2025-03-09T22:33:14.988Z"
   },
   {
    "duration": 15,
    "start_time": "2025-03-09T22:33:15.665Z"
   },
   {
    "duration": 12,
    "start_time": "2025-03-09T22:33:15.975Z"
   },
   {
    "duration": 12,
    "start_time": "2025-03-09T22:33:16.502Z"
   },
   {
    "duration": 14,
    "start_time": "2025-03-09T22:33:16.812Z"
   },
   {
    "duration": 15,
    "start_time": "2025-03-09T22:33:17.227Z"
   },
   {
    "duration": 13,
    "start_time": "2025-03-09T22:33:22.205Z"
   },
   {
    "duration": 13,
    "start_time": "2025-03-09T22:33:25.641Z"
   },
   {
    "duration": 19,
    "start_time": "2025-03-09T22:33:26.621Z"
   },
   {
    "duration": 15,
    "start_time": "2025-03-09T22:33:32.788Z"
   },
   {
    "duration": 16,
    "start_time": "2025-03-09T22:33:37.874Z"
   },
   {
    "duration": 13,
    "start_time": "2025-03-09T22:33:44.116Z"
   },
   {
    "duration": 14,
    "start_time": "2025-03-09T22:33:45.833Z"
   },
   {
    "duration": 18,
    "start_time": "2025-03-09T22:33:47.217Z"
   },
   {
    "duration": 17,
    "start_time": "2025-03-09T22:33:47.788Z"
   },
   {
    "duration": 14,
    "start_time": "2025-03-09T22:33:48.305Z"
   },
   {
    "duration": 14,
    "start_time": "2025-03-09T22:33:48.749Z"
   },
   {
    "duration": 13,
    "start_time": "2025-03-09T22:33:49.354Z"
   },
   {
    "duration": 14,
    "start_time": "2025-03-09T22:33:50.335Z"
   },
   {
    "duration": 14,
    "start_time": "2025-03-09T22:33:50.936Z"
   },
   {
    "duration": 13,
    "start_time": "2025-03-09T22:33:51.529Z"
   },
   {
    "duration": 18,
    "start_time": "2025-03-09T22:33:52.366Z"
   },
   {
    "duration": 21,
    "start_time": "2025-03-09T22:33:53.087Z"
   },
   {
    "duration": 17,
    "start_time": "2025-03-09T22:33:53.833Z"
   },
   {
    "duration": 15,
    "start_time": "2025-03-09T22:33:54.506Z"
   },
   {
    "duration": 18,
    "start_time": "2025-03-09T22:33:55.089Z"
   },
   {
    "duration": 14,
    "start_time": "2025-03-09T22:33:55.711Z"
   },
   {
    "duration": 7,
    "start_time": "2025-03-09T22:34:01.147Z"
   },
   {
    "duration": 18,
    "start_time": "2025-03-09T22:36:37.206Z"
   },
   {
    "duration": 5,
    "start_time": "2025-03-09T22:36:41.812Z"
   },
   {
    "duration": 6,
    "start_time": "2025-03-09T22:36:45.959Z"
   },
   {
    "duration": 434,
    "start_time": "2025-03-09T22:36:54.891Z"
   },
   {
    "duration": 61,
    "start_time": "2025-03-09T22:36:55.326Z"
   },
   {
    "duration": 14,
    "start_time": "2025-03-09T22:36:55.389Z"
   },
   {
    "duration": 10,
    "start_time": "2025-03-09T22:36:55.406Z"
   },
   {
    "duration": 21,
    "start_time": "2025-03-09T22:36:55.418Z"
   },
   {
    "duration": 10,
    "start_time": "2025-03-09T22:36:55.441Z"
   },
   {
    "duration": 39,
    "start_time": "2025-03-09T22:36:55.452Z"
   },
   {
    "duration": 15,
    "start_time": "2025-03-09T22:36:55.493Z"
   },
   {
    "duration": 6,
    "start_time": "2025-03-09T22:36:55.510Z"
   },
   {
    "duration": 3,
    "start_time": "2025-03-09T22:36:55.519Z"
   },
   {
    "duration": 7,
    "start_time": "2025-03-09T22:36:55.523Z"
   },
   {
    "duration": 8,
    "start_time": "2025-03-09T22:36:55.531Z"
   },
   {
    "duration": 5,
    "start_time": "2025-03-09T22:36:55.540Z"
   },
   {
    "duration": 43,
    "start_time": "2025-03-09T22:36:55.546Z"
   },
   {
    "duration": 7,
    "start_time": "2025-03-09T22:36:55.590Z"
   },
   {
    "duration": 6,
    "start_time": "2025-03-09T22:36:55.599Z"
   },
   {
    "duration": 3,
    "start_time": "2025-03-09T22:36:55.607Z"
   },
   {
    "duration": 3,
    "start_time": "2025-03-09T22:36:55.613Z"
   },
   {
    "duration": 11,
    "start_time": "2025-03-09T22:36:55.618Z"
   },
   {
    "duration": 14,
    "start_time": "2025-03-09T22:36:55.631Z"
   },
   {
    "duration": 52,
    "start_time": "2025-03-09T22:36:55.646Z"
   },
   {
    "duration": 150,
    "start_time": "2025-03-09T22:36:55.699Z"
   },
   {
    "duration": 217,
    "start_time": "2025-03-09T22:36:55.851Z"
   },
   {
    "duration": 3,
    "start_time": "2025-03-09T22:36:56.070Z"
   },
   {
    "duration": 21,
    "start_time": "2025-03-09T22:36:56.074Z"
   },
   {
    "duration": 6,
    "start_time": "2025-03-09T22:36:56.097Z"
   },
   {
    "duration": 6,
    "start_time": "2025-03-09T22:36:56.104Z"
   },
   {
    "duration": 6,
    "start_time": "2025-03-09T22:37:42.432Z"
   },
   {
    "duration": 9,
    "start_time": "2025-03-09T22:37:51.473Z"
   },
   {
    "duration": 446,
    "start_time": "2025-03-09T22:38:57.160Z"
   },
   {
    "duration": 12,
    "start_time": "2025-03-09T22:39:19.073Z"
   },
   {
    "duration": 4,
    "start_time": "2025-03-09T22:39:30.283Z"
   },
   {
    "duration": 8,
    "start_time": "2025-03-09T22:39:33.885Z"
   },
   {
    "duration": 8,
    "start_time": "2025-03-09T22:39:59.206Z"
   },
   {
    "duration": 422,
    "start_time": "2025-03-09T22:40:35.936Z"
   },
   {
    "duration": 57,
    "start_time": "2025-03-09T22:40:36.360Z"
   },
   {
    "duration": 14,
    "start_time": "2025-03-09T22:40:36.419Z"
   },
   {
    "duration": 11,
    "start_time": "2025-03-09T22:40:36.435Z"
   },
   {
    "duration": 40,
    "start_time": "2025-03-09T22:40:36.448Z"
   },
   {
    "duration": 10,
    "start_time": "2025-03-09T22:40:36.489Z"
   },
   {
    "duration": 14,
    "start_time": "2025-03-09T22:40:36.501Z"
   },
   {
    "duration": 15,
    "start_time": "2025-03-09T22:40:36.517Z"
   },
   {
    "duration": 7,
    "start_time": "2025-03-09T22:40:36.534Z"
   },
   {
    "duration": 3,
    "start_time": "2025-03-09T22:40:36.543Z"
   },
   {
    "duration": 42,
    "start_time": "2025-03-09T22:40:36.548Z"
   },
   {
    "duration": 7,
    "start_time": "2025-03-09T22:40:36.592Z"
   },
   {
    "duration": 4,
    "start_time": "2025-03-09T22:40:36.600Z"
   },
   {
    "duration": 6,
    "start_time": "2025-03-09T22:40:36.606Z"
   },
   {
    "duration": 7,
    "start_time": "2025-03-09T22:40:36.614Z"
   },
   {
    "duration": 7,
    "start_time": "2025-03-09T22:40:36.623Z"
   },
   {
    "duration": 3,
    "start_time": "2025-03-09T22:40:36.632Z"
   },
   {
    "duration": 4,
    "start_time": "2025-03-09T22:40:36.637Z"
   },
   {
    "duration": 53,
    "start_time": "2025-03-09T22:40:36.642Z"
   },
   {
    "duration": 12,
    "start_time": "2025-03-09T22:40:36.697Z"
   },
   {
    "duration": 13,
    "start_time": "2025-03-09T22:40:36.711Z"
   },
   {
    "duration": 155,
    "start_time": "2025-03-09T22:40:36.725Z"
   },
   {
    "duration": 222,
    "start_time": "2025-03-09T22:40:36.882Z"
   },
   {
    "duration": 4,
    "start_time": "2025-03-09T22:40:37.106Z"
   },
   {
    "duration": 13,
    "start_time": "2025-03-09T22:40:37.112Z"
   },
   {
    "duration": 4,
    "start_time": "2025-03-09T22:40:37.127Z"
   },
   {
    "duration": 7,
    "start_time": "2025-03-09T22:40:37.132Z"
   },
   {
    "duration": 9,
    "start_time": "2025-03-09T22:40:55.078Z"
   },
   {
    "duration": 214,
    "start_time": "2025-03-09T22:42:34.550Z"
   },
   {
    "duration": 194,
    "start_time": "2025-03-09T22:44:21.784Z"
   },
   {
    "duration": 183,
    "start_time": "2025-03-09T22:44:58.997Z"
   },
   {
    "duration": 7,
    "start_time": "2025-03-09T22:45:37.777Z"
   },
   {
    "duration": 189,
    "start_time": "2025-03-09T22:45:42.206Z"
   },
   {
    "duration": 194,
    "start_time": "2025-03-09T22:45:53.439Z"
   },
   {
    "duration": 844,
    "start_time": "2025-03-09T22:47:40.220Z"
   },
   {
    "duration": 197,
    "start_time": "2025-03-09T22:49:11.015Z"
   },
   {
    "duration": 3,
    "start_time": "2025-03-09T22:49:34.419Z"
   },
   {
    "duration": 236,
    "start_time": "2025-03-09T22:49:40.694Z"
   },
   {
    "duration": 184,
    "start_time": "2025-03-09T22:50:57.413Z"
   },
   {
    "duration": 228,
    "start_time": "2025-03-09T22:51:09.890Z"
   },
   {
    "duration": 255,
    "start_time": "2025-03-09T22:51:26.613Z"
   },
   {
    "duration": 233,
    "start_time": "2025-03-09T22:51:39.868Z"
   },
   {
    "duration": 155,
    "start_time": "2025-03-09T22:53:05.227Z"
   },
   {
    "duration": 242,
    "start_time": "2025-03-09T22:53:11.420Z"
   },
   {
    "duration": 235,
    "start_time": "2025-03-09T23:17:25.855Z"
   },
   {
    "duration": 114,
    "start_time": "2025-03-09T23:18:21.943Z"
   },
   {
    "duration": 236,
    "start_time": "2025-03-09T23:18:25.840Z"
   },
   {
    "duration": 353,
    "start_time": "2025-03-09T23:19:58.216Z"
   },
   {
    "duration": 283,
    "start_time": "2025-03-09T23:20:47.891Z"
   },
   {
    "duration": 154,
    "start_time": "2025-03-09T23:21:05.832Z"
   },
   {
    "duration": 171,
    "start_time": "2025-03-09T23:21:46.980Z"
   },
   {
    "duration": 25,
    "start_time": "2025-03-09T23:21:55.291Z"
   },
   {
    "duration": 488,
    "start_time": "2025-03-09T23:26:02.969Z"
   },
   {
    "duration": 65,
    "start_time": "2025-03-09T23:26:03.462Z"
   },
   {
    "duration": 16,
    "start_time": "2025-03-09T23:26:03.528Z"
   },
   {
    "duration": 14,
    "start_time": "2025-03-09T23:26:03.546Z"
   },
   {
    "duration": 42,
    "start_time": "2025-03-09T23:26:03.563Z"
   },
   {
    "duration": 12,
    "start_time": "2025-03-09T23:26:03.608Z"
   },
   {
    "duration": 16,
    "start_time": "2025-03-09T23:26:03.622Z"
   },
   {
    "duration": 18,
    "start_time": "2025-03-09T23:26:03.641Z"
   },
   {
    "duration": 27,
    "start_time": "2025-03-09T23:26:03.661Z"
   },
   {
    "duration": 5,
    "start_time": "2025-03-09T23:26:03.690Z"
   },
   {
    "duration": 9,
    "start_time": "2025-03-09T23:26:03.697Z"
   },
   {
    "duration": 11,
    "start_time": "2025-03-09T23:26:03.710Z"
   },
   {
    "duration": 4,
    "start_time": "2025-03-09T23:26:03.724Z"
   },
   {
    "duration": 6,
    "start_time": "2025-03-09T23:26:03.733Z"
   },
   {
    "duration": 9,
    "start_time": "2025-03-09T23:26:03.741Z"
   },
   {
    "duration": 38,
    "start_time": "2025-03-09T23:26:03.752Z"
   },
   {
    "duration": 7,
    "start_time": "2025-03-09T23:26:03.793Z"
   },
   {
    "duration": 5,
    "start_time": "2025-03-09T23:26:03.801Z"
   },
   {
    "duration": 15,
    "start_time": "2025-03-09T23:26:03.808Z"
   },
   {
    "duration": 17,
    "start_time": "2025-03-09T23:26:03.825Z"
   },
   {
    "duration": 49,
    "start_time": "2025-03-09T23:26:03.844Z"
   },
   {
    "duration": 201,
    "start_time": "2025-03-09T23:26:03.898Z"
   },
   {
    "duration": 226,
    "start_time": "2025-03-09T23:26:04.101Z"
   },
   {
    "duration": 5,
    "start_time": "2025-03-09T23:26:04.328Z"
   },
   {
    "duration": 6,
    "start_time": "2025-03-09T23:26:04.335Z"
   },
   {
    "duration": 278,
    "start_time": "2025-03-09T23:26:04.343Z"
   },
   {
    "duration": 7,
    "start_time": "2025-03-09T23:29:46.322Z"
   },
   {
    "duration": 8,
    "start_time": "2025-03-09T23:30:06.313Z"
   },
   {
    "duration": 4,
    "start_time": "2025-03-09T23:30:32.008Z"
   },
   {
    "duration": 9,
    "start_time": "2025-03-09T23:30:44.507Z"
   },
   {
    "duration": 2247,
    "start_time": "2025-03-10T01:53:11.241Z"
   },
   {
    "duration": 34,
    "start_time": "2025-03-10T01:53:13.490Z"
   },
   {
    "duration": 16,
    "start_time": "2025-03-10T01:53:13.526Z"
   },
   {
    "duration": 12,
    "start_time": "2025-03-10T01:53:13.544Z"
   },
   {
    "duration": 32,
    "start_time": "2025-03-10T01:53:13.560Z"
   },
   {
    "duration": 12,
    "start_time": "2025-03-10T01:53:13.596Z"
   },
   {
    "duration": 14,
    "start_time": "2025-03-10T01:53:13.611Z"
   },
   {
    "duration": 15,
    "start_time": "2025-03-10T01:53:13.627Z"
   },
   {
    "duration": 27,
    "start_time": "2025-03-10T01:53:13.644Z"
   },
   {
    "duration": 3,
    "start_time": "2025-03-10T01:53:13.675Z"
   },
   {
    "duration": 8,
    "start_time": "2025-03-10T01:53:13.679Z"
   },
   {
    "duration": 7,
    "start_time": "2025-03-10T01:53:13.689Z"
   },
   {
    "duration": 4,
    "start_time": "2025-03-10T01:53:13.698Z"
   },
   {
    "duration": 7,
    "start_time": "2025-03-10T01:53:13.703Z"
   },
   {
    "duration": 7,
    "start_time": "2025-03-10T01:53:13.712Z"
   },
   {
    "duration": 8,
    "start_time": "2025-03-10T01:53:13.720Z"
   },
   {
    "duration": 44,
    "start_time": "2025-03-10T01:53:13.729Z"
   },
   {
    "duration": 4,
    "start_time": "2025-03-10T01:53:13.775Z"
   },
   {
    "duration": 11,
    "start_time": "2025-03-10T01:53:13.781Z"
   },
   {
    "duration": 15,
    "start_time": "2025-03-10T01:53:13.794Z"
   },
   {
    "duration": 12,
    "start_time": "2025-03-10T01:53:13.812Z"
   },
   {
    "duration": 177,
    "start_time": "2025-03-10T01:53:13.825Z"
   },
   {
    "duration": 246,
    "start_time": "2025-03-10T01:53:14.004Z"
   },
   {
    "duration": 4,
    "start_time": "2025-03-10T01:53:14.252Z"
   },
   {
    "duration": 5,
    "start_time": "2025-03-10T01:53:14.270Z"
   },
   {
    "duration": 285,
    "start_time": "2025-03-10T01:53:14.277Z"
   },
   {
    "duration": 226,
    "start_time": "2025-03-10T02:21:26.938Z"
   },
   {
    "duration": 18,
    "start_time": "2025-03-10T02:21:43.726Z"
   },
   {
    "duration": 17,
    "start_time": "2025-03-10T02:21:47.331Z"
   },
   {
    "duration": 9,
    "start_time": "2025-03-10T02:21:57.756Z"
   },
   {
    "duration": 297,
    "start_time": "2025-03-10T02:21:59.401Z"
   },
   {
    "duration": 17,
    "start_time": "2025-03-10T02:22:00.810Z"
   },
   {
    "duration": 8,
    "start_time": "2025-03-10T02:22:38.544Z"
   },
   {
    "duration": 49,
    "start_time": "2025-03-10T02:22:39.093Z"
   },
   {
    "duration": 16,
    "start_time": "2025-03-10T02:22:39.760Z"
   },
   {
    "duration": 12,
    "start_time": "2025-03-10T02:25:13.362Z"
   },
   {
    "duration": 12,
    "start_time": "2025-03-10T02:25:27.610Z"
   },
   {
    "duration": 4,
    "start_time": "2025-03-10T02:27:43.466Z"
   },
   {
    "duration": 5,
    "start_time": "2025-03-10T02:38:08.972Z"
   },
   {
    "duration": 224,
    "start_time": "2025-03-10T02:38:10.559Z"
   },
   {
    "duration": 179,
    "start_time": "2025-03-10T02:38:28.290Z"
   },
   {
    "duration": 446,
    "start_time": "2025-03-10T02:45:54.900Z"
   },
   {
    "duration": 565,
    "start_time": "2025-03-10T02:48:50.697Z"
   },
   {
    "duration": 7,
    "start_time": "2025-03-10T02:51:11.115Z"
   },
   {
    "duration": 50,
    "start_time": "2025-03-10T02:51:12.602Z"
   },
   {
    "duration": 6,
    "start_time": "2025-03-10T02:51:52.843Z"
   },
   {
    "duration": 49,
    "start_time": "2025-03-10T02:51:54.337Z"
   },
   {
    "duration": 4,
    "start_time": "2025-03-10T02:53:54.194Z"
   },
   {
    "duration": 241,
    "start_time": "2025-03-10T02:53:55.617Z"
   },
   {
    "duration": 2229,
    "start_time": "2025-03-10T03:48:57.321Z"
   },
   {
    "duration": 38,
    "start_time": "2025-03-10T03:48:59.552Z"
   },
   {
    "duration": 15,
    "start_time": "2025-03-10T03:48:59.592Z"
   },
   {
    "duration": 14,
    "start_time": "2025-03-10T03:48:59.609Z"
   },
   {
    "duration": 22,
    "start_time": "2025-03-10T03:48:59.625Z"
   },
   {
    "duration": 11,
    "start_time": "2025-03-10T03:48:59.649Z"
   },
   {
    "duration": 15,
    "start_time": "2025-03-10T03:48:59.662Z"
   },
   {
    "duration": 16,
    "start_time": "2025-03-10T03:48:59.706Z"
   },
   {
    "duration": 7,
    "start_time": "2025-03-10T03:48:59.724Z"
   },
   {
    "duration": 4,
    "start_time": "2025-03-10T03:48:59.733Z"
   },
   {
    "duration": 8,
    "start_time": "2025-03-10T03:48:59.739Z"
   },
   {
    "duration": 8,
    "start_time": "2025-03-10T03:48:59.748Z"
   },
   {
    "duration": 4,
    "start_time": "2025-03-10T03:48:59.758Z"
   },
   {
    "duration": 6,
    "start_time": "2025-03-10T03:48:59.806Z"
   },
   {
    "duration": 8,
    "start_time": "2025-03-10T03:48:59.814Z"
   },
   {
    "duration": 7,
    "start_time": "2025-03-10T03:48:59.823Z"
   },
   {
    "duration": 4,
    "start_time": "2025-03-10T03:48:59.831Z"
   },
   {
    "duration": 4,
    "start_time": "2025-03-10T03:48:59.837Z"
   },
   {
    "duration": 12,
    "start_time": "2025-03-10T03:48:59.842Z"
   },
   {
    "duration": 51,
    "start_time": "2025-03-10T03:48:59.856Z"
   },
   {
    "duration": 14,
    "start_time": "2025-03-10T03:48:59.909Z"
   },
   {
    "duration": 190,
    "start_time": "2025-03-10T03:48:59.925Z"
   },
   {
    "duration": 218,
    "start_time": "2025-03-10T03:49:00.117Z"
   },
   {
    "duration": 7,
    "start_time": "2025-03-10T03:49:00.337Z"
   },
   {
    "duration": 269,
    "start_time": "2025-03-10T03:49:00.345Z"
   },
   {
    "duration": 16,
    "start_time": "2025-03-10T03:49:00.615Z"
   },
   {
    "duration": 9,
    "start_time": "2025-03-10T03:49:00.633Z"
   },
   {
    "duration": 199,
    "start_time": "2025-03-10T03:49:00.644Z"
   },
   {
    "duration": 0,
    "start_time": "2025-03-10T03:49:00.845Z"
   },
   {
    "duration": 6,
    "start_time": "2025-03-10T03:49:23.984Z"
   },
   {
    "duration": 331,
    "start_time": "2025-03-10T03:49:25.860Z"
   },
   {
    "duration": 259,
    "start_time": "2025-03-10T03:50:05.634Z"
   },
   {
    "duration": 300,
    "start_time": "2025-03-10T03:50:19.824Z"
   },
   {
    "duration": 238,
    "start_time": "2025-03-10T03:51:35.983Z"
   },
   {
    "duration": 258,
    "start_time": "2025-03-10T03:52:30.099Z"
   },
   {
    "duration": 266,
    "start_time": "2025-03-10T03:53:17.107Z"
   },
   {
    "duration": 260,
    "start_time": "2025-03-10T03:53:26.485Z"
   },
   {
    "duration": 287,
    "start_time": "2025-03-10T03:53:41.878Z"
   },
   {
    "duration": 265,
    "start_time": "2025-03-10T03:53:54.430Z"
   },
   {
    "duration": 338,
    "start_time": "2025-03-10T03:54:15.022Z"
   },
   {
    "duration": 253,
    "start_time": "2025-03-10T03:54:36.216Z"
   },
   {
    "duration": 256,
    "start_time": "2025-03-10T03:54:57.013Z"
   },
   {
    "duration": 749,
    "start_time": "2025-03-10T03:57:30.698Z"
   },
   {
    "duration": 266,
    "start_time": "2025-03-10T03:57:46.136Z"
   },
   {
    "duration": 388,
    "start_time": "2025-03-10T04:10:29.962Z"
   },
   {
    "duration": 261,
    "start_time": "2025-03-10T04:11:33.855Z"
   },
   {
    "duration": 473,
    "start_time": "2025-03-10T04:11:55.533Z"
   },
   {
    "duration": 69,
    "start_time": "2025-03-10T04:11:56.008Z"
   },
   {
    "duration": 13,
    "start_time": "2025-03-10T04:11:56.079Z"
   },
   {
    "duration": 12,
    "start_time": "2025-03-10T04:11:56.106Z"
   },
   {
    "duration": 25,
    "start_time": "2025-03-10T04:11:56.119Z"
   },
   {
    "duration": 10,
    "start_time": "2025-03-10T04:11:56.146Z"
   },
   {
    "duration": 13,
    "start_time": "2025-03-10T04:11:56.158Z"
   },
   {
    "duration": 45,
    "start_time": "2025-03-10T04:11:56.173Z"
   },
   {
    "duration": 6,
    "start_time": "2025-03-10T04:11:56.220Z"
   },
   {
    "duration": 3,
    "start_time": "2025-03-10T04:11:56.229Z"
   },
   {
    "duration": 7,
    "start_time": "2025-03-10T04:11:56.234Z"
   },
   {
    "duration": 7,
    "start_time": "2025-03-10T04:11:56.243Z"
   },
   {
    "duration": 4,
    "start_time": "2025-03-10T04:11:56.251Z"
   },
   {
    "duration": 7,
    "start_time": "2025-03-10T04:11:56.257Z"
   },
   {
    "duration": 40,
    "start_time": "2025-03-10T04:11:56.266Z"
   },
   {
    "duration": 7,
    "start_time": "2025-03-10T04:11:56.308Z"
   },
   {
    "duration": 4,
    "start_time": "2025-03-10T04:11:56.317Z"
   },
   {
    "duration": 3,
    "start_time": "2025-03-10T04:11:56.323Z"
   },
   {
    "duration": 12,
    "start_time": "2025-03-10T04:11:56.329Z"
   },
   {
    "duration": 13,
    "start_time": "2025-03-10T04:11:56.343Z"
   },
   {
    "duration": 54,
    "start_time": "2025-03-10T04:11:56.358Z"
   },
   {
    "duration": 141,
    "start_time": "2025-03-10T04:11:56.414Z"
   },
   {
    "duration": 216,
    "start_time": "2025-03-10T04:11:56.557Z"
   },
   {
    "duration": 8,
    "start_time": "2025-03-10T04:11:56.775Z"
   },
   {
    "duration": 305,
    "start_time": "2025-03-10T04:11:56.784Z"
   },
   {
    "duration": 12,
    "start_time": "2025-03-10T04:11:57.091Z"
   },
   {
    "duration": 2090,
    "start_time": "2025-03-10T16:45:49.122Z"
   },
   {
    "duration": 33,
    "start_time": "2025-03-10T16:45:51.214Z"
   },
   {
    "duration": 12,
    "start_time": "2025-03-10T16:45:51.248Z"
   },
   {
    "duration": 12,
    "start_time": "2025-03-10T16:45:51.262Z"
   },
   {
    "duration": 21,
    "start_time": "2025-03-10T16:45:51.276Z"
   },
   {
    "duration": 26,
    "start_time": "2025-03-10T16:45:51.299Z"
   },
   {
    "duration": 14,
    "start_time": "2025-03-10T16:45:51.327Z"
   },
   {
    "duration": 16,
    "start_time": "2025-03-10T16:45:51.342Z"
   },
   {
    "duration": 8,
    "start_time": "2025-03-10T16:45:51.359Z"
   },
   {
    "duration": 3,
    "start_time": "2025-03-10T16:45:51.368Z"
   },
   {
    "duration": 6,
    "start_time": "2025-03-10T16:45:51.373Z"
   },
   {
    "duration": 44,
    "start_time": "2025-03-10T16:45:51.381Z"
   },
   {
    "duration": 3,
    "start_time": "2025-03-10T16:45:51.427Z"
   },
   {
    "duration": 7,
    "start_time": "2025-03-10T16:45:51.433Z"
   },
   {
    "duration": 7,
    "start_time": "2025-03-10T16:45:51.442Z"
   },
   {
    "duration": 7,
    "start_time": "2025-03-10T16:45:51.451Z"
   },
   {
    "duration": 3,
    "start_time": "2025-03-10T16:45:51.460Z"
   },
   {
    "duration": 4,
    "start_time": "2025-03-10T16:45:51.465Z"
   },
   {
    "duration": 54,
    "start_time": "2025-03-10T16:45:51.471Z"
   },
   {
    "duration": 13,
    "start_time": "2025-03-10T16:45:51.527Z"
   },
   {
    "duration": 12,
    "start_time": "2025-03-10T16:45:51.543Z"
   },
   {
    "duration": 165,
    "start_time": "2025-03-10T16:45:51.556Z"
   },
   {
    "duration": 229,
    "start_time": "2025-03-10T16:45:51.722Z"
   },
   {
    "duration": 7,
    "start_time": "2025-03-10T16:45:51.953Z"
   },
   {
    "duration": 346,
    "start_time": "2025-03-10T16:45:51.962Z"
   },
   {
    "duration": 12,
    "start_time": "2025-03-10T16:45:52.310Z"
   },
   {
    "duration": 256,
    "start_time": "2025-03-10T16:46:03.563Z"
   },
   {
    "duration": 246,
    "start_time": "2025-03-10T16:46:19.676Z"
   },
   {
    "duration": 228,
    "start_time": "2025-03-10T16:46:29.028Z"
   },
   {
    "duration": 256,
    "start_time": "2025-03-10T16:46:35.659Z"
   },
   {
    "duration": 5,
    "start_time": "2025-03-10T16:56:03.343Z"
   },
   {
    "duration": 5,
    "start_time": "2025-03-10T16:56:18.160Z"
   },
   {
    "duration": 112,
    "start_time": "2025-03-10T16:56:56.028Z"
   },
   {
    "duration": 171,
    "start_time": "2025-03-10T16:57:36.310Z"
   },
   {
    "duration": 4,
    "start_time": "2025-03-10T17:01:44.331Z"
   },
   {
    "duration": 5,
    "start_time": "2025-03-10T17:02:00.955Z"
   },
   {
    "duration": 5,
    "start_time": "2025-03-10T17:02:14.212Z"
   },
   {
    "duration": 18,
    "start_time": "2025-03-10T17:34:11.695Z"
   },
   {
    "duration": 557,
    "start_time": "2025-03-10T17:36:03.938Z"
   },
   {
    "duration": 39,
    "start_time": "2025-03-10T17:36:19.725Z"
   },
   {
    "duration": 18,
    "start_time": "2025-03-10T17:36:51.107Z"
   },
   {
    "duration": 52,
    "start_time": "2025-03-10T17:37:31.828Z"
   },
   {
    "duration": 39,
    "start_time": "2025-03-10T17:37:39.338Z"
   },
   {
    "duration": 38,
    "start_time": "2025-03-10T17:37:46.222Z"
   },
   {
    "duration": 18,
    "start_time": "2025-03-10T17:38:52.959Z"
   },
   {
    "duration": 6,
    "start_time": "2025-03-10T17:40:48.974Z"
   },
   {
    "duration": 4,
    "start_time": "2025-03-10T17:42:19.092Z"
   },
   {
    "duration": 41,
    "start_time": "2025-03-10T17:42:45.309Z"
   },
   {
    "duration": 46,
    "start_time": "2025-03-10T17:43:12.488Z"
   },
   {
    "duration": 3,
    "start_time": "2025-03-10T17:44:43.831Z"
   },
   {
    "duration": 8,
    "start_time": "2025-03-10T17:45:26.074Z"
   },
   {
    "duration": 8,
    "start_time": "2025-03-10T17:45:35.703Z"
   },
   {
    "duration": 425,
    "start_time": "2025-03-10T17:45:55.961Z"
   },
   {
    "duration": 55,
    "start_time": "2025-03-10T17:45:56.388Z"
   },
   {
    "duration": 13,
    "start_time": "2025-03-10T17:45:56.444Z"
   },
   {
    "duration": 10,
    "start_time": "2025-03-10T17:45:56.460Z"
   },
   {
    "duration": 21,
    "start_time": "2025-03-10T17:45:56.472Z"
   },
   {
    "duration": 39,
    "start_time": "2025-03-10T17:45:56.494Z"
   },
   {
    "duration": 13,
    "start_time": "2025-03-10T17:45:56.534Z"
   },
   {
    "duration": 15,
    "start_time": "2025-03-10T17:45:56.549Z"
   },
   {
    "duration": 6,
    "start_time": "2025-03-10T17:45:56.566Z"
   },
   {
    "duration": 3,
    "start_time": "2025-03-10T17:45:56.574Z"
   },
   {
    "duration": 7,
    "start_time": "2025-03-10T17:45:56.579Z"
   },
   {
    "duration": 44,
    "start_time": "2025-03-10T17:45:56.587Z"
   },
   {
    "duration": 6,
    "start_time": "2025-03-10T17:45:56.633Z"
   },
   {
    "duration": 7,
    "start_time": "2025-03-10T17:45:56.641Z"
   },
   {
    "duration": 8,
    "start_time": "2025-03-10T17:45:56.650Z"
   },
   {
    "duration": 8,
    "start_time": "2025-03-10T17:45:56.660Z"
   },
   {
    "duration": 4,
    "start_time": "2025-03-10T17:45:56.670Z"
   },
   {
    "duration": 5,
    "start_time": "2025-03-10T17:45:56.675Z"
   },
   {
    "duration": 51,
    "start_time": "2025-03-10T17:45:56.682Z"
   },
   {
    "duration": 13,
    "start_time": "2025-03-10T17:45:56.734Z"
   },
   {
    "duration": 13,
    "start_time": "2025-03-10T17:45:56.748Z"
   },
   {
    "duration": 145,
    "start_time": "2025-03-10T17:45:56.762Z"
   },
   {
    "duration": 218,
    "start_time": "2025-03-10T17:45:56.909Z"
   },
   {
    "duration": 7,
    "start_time": "2025-03-10T17:45:57.129Z"
   },
   {
    "duration": 283,
    "start_time": "2025-03-10T17:45:57.137Z"
   },
   {
    "duration": 13,
    "start_time": "2025-03-10T17:45:57.423Z"
   },
   {
    "duration": 4,
    "start_time": "2025-03-10T17:45:57.437Z"
   },
   {
    "duration": 4,
    "start_time": "2025-03-10T17:47:53.189Z"
   },
   {
    "duration": 6,
    "start_time": "2025-03-10T17:52:19.456Z"
   },
   {
    "duration": 5,
    "start_time": "2025-03-10T17:52:28.865Z"
   },
   {
    "duration": 389,
    "start_time": "2025-03-10T18:50:13.068Z"
   },
   {
    "duration": 6,
    "start_time": "2025-03-10T18:50:58.123Z"
   },
   {
    "duration": 70,
    "start_time": "2025-03-10T18:51:18.868Z"
   },
   {
    "duration": 762,
    "start_time": "2025-03-10T19:26:20.140Z"
   },
   {
    "duration": 3253,
    "start_time": "2025-03-10T23:19:15.509Z"
   },
   {
    "duration": 45,
    "start_time": "2025-03-10T23:19:18.764Z"
   },
   {
    "duration": 15,
    "start_time": "2025-03-10T23:19:18.812Z"
   },
   {
    "duration": 11,
    "start_time": "2025-03-10T23:19:18.829Z"
   },
   {
    "duration": 23,
    "start_time": "2025-03-10T23:19:18.842Z"
   },
   {
    "duration": 49,
    "start_time": "2025-03-10T23:19:18.866Z"
   },
   {
    "duration": 15,
    "start_time": "2025-03-10T23:19:18.917Z"
   },
   {
    "duration": 15,
    "start_time": "2025-03-10T23:19:18.934Z"
   },
   {
    "duration": 6,
    "start_time": "2025-03-10T23:19:18.951Z"
   },
   {
    "duration": 3,
    "start_time": "2025-03-10T23:19:18.960Z"
   },
   {
    "duration": 47,
    "start_time": "2025-03-10T23:19:18.965Z"
   },
   {
    "duration": 7,
    "start_time": "2025-03-10T23:19:19.014Z"
   },
   {
    "duration": 4,
    "start_time": "2025-03-10T23:19:19.023Z"
   },
   {
    "duration": 7,
    "start_time": "2025-03-10T23:19:19.029Z"
   },
   {
    "duration": 7,
    "start_time": "2025-03-10T23:19:19.038Z"
   },
   {
    "duration": 7,
    "start_time": "2025-03-10T23:19:19.047Z"
   },
   {
    "duration": 4,
    "start_time": "2025-03-10T23:19:19.055Z"
   },
   {
    "duration": 4,
    "start_time": "2025-03-10T23:19:19.061Z"
   },
   {
    "duration": 47,
    "start_time": "2025-03-10T23:19:19.067Z"
   },
   {
    "duration": 15,
    "start_time": "2025-03-10T23:19:19.116Z"
   },
   {
    "duration": 12,
    "start_time": "2025-03-10T23:19:19.133Z"
   },
   {
    "duration": 191,
    "start_time": "2025-03-10T23:19:19.147Z"
   },
   {
    "duration": 262,
    "start_time": "2025-03-10T23:19:19.342Z"
   },
   {
    "duration": 13,
    "start_time": "2025-03-10T23:19:19.606Z"
   },
   {
    "duration": 310,
    "start_time": "2025-03-10T23:19:19.621Z"
   },
   {
    "duration": 4,
    "start_time": "2025-03-10T23:19:19.933Z"
   },
   {
    "duration": 4,
    "start_time": "2025-03-10T23:19:19.939Z"
   },
   {
    "duration": 915,
    "start_time": "2025-03-10T23:19:19.947Z"
   },
   {
    "duration": 997,
    "start_time": "2025-03-10T23:20:00.779Z"
   },
   {
    "duration": 487,
    "start_time": "2025-03-10T23:20:22.042Z"
   },
   {
    "duration": 427,
    "start_time": "2025-03-10T23:24:35.630Z"
   },
   {
    "duration": 8,
    "start_time": "2025-03-10T23:24:50.737Z"
   },
   {
    "duration": 568,
    "start_time": "2025-03-10T23:24:55.811Z"
   },
   {
    "duration": 484,
    "start_time": "2025-03-10T23:25:07.641Z"
   },
   {
    "duration": 5,
    "start_time": "2025-03-10T23:25:18.101Z"
   },
   {
    "duration": 429,
    "start_time": "2025-03-10T23:25:22.253Z"
   },
   {
    "duration": 765,
    "start_time": "2025-03-10T23:26:09.267Z"
   },
   {
    "duration": 12,
    "start_time": "2025-03-11T00:21:44.691Z"
   },
   {
    "duration": 3,
    "start_time": "2025-03-11T00:26:04.335Z"
   },
   {
    "duration": 3,
    "start_time": "2025-03-11T00:26:07.389Z"
   },
   {
    "duration": 12,
    "start_time": "2025-03-11T00:26:10.399Z"
   },
   {
    "duration": 1026,
    "start_time": "2025-03-11T00:27:54.805Z"
   },
   {
    "duration": 27,
    "start_time": "2025-03-11T00:27:55.833Z"
   },
   {
    "duration": 27,
    "start_time": "2025-03-11T00:27:55.862Z"
   },
   {
    "duration": 13,
    "start_time": "2025-03-11T00:27:55.891Z"
   },
   {
    "duration": 25,
    "start_time": "2025-03-11T00:27:55.905Z"
   },
   {
    "duration": 12,
    "start_time": "2025-03-11T00:27:55.932Z"
   },
   {
    "duration": 45,
    "start_time": "2025-03-11T00:27:55.946Z"
   },
   {
    "duration": 19,
    "start_time": "2025-03-11T00:27:55.993Z"
   },
   {
    "duration": 8,
    "start_time": "2025-03-11T00:27:56.014Z"
   },
   {
    "duration": 3,
    "start_time": "2025-03-11T00:27:56.025Z"
   },
   {
    "duration": 7,
    "start_time": "2025-03-11T00:27:56.030Z"
   },
   {
    "duration": 11,
    "start_time": "2025-03-11T00:27:56.038Z"
   },
   {
    "duration": 39,
    "start_time": "2025-03-11T00:27:56.052Z"
   },
   {
    "duration": 9,
    "start_time": "2025-03-11T00:27:56.093Z"
   },
   {
    "duration": 9,
    "start_time": "2025-03-11T00:27:56.105Z"
   },
   {
    "duration": 9,
    "start_time": "2025-03-11T00:27:56.116Z"
   },
   {
    "duration": 4,
    "start_time": "2025-03-11T00:27:56.128Z"
   },
   {
    "duration": 5,
    "start_time": "2025-03-11T00:27:56.134Z"
   },
   {
    "duration": 54,
    "start_time": "2025-03-11T00:27:56.142Z"
   },
   {
    "duration": 18,
    "start_time": "2025-03-11T00:27:56.204Z"
   },
   {
    "duration": 19,
    "start_time": "2025-03-11T00:27:56.224Z"
   },
   {
    "duration": 162,
    "start_time": "2025-03-11T00:27:56.245Z"
   },
   {
    "duration": 265,
    "start_time": "2025-03-11T00:27:56.409Z"
   },
   {
    "duration": 17,
    "start_time": "2025-03-11T00:27:56.677Z"
   },
   {
    "duration": 367,
    "start_time": "2025-03-11T00:27:56.696Z"
   },
   {
    "duration": 5,
    "start_time": "2025-03-11T00:27:57.065Z"
   },
   {
    "duration": 4,
    "start_time": "2025-03-11T00:27:57.073Z"
   },
   {
    "duration": 824,
    "start_time": "2025-03-11T00:27:57.081Z"
   },
   {
    "duration": 11,
    "start_time": "2025-03-11T00:27:57.907Z"
   },
   {
    "duration": 464,
    "start_time": "2025-03-11T00:50:46.239Z"
   },
   {
    "duration": 14,
    "start_time": "2025-03-11T00:51:04.885Z"
   },
   {
    "duration": 274,
    "start_time": "2025-03-11T00:51:08.767Z"
   },
   {
    "duration": 3,
    "start_time": "2025-03-11T00:53:10.196Z"
   },
   {
    "duration": 4,
    "start_time": "2025-03-11T00:53:13.967Z"
   },
   {
    "duration": 7,
    "start_time": "2025-03-11T00:53:25.518Z"
   },
   {
    "duration": 5,
    "start_time": "2025-03-11T00:54:05.351Z"
   },
   {
    "duration": 6,
    "start_time": "2025-03-11T00:54:41.904Z"
   },
   {
    "duration": 8,
    "start_time": "2025-03-11T00:54:50.991Z"
   },
   {
    "duration": 8,
    "start_time": "2025-03-11T00:55:09.155Z"
   },
   {
    "duration": 269,
    "start_time": "2025-03-11T01:00:59.553Z"
   },
   {
    "duration": 4,
    "start_time": "2025-03-11T01:05:11.530Z"
   },
   {
    "duration": 10,
    "start_time": "2025-03-11T01:05:17.747Z"
   },
   {
    "duration": 9,
    "start_time": "2025-03-11T01:05:34.666Z"
   },
   {
    "duration": 13,
    "start_time": "2025-03-11T01:05:45.670Z"
   },
   {
    "duration": 6,
    "start_time": "2025-03-11T01:07:46.858Z"
   },
   {
    "duration": 8,
    "start_time": "2025-03-11T01:07:59.112Z"
   },
   {
    "duration": 8,
    "start_time": "2025-03-11T01:08:27.333Z"
   },
   {
    "duration": 19,
    "start_time": "2025-03-11T01:08:34.206Z"
   },
   {
    "duration": 334,
    "start_time": "2025-03-11T01:10:10.782Z"
   },
   {
    "duration": 7,
    "start_time": "2025-03-11T01:10:52.942Z"
   },
   {
    "duration": 5,
    "start_time": "2025-03-11T01:13:38.590Z"
   },
   {
    "duration": 17,
    "start_time": "2025-03-11T01:13:42.737Z"
   },
   {
    "duration": 5,
    "start_time": "2025-03-11T01:13:56.664Z"
   },
   {
    "duration": 364,
    "start_time": "2025-03-11T01:34:11.246Z"
   },
   {
    "duration": 883,
    "start_time": "2025-03-11T02:58:18.606Z"
   },
   {
    "duration": 25,
    "start_time": "2025-03-11T02:58:19.491Z"
   },
   {
    "duration": 14,
    "start_time": "2025-03-11T02:58:19.518Z"
   },
   {
    "duration": 10,
    "start_time": "2025-03-11T02:58:19.534Z"
   },
   {
    "duration": 42,
    "start_time": "2025-03-11T02:58:19.546Z"
   },
   {
    "duration": 10,
    "start_time": "2025-03-11T02:58:19.591Z"
   },
   {
    "duration": 14,
    "start_time": "2025-03-11T02:58:19.603Z"
   },
   {
    "duration": 15,
    "start_time": "2025-03-11T02:58:19.619Z"
   },
   {
    "duration": 7,
    "start_time": "2025-03-11T02:58:19.636Z"
   },
   {
    "duration": 3,
    "start_time": "2025-03-11T02:58:19.645Z"
   },
   {
    "duration": 42,
    "start_time": "2025-03-11T02:58:19.650Z"
   },
   {
    "duration": 7,
    "start_time": "2025-03-11T02:58:19.694Z"
   },
   {
    "duration": 4,
    "start_time": "2025-03-11T02:58:19.703Z"
   },
   {
    "duration": 7,
    "start_time": "2025-03-11T02:58:19.710Z"
   },
   {
    "duration": 8,
    "start_time": "2025-03-11T02:58:19.718Z"
   },
   {
    "duration": 7,
    "start_time": "2025-03-11T02:58:19.727Z"
   },
   {
    "duration": 4,
    "start_time": "2025-03-11T02:58:19.735Z"
   },
   {
    "duration": 4,
    "start_time": "2025-03-11T02:58:19.740Z"
   },
   {
    "duration": 11,
    "start_time": "2025-03-11T02:58:19.787Z"
   },
   {
    "duration": 12,
    "start_time": "2025-03-11T02:58:19.800Z"
   },
   {
    "duration": 11,
    "start_time": "2025-03-11T02:58:19.813Z"
   },
   {
    "duration": 156,
    "start_time": "2025-03-11T02:58:19.825Z"
   },
   {
    "duration": 212,
    "start_time": "2025-03-11T02:58:19.986Z"
   },
   {
    "duration": 6,
    "start_time": "2025-03-11T02:58:20.200Z"
   },
   {
    "duration": 343,
    "start_time": "2025-03-11T02:58:20.208Z"
   },
   {
    "duration": 5,
    "start_time": "2025-03-11T02:58:20.553Z"
   },
   {
    "duration": 4,
    "start_time": "2025-03-11T02:58:20.560Z"
   },
   {
    "duration": 703,
    "start_time": "2025-03-11T02:58:20.566Z"
   },
   {
    "duration": 356,
    "start_time": "2025-03-11T02:58:21.271Z"
   },
   {
    "duration": 6,
    "start_time": "2025-03-11T02:58:21.629Z"
   },
   {
    "duration": 601,
    "start_time": "2025-03-11T03:09:34.574Z"
   },
   {
    "duration": 2832,
    "start_time": "2025-03-11T17:15:57.159Z"
   },
   {
    "duration": 39,
    "start_time": "2025-03-11T17:15:59.993Z"
   },
   {
    "duration": 14,
    "start_time": "2025-03-11T17:16:00.033Z"
   },
   {
    "duration": 12,
    "start_time": "2025-03-11T17:16:00.050Z"
   },
   {
    "duration": 45,
    "start_time": "2025-03-11T17:16:00.064Z"
   },
   {
    "duration": 12,
    "start_time": "2025-03-11T17:16:00.111Z"
   },
   {
    "duration": 16,
    "start_time": "2025-03-11T17:16:00.125Z"
   },
   {
    "duration": 16,
    "start_time": "2025-03-11T17:16:00.142Z"
   },
   {
    "duration": 8,
    "start_time": "2025-03-11T17:16:00.160Z"
   },
   {
    "duration": 37,
    "start_time": "2025-03-11T17:16:00.172Z"
   },
   {
    "duration": 8,
    "start_time": "2025-03-11T17:16:00.211Z"
   },
   {
    "duration": 7,
    "start_time": "2025-03-11T17:16:00.221Z"
   },
   {
    "duration": 4,
    "start_time": "2025-03-11T17:16:00.230Z"
   },
   {
    "duration": 10,
    "start_time": "2025-03-11T17:16:00.235Z"
   },
   {
    "duration": 7,
    "start_time": "2025-03-11T17:16:00.248Z"
   },
   {
    "duration": 7,
    "start_time": "2025-03-11T17:16:00.256Z"
   },
   {
    "duration": 3,
    "start_time": "2025-03-11T17:16:00.265Z"
   },
   {
    "duration": 42,
    "start_time": "2025-03-11T17:16:00.270Z"
   },
   {
    "duration": 12,
    "start_time": "2025-03-11T17:16:00.314Z"
   },
   {
    "duration": 14,
    "start_time": "2025-03-11T17:16:00.328Z"
   },
   {
    "duration": 13,
    "start_time": "2025-03-11T17:16:00.345Z"
   },
   {
    "duration": 167,
    "start_time": "2025-03-11T17:16:00.360Z"
   },
   {
    "duration": 220,
    "start_time": "2025-03-11T17:16:00.529Z"
   },
   {
    "duration": 8,
    "start_time": "2025-03-11T17:16:00.752Z"
   },
   {
    "duration": 327,
    "start_time": "2025-03-11T17:16:00.762Z"
   },
   {
    "duration": 6,
    "start_time": "2025-03-11T17:16:01.091Z"
   },
   {
    "duration": 3,
    "start_time": "2025-03-11T17:16:01.099Z"
   },
   {
    "duration": 828,
    "start_time": "2025-03-11T17:16:01.110Z"
   },
   {
    "duration": 411,
    "start_time": "2025-03-11T17:16:01.940Z"
   },
   {
    "duration": 8,
    "start_time": "2025-03-11T17:16:02.353Z"
   },
   {
    "duration": 12,
    "start_time": "2025-03-11T17:24:52.407Z"
   },
   {
    "duration": 153,
    "start_time": "2025-03-11T17:25:54.886Z"
   },
   {
    "duration": 462,
    "start_time": "2025-03-11T17:29:39.408Z"
   },
   {
    "duration": 26,
    "start_time": "2025-03-11T17:29:58.433Z"
   },
   {
    "duration": 28,
    "start_time": "2025-03-11T17:30:03.121Z"
   },
   {
    "duration": 127,
    "start_time": "2025-03-11T17:30:18.097Z"
   },
   {
    "duration": 149,
    "start_time": "2025-03-11T17:30:30.814Z"
   },
   {
    "duration": 171,
    "start_time": "2025-03-11T17:31:50.285Z"
   },
   {
    "duration": 248,
    "start_time": "2025-03-11T17:32:15.494Z"
   },
   {
    "duration": 7,
    "start_time": "2025-03-11T17:54:21.163Z"
   },
   {
    "duration": 12,
    "start_time": "2025-03-11T17:54:36.609Z"
   },
   {
    "duration": 463,
    "start_time": "2025-03-11T17:55:08.839Z"
   },
   {
    "duration": 45,
    "start_time": "2025-03-11T17:55:23.948Z"
   },
   {
    "duration": 17,
    "start_time": "2025-03-11T17:55:32.584Z"
   },
   {
    "duration": 5,
    "start_time": "2025-03-11T17:55:50.180Z"
   },
   {
    "duration": 11,
    "start_time": "2025-03-11T17:57:35.193Z"
   },
   {
    "duration": 5,
    "start_time": "2025-03-11T17:58:00.132Z"
   },
   {
    "duration": 145,
    "start_time": "2025-03-11T17:58:20.209Z"
   },
   {
    "duration": 110,
    "start_time": "2025-03-11T17:58:36.720Z"
   },
   {
    "duration": 289,
    "start_time": "2025-03-11T18:00:00.248Z"
   },
   {
    "duration": 124,
    "start_time": "2025-03-11T18:04:14.746Z"
   },
   {
    "duration": 824,
    "start_time": "2025-03-11T18:10:33.689Z"
   },
   {
    "duration": 28,
    "start_time": "2025-03-11T18:10:34.515Z"
   },
   {
    "duration": 13,
    "start_time": "2025-03-11T18:10:34.545Z"
   },
   {
    "duration": 13,
    "start_time": "2025-03-11T18:10:34.560Z"
   },
   {
    "duration": 47,
    "start_time": "2025-03-11T18:10:34.575Z"
   },
   {
    "duration": 10,
    "start_time": "2025-03-11T18:10:34.625Z"
   },
   {
    "duration": 16,
    "start_time": "2025-03-11T18:10:34.637Z"
   },
   {
    "duration": 18,
    "start_time": "2025-03-11T18:10:34.654Z"
   },
   {
    "duration": 37,
    "start_time": "2025-03-11T18:10:34.673Z"
   },
   {
    "duration": 4,
    "start_time": "2025-03-11T18:10:34.712Z"
   },
   {
    "duration": 7,
    "start_time": "2025-03-11T18:10:34.718Z"
   },
   {
    "duration": 8,
    "start_time": "2025-03-11T18:10:34.727Z"
   },
   {
    "duration": 5,
    "start_time": "2025-03-11T18:10:34.736Z"
   },
   {
    "duration": 6,
    "start_time": "2025-03-11T18:10:34.744Z"
   },
   {
    "duration": 8,
    "start_time": "2025-03-11T18:10:34.751Z"
   },
   {
    "duration": 8,
    "start_time": "2025-03-11T18:10:34.760Z"
   },
   {
    "duration": 41,
    "start_time": "2025-03-11T18:10:34.769Z"
   },
   {
    "duration": 4,
    "start_time": "2025-03-11T18:10:34.813Z"
   },
   {
    "duration": 13,
    "start_time": "2025-03-11T18:10:34.820Z"
   },
   {
    "duration": 14,
    "start_time": "2025-03-11T18:10:34.836Z"
   },
   {
    "duration": 15,
    "start_time": "2025-03-11T18:10:34.852Z"
   },
   {
    "duration": 182,
    "start_time": "2025-03-11T18:10:34.870Z"
   },
   {
    "duration": 222,
    "start_time": "2025-03-11T18:10:35.053Z"
   },
   {
    "duration": 7,
    "start_time": "2025-03-11T18:10:35.277Z"
   },
   {
    "duration": 351,
    "start_time": "2025-03-11T18:10:35.286Z"
   },
   {
    "duration": 5,
    "start_time": "2025-03-11T18:10:35.639Z"
   },
   {
    "duration": 3,
    "start_time": "2025-03-11T18:10:35.646Z"
   },
   {
    "duration": 726,
    "start_time": "2025-03-11T18:10:35.651Z"
   },
   {
    "duration": 359,
    "start_time": "2025-03-11T18:10:36.378Z"
   },
   {
    "duration": 7,
    "start_time": "2025-03-11T18:10:36.739Z"
   },
   {
    "duration": 248,
    "start_time": "2025-03-11T18:10:36.747Z"
   },
   {
    "duration": 12,
    "start_time": "2025-03-11T18:10:36.997Z"
   },
   {
    "duration": 11,
    "start_time": "2025-03-11T18:10:37.011Z"
   },
   {
    "duration": 5,
    "start_time": "2025-03-11T18:10:37.024Z"
   },
   {
    "duration": 4,
    "start_time": "2025-03-11T18:11:08.147Z"
   },
   {
    "duration": 4,
    "start_time": "2025-03-11T18:11:09.263Z"
   },
   {
    "duration": 255,
    "start_time": "2025-03-11T18:11:17.449Z"
   },
   {
    "duration": 909,
    "start_time": "2025-03-11T18:14:16.629Z"
   },
   {
    "duration": 25,
    "start_time": "2025-03-11T18:14:17.540Z"
   },
   {
    "duration": 15,
    "start_time": "2025-03-11T18:14:17.566Z"
   },
   {
    "duration": 32,
    "start_time": "2025-03-11T18:14:17.584Z"
   },
   {
    "duration": 23,
    "start_time": "2025-03-11T18:14:17.619Z"
   },
   {
    "duration": 12,
    "start_time": "2025-03-11T18:14:17.643Z"
   },
   {
    "duration": 15,
    "start_time": "2025-03-11T18:14:17.657Z"
   },
   {
    "duration": 44,
    "start_time": "2025-03-11T18:14:17.674Z"
   },
   {
    "duration": 7,
    "start_time": "2025-03-11T18:14:17.720Z"
   },
   {
    "duration": 3,
    "start_time": "2025-03-11T18:14:17.731Z"
   },
   {
    "duration": 6,
    "start_time": "2025-03-11T18:14:17.736Z"
   },
   {
    "duration": 7,
    "start_time": "2025-03-11T18:14:17.744Z"
   },
   {
    "duration": 4,
    "start_time": "2025-03-11T18:14:17.752Z"
   },
   {
    "duration": 9,
    "start_time": "2025-03-11T18:14:17.758Z"
   },
   {
    "duration": 47,
    "start_time": "2025-03-11T18:14:17.769Z"
   },
   {
    "duration": 10,
    "start_time": "2025-03-11T18:14:17.817Z"
   },
   {
    "duration": 3,
    "start_time": "2025-03-11T18:14:17.829Z"
   },
   {
    "duration": 4,
    "start_time": "2025-03-11T18:14:17.834Z"
   },
   {
    "duration": 12,
    "start_time": "2025-03-11T18:14:17.839Z"
   },
   {
    "duration": 13,
    "start_time": "2025-03-11T18:14:17.853Z"
   },
   {
    "duration": 54,
    "start_time": "2025-03-11T18:14:17.868Z"
   },
   {
    "duration": 146,
    "start_time": "2025-03-11T18:14:17.924Z"
   },
   {
    "duration": 227,
    "start_time": "2025-03-11T18:14:18.072Z"
   },
   {
    "duration": 7,
    "start_time": "2025-03-11T18:14:18.308Z"
   },
   {
    "duration": 340,
    "start_time": "2025-03-11T18:14:18.317Z"
   },
   {
    "duration": 5,
    "start_time": "2025-03-11T18:14:18.659Z"
   },
   {
    "duration": 4,
    "start_time": "2025-03-11T18:14:18.665Z"
   },
   {
    "duration": 736,
    "start_time": "2025-03-11T18:14:18.673Z"
   },
   {
    "duration": 341,
    "start_time": "2025-03-11T18:14:19.411Z"
   },
   {
    "duration": 13,
    "start_time": "2025-03-11T18:14:19.755Z"
   },
   {
    "duration": 237,
    "start_time": "2025-03-11T18:14:19.772Z"
   },
   {
    "duration": 7,
    "start_time": "2025-03-11T18:14:20.010Z"
   },
   {
    "duration": 11,
    "start_time": "2025-03-11T18:14:20.018Z"
   },
   {
    "duration": 99679,
    "start_time": "2025-03-11T18:14:20.031Z"
   },
   {
    "duration": 816,
    "start_time": "2025-03-11T18:21:32.385Z"
   },
   {
    "duration": 26,
    "start_time": "2025-03-11T18:21:33.203Z"
   },
   {
    "duration": 14,
    "start_time": "2025-03-11T18:21:33.230Z"
   },
   {
    "duration": 12,
    "start_time": "2025-03-11T18:21:33.246Z"
   },
   {
    "duration": 49,
    "start_time": "2025-03-11T18:21:33.260Z"
   },
   {
    "duration": 14,
    "start_time": "2025-03-11T18:21:33.311Z"
   },
   {
    "duration": 15,
    "start_time": "2025-03-11T18:21:33.327Z"
   },
   {
    "duration": 17,
    "start_time": "2025-03-11T18:21:33.344Z"
   },
   {
    "duration": 8,
    "start_time": "2025-03-11T18:21:33.363Z"
   },
   {
    "duration": 35,
    "start_time": "2025-03-11T18:21:33.375Z"
   },
   {
    "duration": 8,
    "start_time": "2025-03-11T18:21:33.411Z"
   },
   {
    "duration": 8,
    "start_time": "2025-03-11T18:21:33.420Z"
   },
   {
    "duration": 3,
    "start_time": "2025-03-11T18:21:33.430Z"
   },
   {
    "duration": 7,
    "start_time": "2025-03-11T18:21:33.435Z"
   },
   {
    "duration": 7,
    "start_time": "2025-03-11T18:21:33.444Z"
   },
   {
    "duration": 7,
    "start_time": "2025-03-11T18:21:33.452Z"
   },
   {
    "duration": 4,
    "start_time": "2025-03-11T18:21:33.461Z"
   },
   {
    "duration": 46,
    "start_time": "2025-03-11T18:21:33.467Z"
   },
   {
    "duration": 13,
    "start_time": "2025-03-11T18:21:33.515Z"
   },
   {
    "duration": 12,
    "start_time": "2025-03-11T18:21:33.530Z"
   },
   {
    "duration": 12,
    "start_time": "2025-03-11T18:21:33.543Z"
   },
   {
    "duration": 166,
    "start_time": "2025-03-11T18:21:33.556Z"
   },
   {
    "duration": 219,
    "start_time": "2025-03-11T18:21:33.724Z"
   },
   {
    "duration": 7,
    "start_time": "2025-03-11T18:21:33.945Z"
   },
   {
    "duration": 344,
    "start_time": "2025-03-11T18:21:33.953Z"
   },
   {
    "duration": 4,
    "start_time": "2025-03-11T18:21:34.300Z"
   },
   {
    "duration": 4,
    "start_time": "2025-03-11T18:21:34.306Z"
   },
   {
    "duration": 721,
    "start_time": "2025-03-11T18:21:34.314Z"
   },
   {
    "duration": 360,
    "start_time": "2025-03-11T18:21:35.037Z"
   },
   {
    "duration": 12,
    "start_time": "2025-03-11T18:21:35.399Z"
   },
   {
    "duration": 245,
    "start_time": "2025-03-11T18:21:35.412Z"
   },
   {
    "duration": 6,
    "start_time": "2025-03-11T18:21:35.659Z"
   },
   {
    "duration": 11,
    "start_time": "2025-03-11T18:21:35.667Z"
   },
   {
    "duration": 4,
    "start_time": "2025-03-11T18:21:35.680Z"
   },
   {
    "duration": 220,
    "start_time": "2025-03-11T18:21:48.154Z"
   },
   {
    "duration": 876,
    "start_time": "2025-03-11T18:22:11.333Z"
   },
   {
    "duration": 31,
    "start_time": "2025-03-11T18:22:12.211Z"
   },
   {
    "duration": 14,
    "start_time": "2025-03-11T18:22:12.244Z"
   },
   {
    "duration": 13,
    "start_time": "2025-03-11T18:22:12.261Z"
   },
   {
    "duration": 43,
    "start_time": "2025-03-11T18:22:12.277Z"
   },
   {
    "duration": 10,
    "start_time": "2025-03-11T18:22:12.322Z"
   },
   {
    "duration": 15,
    "start_time": "2025-03-11T18:22:12.334Z"
   },
   {
    "duration": 16,
    "start_time": "2025-03-11T18:22:12.350Z"
   },
   {
    "duration": 7,
    "start_time": "2025-03-11T18:22:12.368Z"
   },
   {
    "duration": 3,
    "start_time": "2025-03-11T18:22:12.410Z"
   },
   {
    "duration": 8,
    "start_time": "2025-03-11T18:22:12.415Z"
   },
   {
    "duration": 8,
    "start_time": "2025-03-11T18:22:12.424Z"
   },
   {
    "duration": 4,
    "start_time": "2025-03-11T18:22:12.434Z"
   },
   {
    "duration": 8,
    "start_time": "2025-03-11T18:22:12.439Z"
   },
   {
    "duration": 8,
    "start_time": "2025-03-11T18:22:12.448Z"
   },
   {
    "duration": 8,
    "start_time": "2025-03-11T18:22:12.457Z"
   },
   {
    "duration": 43,
    "start_time": "2025-03-11T18:22:12.467Z"
   },
   {
    "duration": 4,
    "start_time": "2025-03-11T18:22:12.512Z"
   },
   {
    "duration": 13,
    "start_time": "2025-03-11T18:22:12.517Z"
   },
   {
    "duration": 13,
    "start_time": "2025-03-11T18:22:12.532Z"
   },
   {
    "duration": 13,
    "start_time": "2025-03-11T18:22:12.546Z"
   },
   {
    "duration": 172,
    "start_time": "2025-03-11T18:22:12.560Z"
   },
   {
    "duration": 223,
    "start_time": "2025-03-11T18:22:12.734Z"
   },
   {
    "duration": 7,
    "start_time": "2025-03-11T18:22:12.959Z"
   },
   {
    "duration": 349,
    "start_time": "2025-03-11T18:22:12.968Z"
   },
   {
    "duration": 5,
    "start_time": "2025-03-11T18:22:13.319Z"
   },
   {
    "duration": 7,
    "start_time": "2025-03-11T18:22:13.326Z"
   },
   {
    "duration": 727,
    "start_time": "2025-03-11T18:22:13.337Z"
   },
   {
    "duration": 390,
    "start_time": "2025-03-11T18:22:14.067Z"
   },
   {
    "duration": 6,
    "start_time": "2025-03-11T18:22:14.459Z"
   },
   {
    "duration": 243,
    "start_time": "2025-03-11T18:22:14.467Z"
   },
   {
    "duration": 6,
    "start_time": "2025-03-11T18:22:14.712Z"
   },
   {
    "duration": 11,
    "start_time": "2025-03-11T18:22:14.720Z"
   },
   {
    "duration": 171179,
    "start_time": "2025-03-11T18:24:06.731Z"
   },
   {
    "duration": 2597,
    "start_time": "2025-03-11T23:04:14.809Z"
   },
   {
    "duration": 38,
    "start_time": "2025-03-11T23:04:17.408Z"
   },
   {
    "duration": 15,
    "start_time": "2025-03-11T23:04:17.448Z"
   },
   {
    "duration": 11,
    "start_time": "2025-03-11T23:04:17.465Z"
   },
   {
    "duration": 26,
    "start_time": "2025-03-11T23:04:17.478Z"
   },
   {
    "duration": 11,
    "start_time": "2025-03-11T23:04:17.506Z"
   },
   {
    "duration": 14,
    "start_time": "2025-03-11T23:04:17.518Z"
   },
   {
    "duration": 16,
    "start_time": "2025-03-11T23:04:17.533Z"
   },
   {
    "duration": 37,
    "start_time": "2025-03-11T23:04:17.550Z"
   },
   {
    "duration": 3,
    "start_time": "2025-03-11T23:04:17.590Z"
   },
   {
    "duration": 7,
    "start_time": "2025-03-11T23:04:17.595Z"
   },
   {
    "duration": 7,
    "start_time": "2025-03-11T23:04:17.604Z"
   },
   {
    "duration": 3,
    "start_time": "2025-03-11T23:04:17.613Z"
   },
   {
    "duration": 9,
    "start_time": "2025-03-11T23:04:17.618Z"
   },
   {
    "duration": 7,
    "start_time": "2025-03-11T23:04:17.629Z"
   },
   {
    "duration": 9,
    "start_time": "2025-03-11T23:04:17.638Z"
   },
   {
    "duration": 41,
    "start_time": "2025-03-11T23:04:17.648Z"
   },
   {
    "duration": 4,
    "start_time": "2025-03-11T23:04:17.691Z"
   },
   {
    "duration": 13,
    "start_time": "2025-03-11T23:04:17.697Z"
   },
   {
    "duration": 13,
    "start_time": "2025-03-11T23:04:17.713Z"
   },
   {
    "duration": 14,
    "start_time": "2025-03-11T23:04:17.728Z"
   },
   {
    "duration": 181,
    "start_time": "2025-03-11T23:04:17.744Z"
   },
   {
    "duration": 224,
    "start_time": "2025-03-11T23:04:17.926Z"
   },
   {
    "duration": 6,
    "start_time": "2025-03-11T23:04:18.152Z"
   },
   {
    "duration": 287,
    "start_time": "2025-03-11T23:04:18.160Z"
   },
   {
    "duration": 5,
    "start_time": "2025-03-11T23:04:18.449Z"
   },
   {
    "duration": 4,
    "start_time": "2025-03-11T23:04:18.456Z"
   },
   {
    "duration": 743,
    "start_time": "2025-03-11T23:04:18.464Z"
   },
   {
    "duration": 365,
    "start_time": "2025-03-11T23:04:19.209Z"
   },
   {
    "duration": 12,
    "start_time": "2025-03-11T23:04:19.576Z"
   },
   {
    "duration": 157,
    "start_time": "2025-03-11T23:04:19.589Z"
   },
   {
    "duration": 6,
    "start_time": "2025-03-11T23:04:19.748Z"
   },
   {
    "duration": 10,
    "start_time": "2025-03-11T23:04:19.756Z"
   },
   {
    "duration": 837,
    "start_time": "2025-03-11T23:05:05.218Z"
   },
   {
    "duration": 30,
    "start_time": "2025-03-11T23:05:06.057Z"
   },
   {
    "duration": 14,
    "start_time": "2025-03-11T23:05:06.088Z"
   },
   {
    "duration": 11,
    "start_time": "2025-03-11T23:05:06.105Z"
   },
   {
    "duration": 22,
    "start_time": "2025-03-11T23:05:06.118Z"
   },
   {
    "duration": 10,
    "start_time": "2025-03-11T23:05:06.141Z"
   },
   {
    "duration": 38,
    "start_time": "2025-03-11T23:05:06.153Z"
   },
   {
    "duration": 16,
    "start_time": "2025-03-11T23:05:06.194Z"
   },
   {
    "duration": 6,
    "start_time": "2025-03-11T23:05:06.212Z"
   },
   {
    "duration": 3,
    "start_time": "2025-03-11T23:05:06.222Z"
   },
   {
    "duration": 6,
    "start_time": "2025-03-11T23:05:06.226Z"
   },
   {
    "duration": 8,
    "start_time": "2025-03-11T23:05:06.234Z"
   },
   {
    "duration": 3,
    "start_time": "2025-03-11T23:05:06.244Z"
   },
   {
    "duration": 38,
    "start_time": "2025-03-11T23:05:06.249Z"
   },
   {
    "duration": 6,
    "start_time": "2025-03-11T23:05:06.289Z"
   },
   {
    "duration": 7,
    "start_time": "2025-03-11T23:05:06.297Z"
   },
   {
    "duration": 4,
    "start_time": "2025-03-11T23:05:06.305Z"
   },
   {
    "duration": 5,
    "start_time": "2025-03-11T23:05:06.310Z"
   },
   {
    "duration": 12,
    "start_time": "2025-03-11T23:05:06.316Z"
   },
   {
    "duration": 11,
    "start_time": "2025-03-11T23:05:06.330Z"
   },
   {
    "duration": 52,
    "start_time": "2025-03-11T23:05:06.343Z"
   },
   {
    "duration": 139,
    "start_time": "2025-03-11T23:05:06.397Z"
   },
   {
    "duration": 213,
    "start_time": "2025-03-11T23:05:06.538Z"
   },
   {
    "duration": 6,
    "start_time": "2025-03-11T23:05:06.753Z"
   },
   {
    "duration": 338,
    "start_time": "2025-03-11T23:05:06.761Z"
   },
   {
    "duration": 5,
    "start_time": "2025-03-11T23:05:07.101Z"
   },
   {
    "duration": 4,
    "start_time": "2025-03-11T23:05:07.108Z"
   },
   {
    "duration": 699,
    "start_time": "2025-03-11T23:05:07.117Z"
   },
   {
    "duration": 404,
    "start_time": "2025-03-11T23:05:07.817Z"
   },
   {
    "duration": 6,
    "start_time": "2025-03-11T23:05:08.222Z"
   },
   {
    "duration": 216,
    "start_time": "2025-03-11T23:05:08.231Z"
   },
   {
    "duration": 8,
    "start_time": "2025-03-11T23:05:08.448Z"
   },
   {
    "duration": 163797,
    "start_time": "2025-03-11T23:05:08.458Z"
   },
   {
    "duration": 11,
    "start_time": "2025-03-11T23:07:52.257Z"
   },
   {
    "duration": 162,
    "start_time": "2025-03-11T23:09:35.158Z"
   },
   {
    "duration": 157,
    "start_time": "2025-03-11T23:12:19.572Z"
   },
   {
    "duration": 165,
    "start_time": "2025-03-11T23:28:22.623Z"
   },
   {
    "duration": 826,
    "start_time": "2025-03-11T23:28:34.030Z"
   },
   {
    "duration": 29,
    "start_time": "2025-03-11T23:28:34.858Z"
   },
   {
    "duration": 13,
    "start_time": "2025-03-11T23:28:34.888Z"
   },
   {
    "duration": 11,
    "start_time": "2025-03-11T23:28:34.903Z"
   },
   {
    "duration": 21,
    "start_time": "2025-03-11T23:28:34.916Z"
   },
   {
    "duration": 10,
    "start_time": "2025-03-11T23:28:34.939Z"
   },
   {
    "duration": 42,
    "start_time": "2025-03-11T23:28:34.950Z"
   },
   {
    "duration": 16,
    "start_time": "2025-03-11T23:28:34.994Z"
   },
   {
    "duration": 7,
    "start_time": "2025-03-11T23:28:35.011Z"
   },
   {
    "duration": 3,
    "start_time": "2025-03-11T23:28:35.021Z"
   },
   {
    "duration": 6,
    "start_time": "2025-03-11T23:28:35.027Z"
   },
   {
    "duration": 6,
    "start_time": "2025-03-11T23:28:35.035Z"
   },
   {
    "duration": 3,
    "start_time": "2025-03-11T23:28:35.043Z"
   },
   {
    "duration": 6,
    "start_time": "2025-03-11T23:28:35.087Z"
   },
   {
    "duration": 8,
    "start_time": "2025-03-11T23:28:35.095Z"
   },
   {
    "duration": 7,
    "start_time": "2025-03-11T23:28:35.104Z"
   },
   {
    "duration": 3,
    "start_time": "2025-03-11T23:28:35.112Z"
   },
   {
    "duration": 4,
    "start_time": "2025-03-11T23:28:35.117Z"
   },
   {
    "duration": 11,
    "start_time": "2025-03-11T23:28:35.123Z"
   },
   {
    "duration": 11,
    "start_time": "2025-03-11T23:28:35.136Z"
   },
   {
    "duration": 44,
    "start_time": "2025-03-11T23:28:35.149Z"
   },
   {
    "duration": 144,
    "start_time": "2025-03-11T23:28:35.194Z"
   },
   {
    "duration": 211,
    "start_time": "2025-03-11T23:28:35.340Z"
   },
   {
    "duration": 7,
    "start_time": "2025-03-11T23:28:35.553Z"
   },
   {
    "duration": 344,
    "start_time": "2025-03-11T23:28:35.563Z"
   },
   {
    "duration": 4,
    "start_time": "2025-03-11T23:28:35.910Z"
   },
   {
    "duration": 4,
    "start_time": "2025-03-11T23:28:35.916Z"
   },
   {
    "duration": 690,
    "start_time": "2025-03-11T23:28:35.923Z"
   },
   {
    "duration": 355,
    "start_time": "2025-03-11T23:28:36.615Z"
   },
   {
    "duration": 7,
    "start_time": "2025-03-11T23:28:36.972Z"
   },
   {
    "duration": 221,
    "start_time": "2025-03-11T23:28:36.987Z"
   },
   {
    "duration": 6,
    "start_time": "2025-03-11T23:28:37.210Z"
   },
   {
    "duration": 168,
    "start_time": "2025-03-11T23:28:37.218Z"
   },
   {
    "duration": 10,
    "start_time": "2025-03-11T23:28:37.388Z"
   },
   {
    "duration": 146,
    "start_time": "2025-03-11T23:29:36.654Z"
   },
   {
    "duration": 13,
    "start_time": "2025-03-11T23:32:20.287Z"
   },
   {
    "duration": 238,
    "start_time": "2025-03-12T00:14:36.585Z"
   },
   {
    "duration": 7,
    "start_time": "2025-03-12T00:14:51.732Z"
   },
   {
    "duration": 832,
    "start_time": "2025-03-12T00:17:16.651Z"
   },
   {
    "duration": 25,
    "start_time": "2025-03-12T00:17:17.486Z"
   },
   {
    "duration": 13,
    "start_time": "2025-03-12T00:17:17.512Z"
   },
   {
    "duration": 10,
    "start_time": "2025-03-12T00:17:17.527Z"
   },
   {
    "duration": 22,
    "start_time": "2025-03-12T00:17:17.539Z"
   },
   {
    "duration": 33,
    "start_time": "2025-03-12T00:17:17.562Z"
   },
   {
    "duration": 15,
    "start_time": "2025-03-12T00:17:17.597Z"
   },
   {
    "duration": 16,
    "start_time": "2025-03-12T00:17:17.613Z"
   },
   {
    "duration": 7,
    "start_time": "2025-03-12T00:17:17.630Z"
   },
   {
    "duration": 3,
    "start_time": "2025-03-12T00:17:17.640Z"
   },
   {
    "duration": 42,
    "start_time": "2025-03-12T00:17:17.645Z"
   },
   {
    "duration": 8,
    "start_time": "2025-03-12T00:17:17.689Z"
   },
   {
    "duration": 3,
    "start_time": "2025-03-12T00:17:17.699Z"
   },
   {
    "duration": 7,
    "start_time": "2025-03-12T00:17:17.704Z"
   },
   {
    "duration": 8,
    "start_time": "2025-03-12T00:17:17.712Z"
   },
   {
    "duration": 6,
    "start_time": "2025-03-12T00:17:17.722Z"
   },
   {
    "duration": 4,
    "start_time": "2025-03-12T00:17:17.730Z"
   },
   {
    "duration": 4,
    "start_time": "2025-03-12T00:17:17.735Z"
   },
   {
    "duration": 52,
    "start_time": "2025-03-12T00:17:17.741Z"
   },
   {
    "duration": 13,
    "start_time": "2025-03-12T00:17:17.795Z"
   },
   {
    "duration": 12,
    "start_time": "2025-03-12T00:17:17.809Z"
   },
   {
    "duration": 160,
    "start_time": "2025-03-12T00:17:17.822Z"
   },
   {
    "duration": 244,
    "start_time": "2025-03-12T00:17:17.987Z"
   },
   {
    "duration": 7,
    "start_time": "2025-03-12T00:17:18.233Z"
   },
   {
    "duration": 334,
    "start_time": "2025-03-12T00:17:18.241Z"
   },
   {
    "duration": 4,
    "start_time": "2025-03-12T00:17:18.577Z"
   },
   {
    "duration": 4,
    "start_time": "2025-03-12T00:17:18.583Z"
   },
   {
    "duration": 710,
    "start_time": "2025-03-12T00:17:18.590Z"
   },
   {
    "duration": 356,
    "start_time": "2025-03-12T00:17:19.302Z"
   },
   {
    "duration": 6,
    "start_time": "2025-03-12T00:17:19.660Z"
   },
   {
    "duration": 238,
    "start_time": "2025-03-12T00:17:19.668Z"
   },
   {
    "duration": 6,
    "start_time": "2025-03-12T00:17:19.908Z"
   },
   {
    "duration": 145882,
    "start_time": "2025-03-12T00:17:19.915Z"
   },
   {
    "duration": 243,
    "start_time": "2025-03-12T00:19:45.799Z"
   },
   {
    "duration": 0,
    "start_time": "2025-03-12T00:19:46.044Z"
   },
   {
    "duration": 0,
    "start_time": "2025-03-12T00:19:46.045Z"
   },
   {
    "duration": 797,
    "start_time": "2025-03-12T00:24:00.478Z"
   },
   {
    "duration": 29,
    "start_time": "2025-03-12T00:24:01.278Z"
   },
   {
    "duration": 13,
    "start_time": "2025-03-12T00:24:01.308Z"
   },
   {
    "duration": 11,
    "start_time": "2025-03-12T00:24:01.323Z"
   },
   {
    "duration": 22,
    "start_time": "2025-03-12T00:24:01.337Z"
   },
   {
    "duration": 31,
    "start_time": "2025-03-12T00:24:01.360Z"
   },
   {
    "duration": 14,
    "start_time": "2025-03-12T00:24:01.392Z"
   },
   {
    "duration": 16,
    "start_time": "2025-03-12T00:24:01.407Z"
   },
   {
    "duration": 7,
    "start_time": "2025-03-12T00:24:01.424Z"
   },
   {
    "duration": 3,
    "start_time": "2025-03-12T00:24:01.433Z"
   },
   {
    "duration": 9,
    "start_time": "2025-03-12T00:24:01.438Z"
   },
   {
    "duration": 44,
    "start_time": "2025-03-12T00:24:01.449Z"
   },
   {
    "duration": 4,
    "start_time": "2025-03-12T00:24:01.495Z"
   },
   {
    "duration": 6,
    "start_time": "2025-03-12T00:24:01.504Z"
   },
   {
    "duration": 7,
    "start_time": "2025-03-12T00:24:01.512Z"
   },
   {
    "duration": 8,
    "start_time": "2025-03-12T00:24:01.520Z"
   },
   {
    "duration": 3,
    "start_time": "2025-03-12T00:24:01.530Z"
   },
   {
    "duration": 4,
    "start_time": "2025-03-12T00:24:01.535Z"
   },
   {
    "duration": 57,
    "start_time": "2025-03-12T00:24:01.540Z"
   },
   {
    "duration": 12,
    "start_time": "2025-03-12T00:24:01.599Z"
   },
   {
    "duration": 12,
    "start_time": "2025-03-12T00:24:01.613Z"
   },
   {
    "duration": 166,
    "start_time": "2025-03-12T00:24:01.627Z"
   },
   {
    "duration": 224,
    "start_time": "2025-03-12T00:24:01.795Z"
   },
   {
    "duration": 6,
    "start_time": "2025-03-12T00:24:02.022Z"
   },
   {
    "duration": 325,
    "start_time": "2025-03-12T00:24:02.030Z"
   },
   {
    "duration": 5,
    "start_time": "2025-03-12T00:24:02.358Z"
   },
   {
    "duration": 4,
    "start_time": "2025-03-12T00:24:02.365Z"
   },
   {
    "duration": 756,
    "start_time": "2025-03-12T00:24:02.370Z"
   },
   {
    "duration": 397,
    "start_time": "2025-03-12T00:24:03.128Z"
   },
   {
    "duration": 6,
    "start_time": "2025-03-12T00:24:03.527Z"
   },
   {
    "duration": 230,
    "start_time": "2025-03-12T00:24:03.535Z"
   },
   {
    "duration": 7,
    "start_time": "2025-03-12T00:24:03.767Z"
   },
   {
    "duration": 256,
    "start_time": "2025-03-12T00:26:29.026Z"
   },
   {
    "duration": 0,
    "start_time": "2025-03-12T00:26:29.286Z"
   },
   {
    "duration": 0,
    "start_time": "2025-03-12T00:26:29.288Z"
   },
   {
    "duration": 0,
    "start_time": "2025-03-12T00:26:29.292Z"
   },
   {
    "duration": 0,
    "start_time": "2025-03-12T00:26:29.293Z"
   },
   {
    "duration": 150,
    "start_time": "2025-03-12T00:26:31.892Z"
   },
   {
    "duration": 6,
    "start_time": "2025-03-12T00:26:35.747Z"
   },
   {
    "duration": 5,
    "start_time": "2025-03-12T00:26:35.791Z"
   },
   {
    "duration": 820,
    "start_time": "2025-03-12T00:29:37.075Z"
   },
   {
    "duration": 27,
    "start_time": "2025-03-12T00:29:37.897Z"
   },
   {
    "duration": 14,
    "start_time": "2025-03-12T00:29:37.926Z"
   },
   {
    "duration": 12,
    "start_time": "2025-03-12T00:29:37.941Z"
   },
   {
    "duration": 43,
    "start_time": "2025-03-12T00:29:37.957Z"
   },
   {
    "duration": 10,
    "start_time": "2025-03-12T00:29:38.002Z"
   },
   {
    "duration": 14,
    "start_time": "2025-03-12T00:29:38.014Z"
   },
   {
    "duration": 16,
    "start_time": "2025-03-12T00:29:38.030Z"
   },
   {
    "duration": 7,
    "start_time": "2025-03-12T00:29:38.048Z"
   },
   {
    "duration": 4,
    "start_time": "2025-03-12T00:29:38.086Z"
   },
   {
    "duration": 7,
    "start_time": "2025-03-12T00:29:38.092Z"
   },
   {
    "duration": 8,
    "start_time": "2025-03-12T00:29:38.101Z"
   },
   {
    "duration": 4,
    "start_time": "2025-03-12T00:29:38.110Z"
   },
   {
    "duration": 9,
    "start_time": "2025-03-12T00:29:38.119Z"
   },
   {
    "duration": 9,
    "start_time": "2025-03-12T00:29:38.129Z"
   },
   {
    "duration": 51,
    "start_time": "2025-03-12T00:29:38.140Z"
   },
   {
    "duration": 4,
    "start_time": "2025-03-12T00:29:38.193Z"
   },
   {
    "duration": 4,
    "start_time": "2025-03-12T00:29:38.198Z"
   },
   {
    "duration": 12,
    "start_time": "2025-03-12T00:29:38.204Z"
   },
   {
    "duration": 13,
    "start_time": "2025-03-12T00:29:38.217Z"
   },
   {
    "duration": 11,
    "start_time": "2025-03-12T00:29:38.233Z"
   },
   {
    "duration": 171,
    "start_time": "2025-03-12T00:29:38.246Z"
   },
   {
    "duration": 222,
    "start_time": "2025-03-12T00:29:38.419Z"
   },
   {
    "duration": 7,
    "start_time": "2025-03-12T00:29:38.644Z"
   },
   {
    "duration": 350,
    "start_time": "2025-03-12T00:29:38.654Z"
   },
   {
    "duration": 6,
    "start_time": "2025-03-12T00:29:39.006Z"
   },
   {
    "duration": 4,
    "start_time": "2025-03-12T00:29:39.015Z"
   },
   {
    "duration": 744,
    "start_time": "2025-03-12T00:29:39.021Z"
   },
   {
    "duration": 366,
    "start_time": "2025-03-12T00:29:39.768Z"
   },
   {
    "duration": 7,
    "start_time": "2025-03-12T00:29:40.136Z"
   },
   {
    "duration": 245,
    "start_time": "2025-03-12T00:29:40.144Z"
   },
   {
    "duration": 6,
    "start_time": "2025-03-12T00:29:40.391Z"
   },
   {
    "duration": 173,
    "start_time": "2025-03-12T00:29:40.398Z"
   },
   {
    "duration": 230,
    "start_time": "2025-03-12T00:29:40.572Z"
   },
   {
    "duration": 0,
    "start_time": "2025-03-12T00:29:40.804Z"
   },
   {
    "duration": 0,
    "start_time": "2025-03-12T00:29:40.806Z"
   },
   {
    "duration": 18,
    "start_time": "2025-03-12T00:30:24.263Z"
   },
   {
    "duration": 6,
    "start_time": "2025-03-12T00:30:34.325Z"
   },
   {
    "duration": 171,
    "start_time": "2025-03-12T00:30:36.509Z"
   },
   {
    "duration": 164,
    "start_time": "2025-03-12T00:30:48.472Z"
   },
   {
    "duration": 166,
    "start_time": "2025-03-12T00:30:59.604Z"
   },
   {
    "duration": 161,
    "start_time": "2025-03-12T00:31:09.812Z"
   },
   {
    "duration": 171,
    "start_time": "2025-03-12T00:31:17.417Z"
   },
   {
    "duration": 238,
    "start_time": "2025-03-12T00:31:27.189Z"
   },
   {
    "duration": 149,
    "start_time": "2025-03-12T00:31:40.558Z"
   },
   {
    "duration": 148,
    "start_time": "2025-03-12T00:31:51.646Z"
   },
   {
    "duration": 155,
    "start_time": "2025-03-12T00:32:18.762Z"
   },
   {
    "duration": 160,
    "start_time": "2025-03-12T00:32:31.800Z"
   },
   {
    "duration": 832,
    "start_time": "2025-03-12T00:32:44.552Z"
   },
   {
    "duration": 25,
    "start_time": "2025-03-12T00:32:45.386Z"
   },
   {
    "duration": 13,
    "start_time": "2025-03-12T00:32:45.413Z"
   },
   {
    "duration": 11,
    "start_time": "2025-03-12T00:32:45.429Z"
   },
   {
    "duration": 23,
    "start_time": "2025-03-12T00:32:45.442Z"
   },
   {
    "duration": 11,
    "start_time": "2025-03-12T00:32:45.487Z"
   },
   {
    "duration": 14,
    "start_time": "2025-03-12T00:32:45.500Z"
   },
   {
    "duration": 17,
    "start_time": "2025-03-12T00:32:45.516Z"
   },
   {
    "duration": 7,
    "start_time": "2025-03-12T00:32:45.534Z"
   },
   {
    "duration": 3,
    "start_time": "2025-03-12T00:32:45.545Z"
   },
   {
    "duration": 43,
    "start_time": "2025-03-12T00:32:45.550Z"
   },
   {
    "duration": 7,
    "start_time": "2025-03-12T00:32:45.595Z"
   },
   {
    "duration": 3,
    "start_time": "2025-03-12T00:32:45.604Z"
   },
   {
    "duration": 7,
    "start_time": "2025-03-12T00:32:45.608Z"
   },
   {
    "duration": 7,
    "start_time": "2025-03-12T00:32:45.616Z"
   },
   {
    "duration": 7,
    "start_time": "2025-03-12T00:32:45.625Z"
   },
   {
    "duration": 4,
    "start_time": "2025-03-12T00:32:45.634Z"
   },
   {
    "duration": 4,
    "start_time": "2025-03-12T00:32:45.639Z"
   },
   {
    "duration": 52,
    "start_time": "2025-03-12T00:32:45.645Z"
   },
   {
    "duration": 15,
    "start_time": "2025-03-12T00:32:45.699Z"
   },
   {
    "duration": 14,
    "start_time": "2025-03-12T00:32:45.715Z"
   },
   {
    "duration": 159,
    "start_time": "2025-03-12T00:32:45.731Z"
   },
   {
    "duration": 216,
    "start_time": "2025-03-12T00:32:45.893Z"
   },
   {
    "duration": 7,
    "start_time": "2025-03-12T00:32:46.111Z"
   },
   {
    "duration": 347,
    "start_time": "2025-03-12T00:32:46.120Z"
   },
   {
    "duration": 5,
    "start_time": "2025-03-12T00:32:46.469Z"
   },
   {
    "duration": 4,
    "start_time": "2025-03-12T00:32:46.475Z"
   },
   {
    "duration": 728,
    "start_time": "2025-03-12T00:32:46.488Z"
   },
   {
    "duration": 390,
    "start_time": "2025-03-12T00:32:47.219Z"
   },
   {
    "duration": 7,
    "start_time": "2025-03-12T00:32:47.611Z"
   },
   {
    "duration": 242,
    "start_time": "2025-03-12T00:32:47.620Z"
   },
   {
    "duration": 7,
    "start_time": "2025-03-12T00:32:47.865Z"
   },
   {
    "duration": 179,
    "start_time": "2025-03-12T00:32:47.874Z"
   },
   {
    "duration": 7,
    "start_time": "2025-03-12T00:32:48.055Z"
   },
   {
    "duration": 182,
    "start_time": "2025-03-12T00:32:48.063Z"
   },
   {
    "duration": 151,
    "start_time": "2025-03-12T00:32:59.722Z"
   },
   {
    "duration": 12,
    "start_time": "2025-03-12T00:35:08.918Z"
   },
   {
    "duration": 169,
    "start_time": "2025-03-12T00:36:21.535Z"
   },
   {
    "duration": 835,
    "start_time": "2025-03-12T00:45:34.146Z"
   },
   {
    "duration": 27,
    "start_time": "2025-03-12T00:45:34.983Z"
   },
   {
    "duration": 14,
    "start_time": "2025-03-12T00:45:35.012Z"
   },
   {
    "duration": 13,
    "start_time": "2025-03-12T00:45:35.027Z"
   },
   {
    "duration": 23,
    "start_time": "2025-03-12T00:45:35.042Z"
   },
   {
    "duration": 12,
    "start_time": "2025-03-12T00:45:35.087Z"
   },
   {
    "duration": 14,
    "start_time": "2025-03-12T00:45:35.100Z"
   },
   {
    "duration": 15,
    "start_time": "2025-03-12T00:45:35.116Z"
   },
   {
    "duration": 7,
    "start_time": "2025-03-12T00:45:35.133Z"
   },
   {
    "duration": 3,
    "start_time": "2025-03-12T00:45:35.142Z"
   },
   {
    "duration": 41,
    "start_time": "2025-03-12T00:45:35.146Z"
   },
   {
    "duration": 9,
    "start_time": "2025-03-12T00:45:35.189Z"
   },
   {
    "duration": 4,
    "start_time": "2025-03-12T00:45:35.199Z"
   },
   {
    "duration": 7,
    "start_time": "2025-03-12T00:45:35.208Z"
   },
   {
    "duration": 7,
    "start_time": "2025-03-12T00:45:35.217Z"
   },
   {
    "duration": 7,
    "start_time": "2025-03-12T00:45:35.225Z"
   },
   {
    "duration": 3,
    "start_time": "2025-03-12T00:45:35.235Z"
   },
   {
    "duration": 4,
    "start_time": "2025-03-12T00:45:35.240Z"
   },
   {
    "duration": 51,
    "start_time": "2025-03-12T00:45:35.246Z"
   },
   {
    "duration": 11,
    "start_time": "2025-03-12T00:45:35.299Z"
   },
   {
    "duration": 11,
    "start_time": "2025-03-12T00:45:35.312Z"
   },
   {
    "duration": 153,
    "start_time": "2025-03-12T00:45:35.325Z"
   },
   {
    "duration": 218,
    "start_time": "2025-03-12T00:45:35.486Z"
   },
   {
    "duration": 9,
    "start_time": "2025-03-12T00:45:35.706Z"
   },
   {
    "duration": 351,
    "start_time": "2025-03-12T00:45:35.716Z"
   },
   {
    "duration": 5,
    "start_time": "2025-03-12T00:45:36.069Z"
   },
   {
    "duration": 3,
    "start_time": "2025-03-12T00:45:36.076Z"
   },
   {
    "duration": 763,
    "start_time": "2025-03-12T00:45:36.081Z"
   },
   {
    "duration": 383,
    "start_time": "2025-03-12T00:45:36.847Z"
   },
   {
    "duration": 7,
    "start_time": "2025-03-12T00:45:37.232Z"
   },
   {
    "duration": 241,
    "start_time": "2025-03-12T00:45:37.240Z"
   },
   {
    "duration": 6,
    "start_time": "2025-03-12T00:45:37.487Z"
   },
   {
    "duration": 163,
    "start_time": "2025-03-12T00:45:37.495Z"
   },
   {
    "duration": 7,
    "start_time": "2025-03-12T00:45:37.660Z"
   },
   {
    "duration": 168,
    "start_time": "2025-03-12T00:45:37.669Z"
   },
   {
    "duration": 12,
    "start_time": "2025-03-12T00:45:37.840Z"
   },
   {
    "duration": 192,
    "start_time": "2025-03-12T00:45:37.854Z"
   },
   {
    "duration": 2,
    "start_time": "2025-03-12T00:51:12.150Z"
   },
   {
    "duration": 157,
    "start_time": "2025-03-12T01:03:37.871Z"
   },
   {
    "duration": 616,
    "start_time": "2025-03-12T01:04:24.015Z"
   },
   {
    "duration": 127,
    "start_time": "2025-03-12T01:04:48.703Z"
   },
   {
    "duration": 745,
    "start_time": "2025-03-12T01:05:07.489Z"
   },
   {
    "duration": 639,
    "start_time": "2025-03-12T01:05:21.692Z"
   },
   {
    "duration": 561,
    "start_time": "2025-03-12T01:09:56.530Z"
   },
   {
    "duration": 13,
    "start_time": "2025-03-12T01:10:33.443Z"
   },
   {
    "duration": 642,
    "start_time": "2025-03-12T01:10:38.784Z"
   },
   {
    "duration": 9,
    "start_time": "2025-03-12T01:12:02.057Z"
   },
   {
    "duration": 181,
    "start_time": "2025-03-12T01:12:05.825Z"
   },
   {
    "duration": 13,
    "start_time": "2025-03-12T01:12:31.342Z"
   },
   {
    "duration": 558,
    "start_time": "2025-03-12T01:12:33.310Z"
   },
   {
    "duration": 398,
    "start_time": "2025-03-12T01:12:39.709Z"
   },
   {
    "duration": 9,
    "start_time": "2025-03-12T01:12:58.575Z"
   },
   {
    "duration": 336,
    "start_time": "2025-03-12T01:13:02.645Z"
   },
   {
    "duration": 260,
    "start_time": "2025-03-12T01:13:13.266Z"
   },
   {
    "duration": 243,
    "start_time": "2025-03-12T01:15:25.155Z"
   },
   {
    "duration": 247,
    "start_time": "2025-03-12T01:15:34.349Z"
   },
   {
    "duration": 252,
    "start_time": "2025-03-12T01:15:38.821Z"
   },
   {
    "duration": 244,
    "start_time": "2025-03-12T01:15:42.729Z"
   },
   {
    "duration": 20,
    "start_time": "2025-03-12T01:16:12.568Z"
   },
   {
    "duration": 19,
    "start_time": "2025-03-12T01:17:22.508Z"
   },
   {
    "duration": 18,
    "start_time": "2025-03-12T01:17:25.859Z"
   },
   {
    "duration": 19,
    "start_time": "2025-03-12T01:17:35.620Z"
   },
   {
    "duration": 19,
    "start_time": "2025-03-12T01:17:50.421Z"
   },
   {
    "duration": 18,
    "start_time": "2025-03-12T01:17:58.335Z"
   },
   {
    "duration": 13,
    "start_time": "2025-03-12T01:18:31.165Z"
   },
   {
    "duration": 662,
    "start_time": "2025-03-12T01:18:33.555Z"
   },
   {
    "duration": 10,
    "start_time": "2025-03-12T01:19:06.064Z"
   },
   {
    "duration": 243,
    "start_time": "2025-03-12T01:19:10.593Z"
   },
   {
    "duration": 12,
    "start_time": "2025-03-12T01:20:20.741Z"
   },
   {
    "duration": 547,
    "start_time": "2025-03-12T01:20:22.790Z"
   },
   {
    "duration": 11,
    "start_time": "2025-03-12T01:21:34.929Z"
   },
   {
    "duration": 342,
    "start_time": "2025-03-12T01:21:37.066Z"
   },
   {
    "duration": 3,
    "start_time": "2025-03-12T01:26:33.223Z"
   },
   {
    "duration": 3,
    "start_time": "2025-03-12T01:28:56.220Z"
   },
   {
    "duration": 22,
    "start_time": "2025-03-12T01:29:00.458Z"
   },
   {
    "duration": 7,
    "start_time": "2025-03-12T01:29:24.729Z"
   },
   {
    "duration": 9,
    "start_time": "2025-03-12T01:29:45.994Z"
   },
   {
    "duration": 8,
    "start_time": "2025-03-12T01:52:41.594Z"
   },
   {
    "duration": 505,
    "start_time": "2025-03-12T01:54:27.220Z"
   },
   {
    "duration": 44,
    "start_time": "2025-03-12T01:54:40.079Z"
   },
   {
    "duration": 6,
    "start_time": "2025-03-12T01:54:45.855Z"
   },
   {
    "duration": 22,
    "start_time": "2025-03-12T01:55:36.336Z"
   },
   {
    "duration": 2,
    "start_time": "2025-03-12T01:56:19.551Z"
   },
   {
    "duration": 9,
    "start_time": "2025-03-12T01:56:23.872Z"
   },
   {
    "duration": 5,
    "start_time": "2025-03-12T01:58:21.939Z"
   },
   {
    "duration": 8,
    "start_time": "2025-03-12T01:59:46.915Z"
   },
   {
    "duration": 9,
    "start_time": "2025-03-12T02:02:04.343Z"
   },
   {
    "duration": 8,
    "start_time": "2025-03-12T02:04:18.754Z"
   },
   {
    "duration": 8,
    "start_time": "2025-03-12T02:10:22.427Z"
   },
   {
    "duration": 8,
    "start_time": "2025-03-12T02:12:49.387Z"
   },
   {
    "duration": 900,
    "start_time": "2025-03-12T02:33:51.539Z"
   },
   {
    "duration": 34,
    "start_time": "2025-03-12T02:33:52.443Z"
   },
   {
    "duration": 15,
    "start_time": "2025-03-12T02:33:52.478Z"
   },
   {
    "duration": 14,
    "start_time": "2025-03-12T02:33:52.496Z"
   },
   {
    "duration": 22,
    "start_time": "2025-03-12T02:33:52.512Z"
   },
   {
    "duration": 12,
    "start_time": "2025-03-12T02:33:52.535Z"
   },
   {
    "duration": 38,
    "start_time": "2025-03-12T02:33:52.548Z"
   },
   {
    "duration": 17,
    "start_time": "2025-03-12T02:33:52.588Z"
   },
   {
    "duration": 4,
    "start_time": "2025-03-12T02:33:52.607Z"
   },
   {
    "duration": 7,
    "start_time": "2025-03-12T02:33:52.613Z"
   },
   {
    "duration": 8,
    "start_time": "2025-03-12T02:33:52.621Z"
   },
   {
    "duration": 4,
    "start_time": "2025-03-12T02:33:52.630Z"
   },
   {
    "duration": 8,
    "start_time": "2025-03-12T02:33:52.636Z"
   },
   {
    "duration": 43,
    "start_time": "2025-03-12T02:33:52.648Z"
   },
   {
    "duration": 7,
    "start_time": "2025-03-12T02:33:52.693Z"
   },
   {
    "duration": 3,
    "start_time": "2025-03-12T02:33:52.702Z"
   },
   {
    "duration": 5,
    "start_time": "2025-03-12T02:33:52.707Z"
   },
   {
    "duration": 11,
    "start_time": "2025-03-12T02:33:52.714Z"
   },
   {
    "duration": 13,
    "start_time": "2025-03-12T02:33:52.726Z"
   },
   {
    "duration": 46,
    "start_time": "2025-03-12T02:33:52.741Z"
   },
   {
    "duration": 150,
    "start_time": "2025-03-12T02:33:52.789Z"
   },
   {
    "duration": 244,
    "start_time": "2025-03-12T02:33:52.942Z"
   },
   {
    "duration": 13,
    "start_time": "2025-03-12T02:33:53.191Z"
   },
   {
    "duration": 365,
    "start_time": "2025-03-12T02:33:53.206Z"
   },
   {
    "duration": 4,
    "start_time": "2025-03-12T02:33:53.573Z"
   },
   {
    "duration": 3,
    "start_time": "2025-03-12T02:33:53.579Z"
   },
   {
    "duration": 745,
    "start_time": "2025-03-12T02:33:53.586Z"
   },
   {
    "duration": 411,
    "start_time": "2025-03-12T02:33:54.333Z"
   },
   {
    "duration": 6,
    "start_time": "2025-03-12T02:33:54.746Z"
   },
   {
    "duration": 10,
    "start_time": "2025-03-12T02:33:54.754Z"
   },
   {
    "duration": 471,
    "start_time": "2025-03-12T02:33:54.765Z"
   },
   {
    "duration": 171,
    "start_time": "2025-03-12T02:33:55.238Z"
   },
   {
    "duration": 5,
    "start_time": "2025-03-12T02:33:55.411Z"
   },
   {
    "duration": 162,
    "start_time": "2025-03-12T02:33:55.418Z"
   },
   {
    "duration": 8,
    "start_time": "2025-03-12T02:33:55.586Z"
   },
   {
    "duration": 170,
    "start_time": "2025-03-12T02:33:55.595Z"
   },
   {
    "duration": 171,
    "start_time": "2025-03-12T02:33:55.768Z"
   },
   {
    "duration": 8,
    "start_time": "2025-03-12T02:33:55.940Z"
   },
   {
    "duration": 5,
    "start_time": "2025-03-12T02:33:55.950Z"
   },
   {
    "duration": 5,
    "start_time": "2025-03-12T02:33:55.957Z"
   },
   {
    "duration": 9,
    "start_time": "2025-03-12T02:33:55.987Z"
   },
   {
    "duration": 8,
    "start_time": "2025-03-12T02:34:22.370Z"
   },
   {
    "duration": 156,
    "start_time": "2025-03-12T16:25:57.862Z"
   },
   {
    "duration": 2587,
    "start_time": "2025-03-12T16:26:06.366Z"
   },
   {
    "duration": 35,
    "start_time": "2025-03-12T16:26:08.955Z"
   },
   {
    "duration": 13,
    "start_time": "2025-03-12T16:26:08.992Z"
   },
   {
    "duration": 17,
    "start_time": "2025-03-12T16:26:09.007Z"
   },
   {
    "duration": 21,
    "start_time": "2025-03-12T16:26:09.025Z"
   },
   {
    "duration": 10,
    "start_time": "2025-03-12T16:26:09.048Z"
   },
   {
    "duration": 14,
    "start_time": "2025-03-12T16:26:09.059Z"
   },
   {
    "duration": 17,
    "start_time": "2025-03-12T16:26:09.074Z"
   },
   {
    "duration": 3,
    "start_time": "2025-03-12T16:26:09.092Z"
   },
   {
    "duration": 8,
    "start_time": "2025-03-12T16:26:09.127Z"
   },
   {
    "duration": 8,
    "start_time": "2025-03-12T16:26:09.136Z"
   },
   {
    "duration": 3,
    "start_time": "2025-03-12T16:26:09.146Z"
   },
   {
    "duration": 7,
    "start_time": "2025-03-12T16:26:09.151Z"
   },
   {
    "duration": 6,
    "start_time": "2025-03-12T16:26:09.160Z"
   },
   {
    "duration": 9,
    "start_time": "2025-03-12T16:26:09.168Z"
   },
   {
    "duration": 4,
    "start_time": "2025-03-12T16:26:09.178Z"
   },
   {
    "duration": 4,
    "start_time": "2025-03-12T16:26:09.227Z"
   },
   {
    "duration": 12,
    "start_time": "2025-03-12T16:26:09.233Z"
   },
   {
    "duration": 11,
    "start_time": "2025-03-12T16:26:09.247Z"
   },
   {
    "duration": 12,
    "start_time": "2025-03-12T16:26:09.259Z"
   },
   {
    "duration": 157,
    "start_time": "2025-03-12T16:26:09.272Z"
   },
   {
    "duration": 212,
    "start_time": "2025-03-12T16:26:09.431Z"
   },
   {
    "duration": 6,
    "start_time": "2025-03-12T16:26:09.645Z"
   },
   {
    "duration": 288,
    "start_time": "2025-03-12T16:26:09.653Z"
   },
   {
    "duration": 4,
    "start_time": "2025-03-12T16:26:09.943Z"
   },
   {
    "duration": 4,
    "start_time": "2025-03-12T16:26:09.949Z"
   },
   {
    "duration": 502,
    "start_time": "2025-03-12T16:26:09.954Z"
   },
   {
    "duration": 291,
    "start_time": "2025-03-12T16:26:10.459Z"
   },
   {
    "duration": 6,
    "start_time": "2025-03-12T16:26:10.752Z"
   },
   {
    "duration": 11,
    "start_time": "2025-03-12T16:26:10.760Z"
   },
   {
    "duration": 358,
    "start_time": "2025-03-12T16:26:10.773Z"
   },
   {
    "duration": 164,
    "start_time": "2025-03-12T16:26:11.132Z"
   },
   {
    "duration": 7,
    "start_time": "2025-03-12T16:26:11.298Z"
   },
   {
    "duration": 157,
    "start_time": "2025-03-12T16:26:11.306Z"
   },
   {
    "duration": 5,
    "start_time": "2025-03-12T16:26:11.464Z"
   },
   {
    "duration": 228,
    "start_time": "2025-03-12T16:26:11.471Z"
   },
   {
    "duration": 154,
    "start_time": "2025-03-12T16:26:11.701Z"
   },
   {
    "duration": 7,
    "start_time": "2025-03-12T16:26:11.857Z"
   },
   {
    "duration": 6,
    "start_time": "2025-03-12T16:26:11.866Z"
   },
   {
    "duration": 234,
    "start_time": "2025-03-12T16:34:15.190Z"
   },
   {
    "duration": 392,
    "start_time": "2025-03-12T16:34:40.895Z"
   },
   {
    "duration": 360,
    "start_time": "2025-03-12T16:37:20.788Z"
   },
   {
    "duration": 6,
    "start_time": "2025-03-12T16:38:42.817Z"
   },
   {
    "duration": 358,
    "start_time": "2025-03-12T16:48:27.078Z"
   },
   {
    "duration": 216,
    "start_time": "2025-03-12T16:50:31.553Z"
   },
   {
    "duration": 143,
    "start_time": "2025-03-12T16:52:12.518Z"
   },
   {
    "duration": 145,
    "start_time": "2025-03-12T16:56:13.567Z"
   },
   {
    "duration": 143,
    "start_time": "2025-03-12T16:56:24.461Z"
   },
   {
    "duration": 142,
    "start_time": "2025-03-12T17:00:00.495Z"
   },
   {
    "duration": 151,
    "start_time": "2025-03-12T17:00:15.668Z"
   },
   {
    "duration": 184,
    "start_time": "2025-03-12T17:20:50.732Z"
   },
   {
    "duration": 196,
    "start_time": "2025-03-12T17:27:16.111Z"
   },
   {
    "duration": 201,
    "start_time": "2025-03-12T17:27:41.235Z"
   },
   {
    "duration": 203,
    "start_time": "2025-03-12T17:27:48.236Z"
   },
   {
    "duration": 7,
    "start_time": "2025-03-12T17:40:22.064Z"
   },
   {
    "duration": 7,
    "start_time": "2025-03-12T17:40:33.128Z"
   }
  ],
  "kernelspec": {
   "display_name": "base",
   "language": "python",
   "name": "python3"
  },
  "language_info": {
   "codemirror_mode": {
    "name": "ipython",
    "version": 3
   },
   "file_extension": ".py",
   "mimetype": "text/x-python",
   "name": "python",
   "nbconvert_exporter": "python",
   "pygments_lexer": "ipython3",
   "version": "3.12.7"
  },
  "toc": {
   "base_numbering": 1,
   "nav_menu": {},
   "number_sections": true,
   "sideBar": true,
   "skip_h1_title": true,
   "title_cell": "Table of Contents",
   "title_sidebar": "Contents",
   "toc_cell": false,
   "toc_position": {},
   "toc_section_display": true,
   "toc_window_display": false
  }
 },
 "nbformat": 4,
 "nbformat_minor": 2
}
